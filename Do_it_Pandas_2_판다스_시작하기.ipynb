{
  "nbformat": 4,
  "nbformat_minor": 0,
  "metadata": {
    "colab": {
      "name": "Do_it_Pandas_2. 판다스 시작하기.ipynb",
      "provenance": [],
      "collapsed_sections": [],
      "mount_file_id": "1GY6xX2IY_i1qqoom7UiwstvjhN1NbbcA",
      "authorship_tag": "ABX9TyNCW5NYn1Bp8NSVR9ZdYoEZ",
      "include_colab_link": true
    },
    "kernelspec": {
      "name": "python3",
      "display_name": "Python 3"
    }
  },
  "cells": [
    {
      "cell_type": "markdown",
      "metadata": {
        "id": "view-in-github",
        "colab_type": "text"
      },
      "source": [
        "<a href=\"https://colab.research.google.com/github/dianakang/DIANA_Pandas/blob/master/Do_it_Pandas_2_%ED%8C%90%EB%8B%A4%EC%8A%A4_%EC%8B%9C%EC%9E%91%ED%95%98%EA%B8%B0.ipynb\" target=\"_parent\"><img src=\"https://colab.research.google.com/assets/colab-badge.svg\" alt=\"Open In Colab\"/></a>"
      ]
    },
    {
      "cell_type": "markdown",
      "metadata": {
        "id": "K0d-k3noi1yn"
      },
      "source": [
        "# 2. 판다스 시작하기"
      ]
    },
    {
      "cell_type": "markdown",
      "metadata": {
        "id": "DhDRz1l8TXit"
      },
      "source": [
        "판다스(Pandas)는 데이터프레임과 시리즈라는 자료형과 데이터 분석을 위한 다양한 기능을 제공하는 파이썬 라이브러리이다. \n",
        "\n",
        "\n",
        "\n",
        "\n",
        "이번 2단원에서는 그 중에서도 ***데이터 집합을 불러오는 방법***과 ***데이터를 추출하는 방법*** 등을 알아보자!"
      ]
    },
    {
      "cell_type": "markdown",
      "metadata": {
        "id": "hlU1-vEUi5mH"
      },
      "source": [
        "## 2.1. 데이터 집합 불러오기"
      ]
    },
    {
      "cell_type": "markdown",
      "metadata": {
        "id": "pxlh7L7-i-Do"
      },
      "source": [
        "### 2.1.1. 데이터 불러오기"
      ]
    },
    {
      "cell_type": "markdown",
      "metadata": {
        "id": "8ITiL__NjC83"
      },
      "source": [
        "데이터 분석을 위해 가장 먼저 해야 할 일은 '데이터를 불러오는 것'이다. 이때 불러오는 데이터를 '데이터 집합'이라고 한다. "
      ]
    },
    {
      "cell_type": "code",
      "metadata": {
        "id": "zXBot10haISm"
      },
      "source": [
        "#  판다스 라이브러리 불러와서 pd로 선언\n",
        "import pandas as pd"
      ],
      "execution_count": 1,
      "outputs": []
    },
    {
      "cell_type": "code",
      "metadata": {
        "id": "hq65slUFadP7"
      },
      "source": [
        "# 데이터 집합 불러오기\n",
        "df = pd.read_csv('/content/drive/MyDrive/pandas/doit_pandas-master/data/gapminder.tsv',sep='\\t')"
      ],
      "execution_count": 2,
      "outputs": []
    },
    {
      "cell_type": "markdown",
      "metadata": {
        "id": "TR4tWIzfjLg2"
      },
      "source": [
        "\n",
        "\n",
        "*   데이터 집합을 불러오려면 read_csv 메서드를 사용해야 한다. read_csv 메서드는 기본적으로 쉼표(,)로 열이 구분되어 있는 데이터를 불러온다. \n",
        "*   하지만 데이터 집합이 tab(탭)으로 구분되어 있는 경우, read_csv 메서드를 호출할 때 열이 탭으로 구분되어 있다고 미리 알려줘야한다. \n",
        "\n"
      ]
    },
    {
      "cell_type": "markdown",
      "metadata": {
        "id": "GhTvFRVEjWg9"
      },
      "source": [
        "### 2.1.2. 시리즈와 데이터 프레임"
      ]
    },
    {
      "cell_type": "markdown",
      "metadata": {
        "id": "47uYW_9Bjc83"
      },
      "source": [
        "판다스는 데이터를 효율적으로 다루기 위해 시리즈(Series)와 데이터프레임(DataFrame)이라는 자료형을 사용한다. 데이터프레임(DataFrame)은 엑셀의 시트(Sheet)와 동일한 개념이며, 시리즈(Series)는 시트의 열 1개를 의미한다. \n",
        "\n",
        "\n",
        "데이터프레임에는 데이터 분석에 유용한 여러 메서드가 미리 정의되어 있다.  가장 먼저, 데이터프레임의 데이터를 확인하기 위해 head 메서드를 사용해보자. "
      ]
    },
    {
      "cell_type": "code",
      "metadata": {
        "colab": {
          "base_uri": "https://localhost:8080/",
          "height": 204
        },
        "id": "XCP_k3-kadYD",
        "outputId": "43f97ace-6dea-4928-d79a-58d9260bc691"
      },
      "source": [
        "# 불러온 데이터 집합 살펴보기\n",
        "df.head()"
      ],
      "execution_count": 6,
      "outputs": [
        {
          "output_type": "execute_result",
          "data": {
            "text/html": [
              "<div>\n",
              "<style scoped>\n",
              "    .dataframe tbody tr th:only-of-type {\n",
              "        vertical-align: middle;\n",
              "    }\n",
              "\n",
              "    .dataframe tbody tr th {\n",
              "        vertical-align: top;\n",
              "    }\n",
              "\n",
              "    .dataframe thead th {\n",
              "        text-align: right;\n",
              "    }\n",
              "</style>\n",
              "<table border=\"1\" class=\"dataframe\">\n",
              "  <thead>\n",
              "    <tr style=\"text-align: right;\">\n",
              "      <th></th>\n",
              "      <th>country</th>\n",
              "      <th>continent</th>\n",
              "      <th>year</th>\n",
              "      <th>lifeExp</th>\n",
              "      <th>pop</th>\n",
              "      <th>gdpPercap</th>\n",
              "    </tr>\n",
              "  </thead>\n",
              "  <tbody>\n",
              "    <tr>\n",
              "      <th>0</th>\n",
              "      <td>Afghanistan</td>\n",
              "      <td>Asia</td>\n",
              "      <td>1952</td>\n",
              "      <td>28.801</td>\n",
              "      <td>8425333</td>\n",
              "      <td>779.445314</td>\n",
              "    </tr>\n",
              "    <tr>\n",
              "      <th>1</th>\n",
              "      <td>Afghanistan</td>\n",
              "      <td>Asia</td>\n",
              "      <td>1957</td>\n",
              "      <td>30.332</td>\n",
              "      <td>9240934</td>\n",
              "      <td>820.853030</td>\n",
              "    </tr>\n",
              "    <tr>\n",
              "      <th>2</th>\n",
              "      <td>Afghanistan</td>\n",
              "      <td>Asia</td>\n",
              "      <td>1962</td>\n",
              "      <td>31.997</td>\n",
              "      <td>10267083</td>\n",
              "      <td>853.100710</td>\n",
              "    </tr>\n",
              "    <tr>\n",
              "      <th>3</th>\n",
              "      <td>Afghanistan</td>\n",
              "      <td>Asia</td>\n",
              "      <td>1967</td>\n",
              "      <td>34.020</td>\n",
              "      <td>11537966</td>\n",
              "      <td>836.197138</td>\n",
              "    </tr>\n",
              "    <tr>\n",
              "      <th>4</th>\n",
              "      <td>Afghanistan</td>\n",
              "      <td>Asia</td>\n",
              "      <td>1972</td>\n",
              "      <td>36.088</td>\n",
              "      <td>13079460</td>\n",
              "      <td>739.981106</td>\n",
              "    </tr>\n",
              "  </tbody>\n",
              "</table>\n",
              "</div>"
            ],
            "text/plain": [
              "       country continent  year  lifeExp       pop   gdpPercap\n",
              "0  Afghanistan      Asia  1952   28.801   8425333  779.445314\n",
              "1  Afghanistan      Asia  1957   30.332   9240934  820.853030\n",
              "2  Afghanistan      Asia  1962   31.997  10267083  853.100710\n",
              "3  Afghanistan      Asia  1967   34.020  11537966  836.197138\n",
              "4  Afghanistan      Asia  1972   36.088  13079460  739.981106"
            ]
          },
          "metadata": {
            "tags": []
          },
          "execution_count": 6
        }
      ]
    },
    {
      "cell_type": "markdown",
      "metadata": {
        "id": "DYR_ljJqjmKe"
      },
      "source": [
        "head 메서드는 데이터프레임에서 가장 앞에 있는 5개의 행을 출력한다. "
      ]
    },
    {
      "cell_type": "code",
      "metadata": {
        "colab": {
          "base_uri": "https://localhost:8080/"
        },
        "id": "1wkj4F14adag",
        "outputId": "db30777d-76b4-46cf-e157-7b0b0ac94275"
      },
      "source": [
        "# 데이터프레임 형태 확인\n",
        "type(df)"
      ],
      "execution_count": 5,
      "outputs": [
        {
          "output_type": "execute_result",
          "data": {
            "text/plain": [
              "pandas.core.frame.DataFrame"
            ]
          },
          "metadata": {
            "tags": []
          },
          "execution_count": 5
        }
      ]
    },
    {
      "cell_type": "markdown",
      "metadata": {
        "id": "hmC9Ts3sjuYd"
      },
      "source": [
        "type 메서드는 자료형을 출력해준다."
      ]
    },
    {
      "cell_type": "code",
      "metadata": {
        "colab": {
          "base_uri": "https://localhost:8080/"
        },
        "id": "VUHLh7IZadcO",
        "outputId": "5c39850f-a1b7-47b5-d961-e42787ef5413"
      },
      "source": [
        "# 행과 열의 크기 확인\n",
        "df.shape"
      ],
      "execution_count": 8,
      "outputs": [
        {
          "output_type": "execute_result",
          "data": {
            "text/plain": [
              "(1704, 6)"
            ]
          },
          "metadata": {
            "tags": []
          },
          "execution_count": 8
        }
      ]
    },
    {
      "cell_type": "markdown",
      "metadata": {
        "id": "3_GXeFfGjycs"
      },
      "source": [
        "shape 메서드로 데이터의 행과 열의 크기를 확인할 수 있다.\n",
        "첫번째 값인 1704가 행의 크기이고, 두번째 값인 6이 열의 크기이다.  "
      ]
    },
    {
      "cell_type": "code",
      "metadata": {
        "colab": {
          "base_uri": "https://localhost:8080/"
        },
        "id": "qvWe1KcJadeM",
        "outputId": "1d294daf-d290-4bb0-ba82-51893983d40a"
      },
      "source": [
        "# 열 확인\n",
        "df.columns"
      ],
      "execution_count": 9,
      "outputs": [
        {
          "output_type": "execute_result",
          "data": {
            "text/plain": [
              "Index(['country', 'continent', 'year', 'lifeExp', 'pop', 'gdpPercap'], dtype='object')"
            ]
          },
          "metadata": {
            "tags": []
          },
          "execution_count": 9
        }
      ]
    },
    {
      "cell_type": "code",
      "metadata": {
        "colab": {
          "base_uri": "https://localhost:8080/"
        },
        "id": "Mtf7EZzxadgj",
        "outputId": "6d583f02-ec2c-4821-9474-3abc386c5027"
      },
      "source": [
        "# 데이터프레임 자료형 확인\n",
        "df.dtypes"
      ],
      "execution_count": 10,
      "outputs": [
        {
          "output_type": "execute_result",
          "data": {
            "text/plain": [
              "country       object\n",
              "continent     object\n",
              "year           int64\n",
              "lifeExp      float64\n",
              "pop            int64\n",
              "gdpPercap    float64\n",
              "dtype: object"
            ]
          },
          "metadata": {
            "tags": []
          },
          "execution_count": 10
        }
      ]
    },
    {
      "cell_type": "code",
      "metadata": {
        "colab": {
          "base_uri": "https://localhost:8080/"
        },
        "id": "M8IkEI2Dadi0",
        "outputId": "0aefd0ed-7627-46a1-8816-175437669358"
      },
      "source": [
        "# 데이터프레임 속성 확인\n",
        "df.info()"
      ],
      "execution_count": 11,
      "outputs": [
        {
          "output_type": "stream",
          "text": [
            "<class 'pandas.core.frame.DataFrame'>\n",
            "RangeIndex: 1704 entries, 0 to 1703\n",
            "Data columns (total 6 columns):\n",
            " #   Column     Non-Null Count  Dtype  \n",
            "---  ------     --------------  -----  \n",
            " 0   country    1704 non-null   object \n",
            " 1   continent  1704 non-null   object \n",
            " 2   year       1704 non-null   int64  \n",
            " 3   lifeExp    1704 non-null   float64\n",
            " 4   pop        1704 non-null   int64  \n",
            " 5   gdpPercap  1704 non-null   float64\n",
            "dtypes: float64(2), int64(2), object(2)\n",
            "memory usage: 80.0+ KB\n"
          ],
          "name": "stdout"
        }
      ]
    },
    {
      "cell_type": "markdown",
      "metadata": {
        "id": "c3stuR7PkDlf"
      },
      "source": [
        "### 2.1.3. 판다스와 파이썬 자료형 비교"
      ]
    },
    {
      "cell_type": "markdown",
      "metadata": {
        "id": "BXkyp05CkOWy"
      },
      "source": [
        "![Screen Shot 2021-03-02 at 10.32.25 AM.png](data:image/png;base64,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)"
      ]
    },
    {
      "cell_type": "markdown",
      "metadata": {
        "id": "lOJvGRLRkV7v"
      },
      "source": [
        "## 2.2. 데이터 추출하기"
      ]
    },
    {
      "cell_type": "markdown",
      "metadata": {
        "id": "O9ZORfobkeu9"
      },
      "source": [
        "지금까지 데이터프레임의 크기와 자료형을 살펴보는 방법을 살펴보았다. 이번에는 데이터프레임에서 데이터를 열 단위로 추출하는 방법과 행 단위로 추출하는 방법을 알아보자."
      ]
    },
    {
      "cell_type": "markdown",
      "metadata": {
        "id": "gYcgLrT1kteT"
      },
      "source": [
        "### 2.2.1. 열 단위 데이터 추출하기"
      ]
    },
    {
      "cell_type": "markdown",
      "metadata": {
        "id": "zyw8H1l2kyxx"
      },
      "source": [
        "데이터프레임에서 데이터를 열 단위로 추출하려면 **대괄호**와 **열 이름**을 사용해야한다. 이때 열 이름은 꼭 작은따옴표('')를 사용해서 지정해야 하고 추출한 열은 변수에 저장해서 사용할 수도 있다. \n",
        "\n",
        "이때 1개의 열만 추출하면 시리즈를 얻는 것이고, 2개 이상의 열을 추출하면 데이터프레임을 얻는 것이다. "
      ]
    },
    {
      "cell_type": "code",
      "metadata": {
        "colab": {
          "base_uri": "https://localhost:8080/"
        },
        "id": "pEGmFbv2adlB",
        "outputId": "bd717f40-0a4a-446b-e289-7f3116884f04"
      },
      "source": [
        "country_df = df['country']   ## country열만 추출하여 country_df라는 변수로 지정\n",
        "type(country_df)     ##  country_df의 자료형 확인 "
      ],
      "execution_count": 12,
      "outputs": [
        {
          "output_type": "execute_result",
          "data": {
            "text/plain": [
              "pandas.core.series.Series"
            ]
          },
          "metadata": {
            "tags": []
          },
          "execution_count": 12
        }
      ]
    },
    {
      "cell_type": "markdown",
      "metadata": {
        "id": "RQD6Hd_GmUW4"
      },
      "source": [
        "1개의 열만 추출했기 때문에 데이터의 자료형이 시리즈라는 것을 확인할 수 있다."
      ]
    },
    {
      "cell_type": "code",
      "metadata": {
        "colab": {
          "base_uri": "https://localhost:8080/"
        },
        "id": "EzREhEYOkw7O",
        "outputId": "c959c4ea-b35d-4047-a91b-166ed3c3b940"
      },
      "source": [
        " # country_df의 가장 앞 5개의 데이터 출력\n",
        " country_df.head()"
      ],
      "execution_count": 13,
      "outputs": [
        {
          "output_type": "execute_result",
          "data": {
            "text/plain": [
              "0    Afghanistan\n",
              "1    Afghanistan\n",
              "2    Afghanistan\n",
              "3    Afghanistan\n",
              "4    Afghanistan\n",
              "Name: country, dtype: object"
            ]
          },
          "metadata": {
            "tags": []
          },
          "execution_count": 13
        }
      ]
    },
    {
      "cell_type": "code",
      "metadata": {
        "colab": {
          "base_uri": "https://localhost:8080/"
        },
        "id": "L9HDZiHMkw4L",
        "outputId": "ec6269db-65fa-43b3-f2ba-a1b3d443e9f0"
      },
      "source": [
        "# country_df의 가장 뒤 5개의 데이터 출력\n",
        "country_df.tail()"
      ],
      "execution_count": 15,
      "outputs": [
        {
          "output_type": "execute_result",
          "data": {
            "text/plain": [
              "1699    Zimbabwe\n",
              "1700    Zimbabwe\n",
              "1701    Zimbabwe\n",
              "1702    Zimbabwe\n",
              "1703    Zimbabwe\n",
              "Name: country, dtype: object"
            ]
          },
          "metadata": {
            "tags": []
          },
          "execution_count": 15
        }
      ]
    },
    {
      "cell_type": "markdown",
      "metadata": {
        "id": "wER5dP3wkXH_"
      },
      "source": [
        "이번에는 여러 개의 열을 추출해보자. 이 경우에는 리스트를 이용해 열 이름을 전달하면 된다. "
      ]
    },
    {
      "cell_type": "code",
      "metadata": {
        "colab": {
          "base_uri": "https://localhost:8080/"
        },
        "id": "LEbmefzakw1c",
        "outputId": "068e0b1a-ab56-4dbe-e6d5-8a5300e18a42"
      },
      "source": [
        "subset = df[['country', 'continent', 'year']]\n",
        "type(subset)"
      ],
      "execution_count": 16,
      "outputs": [
        {
          "output_type": "execute_result",
          "data": {
            "text/plain": [
              "pandas.core.frame.DataFrame"
            ]
          },
          "metadata": {
            "tags": []
          },
          "execution_count": 16
        }
      ]
    },
    {
      "cell_type": "markdown",
      "metadata": {
        "id": "f7ddwnEzpSzZ"
      },
      "source": [
        "country, continent, year 열을 추출하여 변수 subset에 저장하였다. \n",
        "\n",
        "이때는 2개 이상의 열을 추출했기 때문에 시리즈가 아닌 데이터프레임을 얻는다."
      ]
    },
    {
      "cell_type": "code",
      "metadata": {
        "colab": {
          "base_uri": "https://localhost:8080/",
          "height": 204
        },
        "id": "qnP-4smVadnX",
        "outputId": "cba82739-e984-4c39-8fea-02a59e2a7c74"
      },
      "source": [
        "# subset의 가장 앞 5개의 데이터 출력\n",
        "subset.head()"
      ],
      "execution_count": 17,
      "outputs": [
        {
          "output_type": "execute_result",
          "data": {
            "text/html": [
              "<div>\n",
              "<style scoped>\n",
              "    .dataframe tbody tr th:only-of-type {\n",
              "        vertical-align: middle;\n",
              "    }\n",
              "\n",
              "    .dataframe tbody tr th {\n",
              "        vertical-align: top;\n",
              "    }\n",
              "\n",
              "    .dataframe thead th {\n",
              "        text-align: right;\n",
              "    }\n",
              "</style>\n",
              "<table border=\"1\" class=\"dataframe\">\n",
              "  <thead>\n",
              "    <tr style=\"text-align: right;\">\n",
              "      <th></th>\n",
              "      <th>country</th>\n",
              "      <th>continent</th>\n",
              "      <th>year</th>\n",
              "    </tr>\n",
              "  </thead>\n",
              "  <tbody>\n",
              "    <tr>\n",
              "      <th>0</th>\n",
              "      <td>Afghanistan</td>\n",
              "      <td>Asia</td>\n",
              "      <td>1952</td>\n",
              "    </tr>\n",
              "    <tr>\n",
              "      <th>1</th>\n",
              "      <td>Afghanistan</td>\n",
              "      <td>Asia</td>\n",
              "      <td>1957</td>\n",
              "    </tr>\n",
              "    <tr>\n",
              "      <th>2</th>\n",
              "      <td>Afghanistan</td>\n",
              "      <td>Asia</td>\n",
              "      <td>1962</td>\n",
              "    </tr>\n",
              "    <tr>\n",
              "      <th>3</th>\n",
              "      <td>Afghanistan</td>\n",
              "      <td>Asia</td>\n",
              "      <td>1967</td>\n",
              "    </tr>\n",
              "    <tr>\n",
              "      <th>4</th>\n",
              "      <td>Afghanistan</td>\n",
              "      <td>Asia</td>\n",
              "      <td>1972</td>\n",
              "    </tr>\n",
              "  </tbody>\n",
              "</table>\n",
              "</div>"
            ],
            "text/plain": [
              "       country continent  year\n",
              "0  Afghanistan      Asia  1952\n",
              "1  Afghanistan      Asia  1957\n",
              "2  Afghanistan      Asia  1962\n",
              "3  Afghanistan      Asia  1967\n",
              "4  Afghanistan      Asia  1972"
            ]
          },
          "metadata": {
            "tags": []
          },
          "execution_count": 17
        }
      ]
    },
    {
      "cell_type": "code",
      "metadata": {
        "colab": {
          "base_uri": "https://localhost:8080/",
          "height": 204
        },
        "id": "-CWkSUrbp5-D",
        "outputId": "b568b75d-c2d2-4e7b-a3dd-49d84e1cae9d"
      },
      "source": [
        "# subset의 가장 뒤 5개의 데이터 출력\n",
        "subset.tail()"
      ],
      "execution_count": 18,
      "outputs": [
        {
          "output_type": "execute_result",
          "data": {
            "text/html": [
              "<div>\n",
              "<style scoped>\n",
              "    .dataframe tbody tr th:only-of-type {\n",
              "        vertical-align: middle;\n",
              "    }\n",
              "\n",
              "    .dataframe tbody tr th {\n",
              "        vertical-align: top;\n",
              "    }\n",
              "\n",
              "    .dataframe thead th {\n",
              "        text-align: right;\n",
              "    }\n",
              "</style>\n",
              "<table border=\"1\" class=\"dataframe\">\n",
              "  <thead>\n",
              "    <tr style=\"text-align: right;\">\n",
              "      <th></th>\n",
              "      <th>country</th>\n",
              "      <th>continent</th>\n",
              "      <th>year</th>\n",
              "    </tr>\n",
              "  </thead>\n",
              "  <tbody>\n",
              "    <tr>\n",
              "      <th>1699</th>\n",
              "      <td>Zimbabwe</td>\n",
              "      <td>Africa</td>\n",
              "      <td>1987</td>\n",
              "    </tr>\n",
              "    <tr>\n",
              "      <th>1700</th>\n",
              "      <td>Zimbabwe</td>\n",
              "      <td>Africa</td>\n",
              "      <td>1992</td>\n",
              "    </tr>\n",
              "    <tr>\n",
              "      <th>1701</th>\n",
              "      <td>Zimbabwe</td>\n",
              "      <td>Africa</td>\n",
              "      <td>1997</td>\n",
              "    </tr>\n",
              "    <tr>\n",
              "      <th>1702</th>\n",
              "      <td>Zimbabwe</td>\n",
              "      <td>Africa</td>\n",
              "      <td>2002</td>\n",
              "    </tr>\n",
              "    <tr>\n",
              "      <th>1703</th>\n",
              "      <td>Zimbabwe</td>\n",
              "      <td>Africa</td>\n",
              "      <td>2007</td>\n",
              "    </tr>\n",
              "  </tbody>\n",
              "</table>\n",
              "</div>"
            ],
            "text/plain": [
              "       country continent  year\n",
              "1699  Zimbabwe    Africa  1987\n",
              "1700  Zimbabwe    Africa  1992\n",
              "1701  Zimbabwe    Africa  1997\n",
              "1702  Zimbabwe    Africa  2002\n",
              "1703  Zimbabwe    Africa  2007"
            ]
          },
          "metadata": {
            "tags": []
          },
          "execution_count": 18
        }
      ]
    },
    {
      "cell_type": "markdown",
      "metadata": {
        "id": "mJALBV69qi22"
      },
      "source": [
        "### 2.2.2. 행 단위 데이터 추출하기"
      ]
    },
    {
      "cell_type": "markdown",
      "metadata": {
        "id": "dTDZZPbQ2OqT"
      },
      "source": [
        "데이터를 행 단위로 추출하기 위해서는 loc, iloc 속성을 사용해야 한다.\n",
        "\n",
        "\n",
        "*   loc - 인덱스를 기준으로 행 데이터 추출\n",
        "*   iloc - 행 번호를 기준으로 행 데이터 추출\n",
        "\n"
      ]
    },
    {
      "cell_type": "markdown",
      "metadata": {
        "id": "BTSvB4oBCVd5"
      },
      "source": [
        "### 2.2.3. 인덱스와 행 번호 개념 알아보기"
      ]
    },
    {
      "cell_type": "code",
      "metadata": {
        "colab": {
          "base_uri": "https://localhost:8080/",
          "height": 204
        },
        "id": "mc-UxtPop570",
        "outputId": "1bcf924f-85bc-4ccd-9970-840a08b4cbf1"
      },
      "source": [
        "df.head()"
      ],
      "execution_count": 19,
      "outputs": [
        {
          "output_type": "execute_result",
          "data": {
            "text/html": [
              "<div>\n",
              "<style scoped>\n",
              "    .dataframe tbody tr th:only-of-type {\n",
              "        vertical-align: middle;\n",
              "    }\n",
              "\n",
              "    .dataframe tbody tr th {\n",
              "        vertical-align: top;\n",
              "    }\n",
              "\n",
              "    .dataframe thead th {\n",
              "        text-align: right;\n",
              "    }\n",
              "</style>\n",
              "<table border=\"1\" class=\"dataframe\">\n",
              "  <thead>\n",
              "    <tr style=\"text-align: right;\">\n",
              "      <th></th>\n",
              "      <th>country</th>\n",
              "      <th>continent</th>\n",
              "      <th>year</th>\n",
              "      <th>lifeExp</th>\n",
              "      <th>pop</th>\n",
              "      <th>gdpPercap</th>\n",
              "    </tr>\n",
              "  </thead>\n",
              "  <tbody>\n",
              "    <tr>\n",
              "      <th>0</th>\n",
              "      <td>Afghanistan</td>\n",
              "      <td>Asia</td>\n",
              "      <td>1952</td>\n",
              "      <td>28.801</td>\n",
              "      <td>8425333</td>\n",
              "      <td>779.445314</td>\n",
              "    </tr>\n",
              "    <tr>\n",
              "      <th>1</th>\n",
              "      <td>Afghanistan</td>\n",
              "      <td>Asia</td>\n",
              "      <td>1957</td>\n",
              "      <td>30.332</td>\n",
              "      <td>9240934</td>\n",
              "      <td>820.853030</td>\n",
              "    </tr>\n",
              "    <tr>\n",
              "      <th>2</th>\n",
              "      <td>Afghanistan</td>\n",
              "      <td>Asia</td>\n",
              "      <td>1962</td>\n",
              "      <td>31.997</td>\n",
              "      <td>10267083</td>\n",
              "      <td>853.100710</td>\n",
              "    </tr>\n",
              "    <tr>\n",
              "      <th>3</th>\n",
              "      <td>Afghanistan</td>\n",
              "      <td>Asia</td>\n",
              "      <td>1967</td>\n",
              "      <td>34.020</td>\n",
              "      <td>11537966</td>\n",
              "      <td>836.197138</td>\n",
              "    </tr>\n",
              "    <tr>\n",
              "      <th>4</th>\n",
              "      <td>Afghanistan</td>\n",
              "      <td>Asia</td>\n",
              "      <td>1972</td>\n",
              "      <td>36.088</td>\n",
              "      <td>13079460</td>\n",
              "      <td>739.981106</td>\n",
              "    </tr>\n",
              "  </tbody>\n",
              "</table>\n",
              "</div>"
            ],
            "text/plain": [
              "       country continent  year  lifeExp       pop   gdpPercap\n",
              "0  Afghanistan      Asia  1952   28.801   8425333  779.445314\n",
              "1  Afghanistan      Asia  1957   30.332   9240934  820.853030\n",
              "2  Afghanistan      Asia  1962   31.997  10267083  853.100710\n",
              "3  Afghanistan      Asia  1967   34.020  11537966  836.197138\n",
              "4  Afghanistan      Asia  1972   36.088  13079460  739.981106"
            ]
          },
          "metadata": {
            "tags": []
          },
          "execution_count": 19
        }
      ]
    },
    {
      "cell_type": "markdown",
      "metadata": {
        "id": "9vlXOlhn2gLV"
      },
      "source": [
        "왼쪽의 번호(0,1,2,3,4)가 인덱스이다.\n",
        "인덱스는 보통 0부터 시작하지만 행 데이터가 추가, 삭제되면 언제든지 변할 수 있으며 숫자가 아니라 문자열을 사용할 수도 있다. \n",
        "\n",
        "반면에, 행 번호는 데이터의 순서를 따라가기 때문에 정수만으로 데이터를 조회하거나 추출할 수 있으며 실제 데이터프레임에서는 확인할 수 없는 값이다.  "
      ]
    },
    {
      "cell_type": "markdown",
      "metadata": {
        "id": "SelX6gDi89IJ"
      },
      "source": [
        "#### (1) loc 속성으로 행 데이터 추출하기"
      ]
    },
    {
      "cell_type": "code",
      "metadata": {
        "colab": {
          "base_uri": "https://localhost:8080/"
        },
        "id": "YTQbuIBsp55s",
        "outputId": "be6ba48f-66c0-485f-bfba-ba069e8738b7"
      },
      "source": [
        "# loc 속성으로 행 데이터 추출하기\n",
        "df.loc[0]"
      ],
      "execution_count": 20,
      "outputs": [
        {
          "output_type": "execute_result",
          "data": {
            "text/plain": [
              "country      Afghanistan\n",
              "continent           Asia\n",
              "year                1952\n",
              "lifeExp           28.801\n",
              "pop              8425333\n",
              "gdpPercap        779.445\n",
              "Name: 0, dtype: object"
            ]
          },
          "metadata": {
            "tags": []
          },
          "execution_count": 20
        }
      ]
    },
    {
      "cell_type": "code",
      "metadata": {
        "colab": {
          "base_uri": "https://localhost:8080/"
        },
        "id": "M8KARCJR4KzP",
        "outputId": "42cfc199-4dde-4085-fb0e-49fab9a288f3"
      },
      "source": [
        "df.loc[99]"
      ],
      "execution_count": 21,
      "outputs": [
        {
          "output_type": "execute_result",
          "data": {
            "text/plain": [
              "country      Bangladesh\n",
              "continent          Asia\n",
              "year               1967\n",
              "lifeExp          43.453\n",
              "pop            62821884\n",
              "gdpPercap       721.186\n",
              "Name: 99, dtype: object"
            ]
          },
          "metadata": {
            "tags": []
          },
          "execution_count": 21
        }
      ]
    },
    {
      "cell_type": "markdown",
      "metadata": {
        "id": "9tqx6IUZ3thx"
      },
      "source": [
        "-> loc 속성에 대괄호를 이용하여 인덱스를 전달하면 행 데이터를 추출할 수 있다. "
      ]
    },
    {
      "cell_type": "code",
      "metadata": {
        "colab": {
          "base_uri": "https://localhost:8080/"
        },
        "id": "9GifskV85KfZ",
        "outputId": "6273dccc-cd2d-4ab2-a28b-0ff984ed2ea0"
      },
      "source": [
        "number_of_rows = df.shape[0]\n",
        "number_of_rows"
      ],
      "execution_count": 23,
      "outputs": [
        {
          "output_type": "execute_result",
          "data": {
            "text/plain": [
              "1704"
            ]
          },
          "metadata": {
            "tags": []
          },
          "execution_count": 23
        }
      ]
    },
    {
      "cell_type": "code",
      "metadata": {
        "colab": {
          "base_uri": "https://localhost:8080/"
        },
        "id": "aDjNrOlEadpt",
        "outputId": "fb7636fc-4d78-48cb-b2b6-cf609a2d041a"
      },
      "source": [
        "# 데이터프레임의 마지막 행 데이터 추출하기 --- 1. 첫번째 방법\n",
        "number_of_rows = df.shape[0]   ## 1704\n",
        "last_row_index = number_of_rows - 1   ## 1703\n",
        "df.loc[last_row_index]  ## 1703번째 행 데이터 추출"
      ],
      "execution_count": 22,
      "outputs": [
        {
          "output_type": "execute_result",
          "data": {
            "text/plain": [
              "country      Zimbabwe\n",
              "continent      Africa\n",
              "year             2007\n",
              "lifeExp        43.487\n",
              "pop          12311143\n",
              "gdpPercap     469.709\n",
              "Name: 1703, dtype: object"
            ]
          },
          "metadata": {
            "tags": []
          },
          "execution_count": 22
        }
      ]
    },
    {
      "cell_type": "markdown",
      "metadata": {
        "id": "kJmO1dun47wm"
      },
      "source": [
        "데이터프레임의 마지막 행 데이터를 추출하기 위해서는 마지막 행 데이터의 인덱스를 알아내야한다.\n",
        "shape[0]에 행 크기(1704)가 저장되어 있다는 점을 이용하여 마지막 행의 인덱스를 구하면 된다. \n",
        "그런 다음 shape[0]에서 1을 뺀 값으로(1703) 마지막 행 데이터를 추출한다. "
      ]
    },
    {
      "cell_type": "code",
      "metadata": {
        "colab": {
          "base_uri": "https://localhost:8080/",
          "height": 80
        },
        "id": "WOVnuPpZ4oR-",
        "outputId": "748a1370-032e-451d-d3ff-1d3212bf9461"
      },
      "source": [
        "# 데이터프레임의 마지막 행 데이터 추출하기 --- 2. 두번째 방법\n",
        "df.tail(n=1)"
      ],
      "execution_count": 24,
      "outputs": [
        {
          "output_type": "execute_result",
          "data": {
            "text/html": [
              "<div>\n",
              "<style scoped>\n",
              "    .dataframe tbody tr th:only-of-type {\n",
              "        vertical-align: middle;\n",
              "    }\n",
              "\n",
              "    .dataframe tbody tr th {\n",
              "        vertical-align: top;\n",
              "    }\n",
              "\n",
              "    .dataframe thead th {\n",
              "        text-align: right;\n",
              "    }\n",
              "</style>\n",
              "<table border=\"1\" class=\"dataframe\">\n",
              "  <thead>\n",
              "    <tr style=\"text-align: right;\">\n",
              "      <th></th>\n",
              "      <th>country</th>\n",
              "      <th>continent</th>\n",
              "      <th>year</th>\n",
              "      <th>lifeExp</th>\n",
              "      <th>pop</th>\n",
              "      <th>gdpPercap</th>\n",
              "    </tr>\n",
              "  </thead>\n",
              "  <tbody>\n",
              "    <tr>\n",
              "      <th>1703</th>\n",
              "      <td>Zimbabwe</td>\n",
              "      <td>Africa</td>\n",
              "      <td>2007</td>\n",
              "      <td>43.487</td>\n",
              "      <td>12311143</td>\n",
              "      <td>469.709298</td>\n",
              "    </tr>\n",
              "  </tbody>\n",
              "</table>\n",
              "</div>"
            ],
            "text/plain": [
              "       country continent  year  lifeExp       pop   gdpPercap\n",
              "1703  Zimbabwe    Africa  2007   43.487  12311143  469.709298"
            ]
          },
          "metadata": {
            "tags": []
          },
          "execution_count": 24
        }
      ]
    },
    {
      "cell_type": "markdown",
      "metadata": {
        "id": "eoekL33p6gKo"
      },
      "source": [
        "데이터프레임의 마지막 행 데이터를 추출하는 두 번째 방법으로 tail메서드를 사용하는 방법이 있다.\n",
        "\n",
        "위와 같이 tail메서드의 인자 n에 1을 전달하면 마지막 행의 데이터를 추출할 수 있다. \n",
        "\n",
        "2를 전달하면 2개의 데이터를 추출할 수도 있다."
      ]
    },
    {
      "cell_type": "code",
      "metadata": {
        "colab": {
          "base_uri": "https://localhost:8080/",
          "height": 142
        },
        "id": "2nWCU7nQ4oPM",
        "outputId": "2f4e8eb6-a70f-44ce-dca8-f62d744f4722"
      },
      "source": [
        "# 여러 데이터 한 번에 추출\n",
        "df.loc[[0, 99, 999]]"
      ],
      "execution_count": 25,
      "outputs": [
        {
          "output_type": "execute_result",
          "data": {
            "text/html": [
              "<div>\n",
              "<style scoped>\n",
              "    .dataframe tbody tr th:only-of-type {\n",
              "        vertical-align: middle;\n",
              "    }\n",
              "\n",
              "    .dataframe tbody tr th {\n",
              "        vertical-align: top;\n",
              "    }\n",
              "\n",
              "    .dataframe thead th {\n",
              "        text-align: right;\n",
              "    }\n",
              "</style>\n",
              "<table border=\"1\" class=\"dataframe\">\n",
              "  <thead>\n",
              "    <tr style=\"text-align: right;\">\n",
              "      <th></th>\n",
              "      <th>country</th>\n",
              "      <th>continent</th>\n",
              "      <th>year</th>\n",
              "      <th>lifeExp</th>\n",
              "      <th>pop</th>\n",
              "      <th>gdpPercap</th>\n",
              "    </tr>\n",
              "  </thead>\n",
              "  <tbody>\n",
              "    <tr>\n",
              "      <th>0</th>\n",
              "      <td>Afghanistan</td>\n",
              "      <td>Asia</td>\n",
              "      <td>1952</td>\n",
              "      <td>28.801</td>\n",
              "      <td>8425333</td>\n",
              "      <td>779.445314</td>\n",
              "    </tr>\n",
              "    <tr>\n",
              "      <th>99</th>\n",
              "      <td>Bangladesh</td>\n",
              "      <td>Asia</td>\n",
              "      <td>1967</td>\n",
              "      <td>43.453</td>\n",
              "      <td>62821884</td>\n",
              "      <td>721.186086</td>\n",
              "    </tr>\n",
              "    <tr>\n",
              "      <th>999</th>\n",
              "      <td>Mongolia</td>\n",
              "      <td>Asia</td>\n",
              "      <td>1967</td>\n",
              "      <td>51.253</td>\n",
              "      <td>1149500</td>\n",
              "      <td>1226.041130</td>\n",
              "    </tr>\n",
              "  </tbody>\n",
              "</table>\n",
              "</div>"
            ],
            "text/plain": [
              "         country continent  year  lifeExp       pop    gdpPercap\n",
              "0    Afghanistan      Asia  1952   28.801   8425333   779.445314\n",
              "99    Bangladesh      Asia  1967   43.453  62821884   721.186086\n",
              "999     Mongolia      Asia  1967   51.253   1149500  1226.041130"
            ]
          },
          "metadata": {
            "tags": []
          },
          "execution_count": 25
        }
      ]
    },
    {
      "cell_type": "markdown",
      "metadata": {
        "id": "gyHqdqyt7nDO"
      },
      "source": [
        "만약 인덱스가 0, 99, 999인 데이터를 한 번에 추출하려면 **리스트에 원하는 인덱스를 담아 loc속성에 전달**하면 된다."
      ]
    },
    {
      "cell_type": "markdown",
      "metadata": {
        "id": "TzTBmIld9DQW"
      },
      "source": [
        "#### (2) iloc 속성으로 행 데이터 추출하기"
      ]
    },
    {
      "cell_type": "markdown",
      "metadata": {
        "id": "V6JOmPSw96II"
      },
      "source": [
        "\n",
        "\n",
        "*   loc - 인덱스를 기준으로 행 데이터 추출\n",
        "*   iloc - 행 번호(데이터 순서)를 기준으로 행 데이터 추출\n",
        "\n"
      ]
    },
    {
      "cell_type": "code",
      "metadata": {
        "colab": {
          "base_uri": "https://localhost:8080/"
        },
        "id": "1SaqXU0l4oMs",
        "outputId": "f42651de-3922-49ed-b289-ba74aa5f6b0f"
      },
      "source": [
        "print(df.iloc[1])\n",
        "print(df.iloc[99])"
      ],
      "execution_count": 27,
      "outputs": [
        {
          "output_type": "stream",
          "text": [
            "country      Afghanistan\n",
            "continent           Asia\n",
            "year                1957\n",
            "lifeExp           30.332\n",
            "pop              9240934\n",
            "gdpPercap        820.853\n",
            "Name: 1, dtype: object\n",
            "country      Bangladesh\n",
            "continent          Asia\n",
            "year               1967\n",
            "lifeExp          43.453\n",
            "pop            62821884\n",
            "gdpPercap       721.186\n",
            "Name: 99, dtype: object\n"
          ],
          "name": "stdout"
        }
      ]
    },
    {
      "cell_type": "code",
      "metadata": {
        "colab": {
          "base_uri": "https://localhost:8080/"
        },
        "id": "Jw8UDJRk4oKl",
        "outputId": "8b7c4a3d-98eb-482b-fe3c-326dc9f3e8d3"
      },
      "source": [
        "# 마지막 행 추출\n",
        "df.iloc[-1]"
      ],
      "execution_count": 28,
      "outputs": [
        {
          "output_type": "execute_result",
          "data": {
            "text/plain": [
              "country      Zimbabwe\n",
              "continent      Africa\n",
              "year             2007\n",
              "lifeExp        43.487\n",
              "pop          12311143\n",
              "gdpPercap     469.709\n",
              "Name: 1703, dtype: object"
            ]
          },
          "metadata": {
            "tags": []
          },
          "execution_count": 28
        }
      ]
    },
    {
      "cell_type": "markdown",
      "metadata": {
        "id": "aTk_GwwNAiGA"
      },
      "source": [
        "참고!\n",
        "\n",
        "**iloc 속성은 음수를 사용해도 데이터를 추출할 수 있다.** 이렇게 -1을 전달하며 마지막 행 데이터를 추출하면 편하다."
      ]
    },
    {
      "cell_type": "code",
      "metadata": {
        "colab": {
          "base_uri": "https://localhost:8080/",
          "height": 142
        },
        "id": "7FGh3f4-4oIm",
        "outputId": "e702e100-9d31-4ff7-f9fe-af8bfb3f631f"
      },
      "source": [
        "# 여러 데이터 한 번에 추출\n",
        "df.iloc[[0, 99, 999]]"
      ],
      "execution_count": 31,
      "outputs": [
        {
          "output_type": "execute_result",
          "data": {
            "text/html": [
              "<div>\n",
              "<style scoped>\n",
              "    .dataframe tbody tr th:only-of-type {\n",
              "        vertical-align: middle;\n",
              "    }\n",
              "\n",
              "    .dataframe tbody tr th {\n",
              "        vertical-align: top;\n",
              "    }\n",
              "\n",
              "    .dataframe thead th {\n",
              "        text-align: right;\n",
              "    }\n",
              "</style>\n",
              "<table border=\"1\" class=\"dataframe\">\n",
              "  <thead>\n",
              "    <tr style=\"text-align: right;\">\n",
              "      <th></th>\n",
              "      <th>country</th>\n",
              "      <th>continent</th>\n",
              "      <th>year</th>\n",
              "      <th>lifeExp</th>\n",
              "      <th>pop</th>\n",
              "      <th>gdpPercap</th>\n",
              "    </tr>\n",
              "  </thead>\n",
              "  <tbody>\n",
              "    <tr>\n",
              "      <th>0</th>\n",
              "      <td>Afghanistan</td>\n",
              "      <td>Asia</td>\n",
              "      <td>1952</td>\n",
              "      <td>28.801</td>\n",
              "      <td>8425333</td>\n",
              "      <td>779.445314</td>\n",
              "    </tr>\n",
              "    <tr>\n",
              "      <th>99</th>\n",
              "      <td>Bangladesh</td>\n",
              "      <td>Asia</td>\n",
              "      <td>1967</td>\n",
              "      <td>43.453</td>\n",
              "      <td>62821884</td>\n",
              "      <td>721.186086</td>\n",
              "    </tr>\n",
              "    <tr>\n",
              "      <th>999</th>\n",
              "      <td>Mongolia</td>\n",
              "      <td>Asia</td>\n",
              "      <td>1967</td>\n",
              "      <td>51.253</td>\n",
              "      <td>1149500</td>\n",
              "      <td>1226.041130</td>\n",
              "    </tr>\n",
              "  </tbody>\n",
              "</table>\n",
              "</div>"
            ],
            "text/plain": [
              "         country continent  year  lifeExp       pop    gdpPercap\n",
              "0    Afghanistan      Asia  1952   28.801   8425333   779.445314\n",
              "99    Bangladesh      Asia  1967   43.453  62821884   721.186086\n",
              "999     Mongolia      Asia  1967   51.253   1149500  1226.041130"
            ]
          },
          "metadata": {
            "tags": []
          },
          "execution_count": 31
        }
      ]
    },
    {
      "cell_type": "markdown",
      "metadata": {
        "id": "mRLBT157CbHu"
      },
      "source": [
        "### 2.2.4. loc, iloc 속성 자유자재로 사용하기"
      ]
    },
    {
      "cell_type": "markdown",
      "metadata": {
        "id": "qOLNcXHTCkVf"
      },
      "source": [
        "loc, iloc 속성을 자유자재로 사용하기 위해서는 추출할 데이터의 행과 열을 지정하는 방법을 알아야한다.\n",
        "코드 작성 방법은 이와 같다.\n",
        "\n",
        "\n",
        "\n",
        "*   df.loc[[행],[열]]\n",
        "*   df.iloc[[행],[열]]\n",
        "\n",
        "\n",
        "이때 행과 열을 지정하는 방법을 슬라이싱 구문을 사용하는 방법과 range 메서드를 사용하는 방법이 있다.\n",
        "\n",
        "---\n",
        "\n",
        "\n",
        "\n",
        "*   **loc**속성의 **열** 지정값 -> **문자열 리스트**\n",
        "*   **iloc**속성의 **열** 지정값 -> **정수 리스트**\n",
        "\n",
        "\n"
      ]
    },
    {
      "cell_type": "markdown",
      "metadata": {
        "id": "q2Pe5HHZDTxr"
      },
      "source": [
        "#### (1) 슬라이싱 구문으로 데이터 추출하기"
      ]
    },
    {
      "cell_type": "markdown",
      "metadata": {
        "id": "gxrBmijFDpTL"
      },
      "source": [
        "이는 모든 행(:)의 데이터에 대해 year, pop 열을 추출하는 방법이다.\n",
        "\n",
        "이때 loc와 iloc 속성에 전달하는 열 값은 반드시 형식에 맞아야 한다.\n",
        "\n",
        "예를 들어 **loc 속성의 열 지정값에 정수 리스트를 전달하면 오류가 발생한다.**\n",
        "\n",
        "마찬가지로 **iloc 속성의 열 지정값에 문자열 리스트를 전달해도 오류가 발생한다.**\n"
      ]
    },
    {
      "cell_type": "code",
      "metadata": {
        "colab": {
          "base_uri": "https://localhost:8080/",
          "height": 204
        },
        "id": "zsEaP11eDdNC",
        "outputId": "064775a0-b97a-4d74-c6e3-030f643fdc90"
      },
      "source": [
        "# 데이터 추출하기 - loc속성 사용\n",
        "subset = df.loc[:, ['year','pop']]\n",
        "subset.head()"
      ],
      "execution_count": 32,
      "outputs": [
        {
          "output_type": "execute_result",
          "data": {
            "text/html": [
              "<div>\n",
              "<style scoped>\n",
              "    .dataframe tbody tr th:only-of-type {\n",
              "        vertical-align: middle;\n",
              "    }\n",
              "\n",
              "    .dataframe tbody tr th {\n",
              "        vertical-align: top;\n",
              "    }\n",
              "\n",
              "    .dataframe thead th {\n",
              "        text-align: right;\n",
              "    }\n",
              "</style>\n",
              "<table border=\"1\" class=\"dataframe\">\n",
              "  <thead>\n",
              "    <tr style=\"text-align: right;\">\n",
              "      <th></th>\n",
              "      <th>year</th>\n",
              "      <th>pop</th>\n",
              "    </tr>\n",
              "  </thead>\n",
              "  <tbody>\n",
              "    <tr>\n",
              "      <th>0</th>\n",
              "      <td>1952</td>\n",
              "      <td>8425333</td>\n",
              "    </tr>\n",
              "    <tr>\n",
              "      <th>1</th>\n",
              "      <td>1957</td>\n",
              "      <td>9240934</td>\n",
              "    </tr>\n",
              "    <tr>\n",
              "      <th>2</th>\n",
              "      <td>1962</td>\n",
              "      <td>10267083</td>\n",
              "    </tr>\n",
              "    <tr>\n",
              "      <th>3</th>\n",
              "      <td>1967</td>\n",
              "      <td>11537966</td>\n",
              "    </tr>\n",
              "    <tr>\n",
              "      <th>4</th>\n",
              "      <td>1972</td>\n",
              "      <td>13079460</td>\n",
              "    </tr>\n",
              "  </tbody>\n",
              "</table>\n",
              "</div>"
            ],
            "text/plain": [
              "   year       pop\n",
              "0  1952   8425333\n",
              "1  1957   9240934\n",
              "2  1962  10267083\n",
              "3  1967  11537966\n",
              "4  1972  13079460"
            ]
          },
          "metadata": {
            "tags": []
          },
          "execution_count": 32
        }
      ]
    },
    {
      "cell_type": "code",
      "metadata": {
        "colab": {
          "base_uri": "https://localhost:8080/",
          "height": 204
        },
        "id": "G8KSBETFDdKl",
        "outputId": "65024a16-2230-4d67-e6f2-2fa9922ed34e"
      },
      "source": [
        "# 데이터 추출하기 - iloc속성 사용\n",
        "subset = df.iloc[:, [2,4,-1]]\n",
        "subset.head()"
      ],
      "execution_count": 34,
      "outputs": [
        {
          "output_type": "execute_result",
          "data": {
            "text/html": [
              "<div>\n",
              "<style scoped>\n",
              "    .dataframe tbody tr th:only-of-type {\n",
              "        vertical-align: middle;\n",
              "    }\n",
              "\n",
              "    .dataframe tbody tr th {\n",
              "        vertical-align: top;\n",
              "    }\n",
              "\n",
              "    .dataframe thead th {\n",
              "        text-align: right;\n",
              "    }\n",
              "</style>\n",
              "<table border=\"1\" class=\"dataframe\">\n",
              "  <thead>\n",
              "    <tr style=\"text-align: right;\">\n",
              "      <th></th>\n",
              "      <th>year</th>\n",
              "      <th>pop</th>\n",
              "      <th>gdpPercap</th>\n",
              "    </tr>\n",
              "  </thead>\n",
              "  <tbody>\n",
              "    <tr>\n",
              "      <th>0</th>\n",
              "      <td>1952</td>\n",
              "      <td>8425333</td>\n",
              "      <td>779.445314</td>\n",
              "    </tr>\n",
              "    <tr>\n",
              "      <th>1</th>\n",
              "      <td>1957</td>\n",
              "      <td>9240934</td>\n",
              "      <td>820.853030</td>\n",
              "    </tr>\n",
              "    <tr>\n",
              "      <th>2</th>\n",
              "      <td>1962</td>\n",
              "      <td>10267083</td>\n",
              "      <td>853.100710</td>\n",
              "    </tr>\n",
              "    <tr>\n",
              "      <th>3</th>\n",
              "      <td>1967</td>\n",
              "      <td>11537966</td>\n",
              "      <td>836.197138</td>\n",
              "    </tr>\n",
              "    <tr>\n",
              "      <th>4</th>\n",
              "      <td>1972</td>\n",
              "      <td>13079460</td>\n",
              "      <td>739.981106</td>\n",
              "    </tr>\n",
              "  </tbody>\n",
              "</table>\n",
              "</div>"
            ],
            "text/plain": [
              "   year       pop   gdpPercap\n",
              "0  1952   8425333  779.445314\n",
              "1  1957   9240934  820.853030\n",
              "2  1962  10267083  853.100710\n",
              "3  1967  11537966  836.197138\n",
              "4  1972  13079460  739.981106"
            ]
          },
          "metadata": {
            "tags": []
          },
          "execution_count": 34
        }
      ]
    },
    {
      "cell_type": "markdown",
      "metadata": {
        "id": "cSjR0PCRFjlk"
      },
      "source": [
        "#### (2) range 메서드로 데이터 추출하기"
      ]
    },
    {
      "cell_type": "markdown",
      "metadata": {
        "id": "U00sGNbBGwde"
      },
      "source": [
        "이번에는 iloc 속성과 파이썬 내장 메서드인 range를 응용하는 방법을 알아보자.\n",
        "\n",
        "**iloc 속성의 열 지정값에 정수 리스트를 전달해야 한다는 점과 range 메서드의 반환값이 정수 리스트인 점을 이용하여 원하는 데이터를 추출할 수 있다.**"
      ]
    },
    {
      "cell_type": "code",
      "metadata": {
        "colab": {
          "base_uri": "https://localhost:8080/"
        },
        "id": "VbfgSbH5DdIX",
        "outputId": "af23ad11-1336-408a-b9ae-3b8f7e26d169"
      },
      "source": [
        "# range 메서드 파악하기\n",
        "small_range = list(range(5))\n",
        "print(small_range)\n",
        "print(type(small_range))"
      ],
      "execution_count": 36,
      "outputs": [
        {
          "output_type": "stream",
          "text": [
            "[0, 1, 2, 3, 4]\n",
            "<class 'list'>\n"
          ],
          "name": "stdout"
        }
      ]
    },
    {
      "cell_type": "code",
      "metadata": {
        "colab": {
          "base_uri": "https://localhost:8080/",
          "height": 204
        },
        "id": "aJ0rAOJaDdF3",
        "outputId": "1205ccbc-18ae-4677-9484-4140a764888a"
      },
      "source": [
        "subset = df.iloc[:, small_range]\n",
        "subset.head()"
      ],
      "execution_count": 37,
      "outputs": [
        {
          "output_type": "execute_result",
          "data": {
            "text/html": [
              "<div>\n",
              "<style scoped>\n",
              "    .dataframe tbody tr th:only-of-type {\n",
              "        vertical-align: middle;\n",
              "    }\n",
              "\n",
              "    .dataframe tbody tr th {\n",
              "        vertical-align: top;\n",
              "    }\n",
              "\n",
              "    .dataframe thead th {\n",
              "        text-align: right;\n",
              "    }\n",
              "</style>\n",
              "<table border=\"1\" class=\"dataframe\">\n",
              "  <thead>\n",
              "    <tr style=\"text-align: right;\">\n",
              "      <th></th>\n",
              "      <th>country</th>\n",
              "      <th>continent</th>\n",
              "      <th>year</th>\n",
              "      <th>lifeExp</th>\n",
              "      <th>pop</th>\n",
              "    </tr>\n",
              "  </thead>\n",
              "  <tbody>\n",
              "    <tr>\n",
              "      <th>0</th>\n",
              "      <td>Afghanistan</td>\n",
              "      <td>Asia</td>\n",
              "      <td>1952</td>\n",
              "      <td>28.801</td>\n",
              "      <td>8425333</td>\n",
              "    </tr>\n",
              "    <tr>\n",
              "      <th>1</th>\n",
              "      <td>Afghanistan</td>\n",
              "      <td>Asia</td>\n",
              "      <td>1957</td>\n",
              "      <td>30.332</td>\n",
              "      <td>9240934</td>\n",
              "    </tr>\n",
              "    <tr>\n",
              "      <th>2</th>\n",
              "      <td>Afghanistan</td>\n",
              "      <td>Asia</td>\n",
              "      <td>1962</td>\n",
              "      <td>31.997</td>\n",
              "      <td>10267083</td>\n",
              "    </tr>\n",
              "    <tr>\n",
              "      <th>3</th>\n",
              "      <td>Afghanistan</td>\n",
              "      <td>Asia</td>\n",
              "      <td>1967</td>\n",
              "      <td>34.020</td>\n",
              "      <td>11537966</td>\n",
              "    </tr>\n",
              "    <tr>\n",
              "      <th>4</th>\n",
              "      <td>Afghanistan</td>\n",
              "      <td>Asia</td>\n",
              "      <td>1972</td>\n",
              "      <td>36.088</td>\n",
              "      <td>13079460</td>\n",
              "    </tr>\n",
              "  </tbody>\n",
              "</table>\n",
              "</div>"
            ],
            "text/plain": [
              "       country continent  year  lifeExp       pop\n",
              "0  Afghanistan      Asia  1952   28.801   8425333\n",
              "1  Afghanistan      Asia  1957   30.332   9240934\n",
              "2  Afghanistan      Asia  1962   31.997  10267083\n",
              "3  Afghanistan      Asia  1967   34.020  11537966\n",
              "4  Afghanistan      Asia  1972   36.088  13079460"
            ]
          },
          "metadata": {
            "tags": []
          },
          "execution_count": 37
        }
      ]
    },
    {
      "cell_type": "code",
      "metadata": {
        "colab": {
          "base_uri": "https://localhost:8080/"
        },
        "id": "84HmJ3SKHn-o",
        "outputId": "92655d89-f4db-4fd7-b61b-a7bd81cd65cc"
      },
      "source": [
        "small_range = list(range(3, 6))\n",
        "print(small_range)\n",
        "\n",
        "subset = df.iloc[:, small_range]\n",
        "print(subset.head())"
      ],
      "execution_count": 38,
      "outputs": [
        {
          "output_type": "stream",
          "text": [
            "[3, 4, 5]\n",
            "   lifeExp       pop   gdpPercap\n",
            "0   28.801   8425333  779.445314\n",
            "1   30.332   9240934  820.853030\n",
            "2   31.997  10267083  853.100710\n",
            "3   34.020  11537966  836.197138\n",
            "4   36.088  13079460  739.981106\n"
          ],
          "name": "stdout"
        }
      ]
    },
    {
      "cell_type": "code",
      "metadata": {
        "colab": {
          "base_uri": "https://localhost:8080/",
          "height": 204
        },
        "id": "PG1AnujjHn60",
        "outputId": "dfc00572-aded-4ac0-e65d-8b76f3423820"
      },
      "source": [
        "# range 메서드 살펴보기\n",
        "small_range = list(range(0,6,2))  ##  0부터 5까지 2만큼 건너뛰는 제너레이터 생성\n",
        "                                  ##  -> 이 제너레이터를 리스트로 변환하면 범위는 0~5이고, 짝수로 된 정수 리스트를 얻을 수 있음. \n",
        "subset = df.iloc[:, small_range]\n",
        "subset.head()"
      ],
      "execution_count": 39,
      "outputs": [
        {
          "output_type": "execute_result",
          "data": {
            "text/html": [
              "<div>\n",
              "<style scoped>\n",
              "    .dataframe tbody tr th:only-of-type {\n",
              "        vertical-align: middle;\n",
              "    }\n",
              "\n",
              "    .dataframe tbody tr th {\n",
              "        vertical-align: top;\n",
              "    }\n",
              "\n",
              "    .dataframe thead th {\n",
              "        text-align: right;\n",
              "    }\n",
              "</style>\n",
              "<table border=\"1\" class=\"dataframe\">\n",
              "  <thead>\n",
              "    <tr style=\"text-align: right;\">\n",
              "      <th></th>\n",
              "      <th>country</th>\n",
              "      <th>year</th>\n",
              "      <th>pop</th>\n",
              "    </tr>\n",
              "  </thead>\n",
              "  <tbody>\n",
              "    <tr>\n",
              "      <th>0</th>\n",
              "      <td>Afghanistan</td>\n",
              "      <td>1952</td>\n",
              "      <td>8425333</td>\n",
              "    </tr>\n",
              "    <tr>\n",
              "      <th>1</th>\n",
              "      <td>Afghanistan</td>\n",
              "      <td>1957</td>\n",
              "      <td>9240934</td>\n",
              "    </tr>\n",
              "    <tr>\n",
              "      <th>2</th>\n",
              "      <td>Afghanistan</td>\n",
              "      <td>1962</td>\n",
              "      <td>10267083</td>\n",
              "    </tr>\n",
              "    <tr>\n",
              "      <th>3</th>\n",
              "      <td>Afghanistan</td>\n",
              "      <td>1967</td>\n",
              "      <td>11537966</td>\n",
              "    </tr>\n",
              "    <tr>\n",
              "      <th>4</th>\n",
              "      <td>Afghanistan</td>\n",
              "      <td>1972</td>\n",
              "      <td>13079460</td>\n",
              "    </tr>\n",
              "  </tbody>\n",
              "</table>\n",
              "</div>"
            ],
            "text/plain": [
              "       country  year       pop\n",
              "0  Afghanistan  1952   8425333\n",
              "1  Afghanistan  1957   9240934\n",
              "2  Afghanistan  1962  10267083\n",
              "3  Afghanistan  1967  11537966\n",
              "4  Afghanistan  1972  13079460"
            ]
          },
          "metadata": {
            "tags": []
          },
          "execution_count": 39
        }
      ]
    },
    {
      "cell_type": "markdown",
      "metadata": {
        "id": "hZrwowFQIt1i"
      },
      "source": [
        "#### (3) 슬라이싱 구문과 range 메서드 비교하기"
      ]
    },
    {
      "cell_type": "markdown",
      "metadata": {
        "id": "BLZnpzcvIzZi"
      },
      "source": [
        "그런데 사실 실무에서는 range 메서드보다는 간편하게 사용할 수 있는 파이썬 슬라이싱 구문을 더 선호한다. \n",
        "\n",
        "range 메서드가 반환한 제너레이터를 리스트로 변환하는 등의 과정을 거치지 않아도 되기 때문이다.\n",
        "\n",
        "list(range(3))가 [:3]과 같다는 점을 이용해보자!"
      ]
    },
    {
      "cell_type": "code",
      "metadata": {
        "colab": {
          "base_uri": "https://localhost:8080/"
        },
        "id": "NIgcr4PsIxsA",
        "outputId": "f3d2f05a-ae20-4e20-9658-5168e81c8a5f"
      },
      "source": [
        "subset = df.iloc[:, :3]\n",
        "print(subset.head())"
      ],
      "execution_count": 40,
      "outputs": [
        {
          "output_type": "stream",
          "text": [
            "       country continent  year\n",
            "0  Afghanistan      Asia  1952\n",
            "1  Afghanistan      Asia  1957\n",
            "2  Afghanistan      Asia  1962\n",
            "3  Afghanistan      Asia  1967\n",
            "4  Afghanistan      Asia  1972\n"
          ],
          "name": "stdout"
        }
      ]
    },
    {
      "cell_type": "code",
      "metadata": {
        "colab": {
          "base_uri": "https://localhost:8080/"
        },
        "id": "wUZCNpOoIxoy",
        "outputId": "c47a7f35-3ad9-4ffd-d1aa-5b5f569aee3b"
      },
      "source": [
        "subset = df.iloc[:, 0:6:2]    ## 0부터 5까지 2만큼 건너뛴다. -> 짝수로 된 정수를 얻을 수 있다.\n",
        "print(subset.head())"
      ],
      "execution_count": 41,
      "outputs": [
        {
          "output_type": "stream",
          "text": [
            "       country  year       pop\n",
            "0  Afghanistan  1952   8425333\n",
            "1  Afghanistan  1957   9240934\n",
            "2  Afghanistan  1962  10267083\n",
            "3  Afghanistan  1967  11537966\n",
            "4  Afghanistan  1972  13079460\n"
          ],
          "name": "stdout"
        }
      ]
    },
    {
      "cell_type": "markdown",
      "metadata": {
        "id": "MUT29rgbJ7Yv"
      },
      "source": [
        "#### (4) loc, iloc 속성 자유자재로 사용하기"
      ]
    },
    {
      "cell_type": "markdown",
      "metadata": {
        "id": "k80oDwAlKHsS"
      },
      "source": [
        "iloc속성으로 0,99,999번째 행의 0,3,5번째 열 데이터를 추출하려면 다음과 같이 코드를 작성하면 된다."
      ]
    },
    {
      "cell_type": "code",
      "metadata": {
        "colab": {
          "base_uri": "https://localhost:8080/"
        },
        "id": "JKTOcVW5Ixmd",
        "outputId": "5991b5c8-2587-4b5e-85c5-0f5fb07ec702"
      },
      "source": [
        "print(df.iloc[[0,99,999], [0,3,5]]) "
      ],
      "execution_count": 42,
      "outputs": [
        {
          "output_type": "stream",
          "text": [
            "         country  lifeExp    gdpPercap\n",
            "0    Afghanistan   28.801   779.445314\n",
            "99    Bangladesh   43.453   721.186086\n",
            "999     Mongolia   51.253  1226.041130\n"
          ],
          "name": "stdout"
        }
      ]
    },
    {
      "cell_type": "markdown",
      "metadata": {
        "id": "3A7vlvPfKUQb"
      },
      "source": [
        "하지만 이렇게 iloc 속성의 열 지정값으로 정수 리스트를 전달하면 나중에 어떤 데이터를 추출하기 위한 코드인지 파악하지 못할 수 있다. \n",
        "\n",
        "따라서 **보통은 loc 속성을 이용하여 열 지정값으로 열 이름을 전달한다.**"
      ]
    },
    {
      "cell_type": "code",
      "metadata": {
        "colab": {
          "base_uri": "https://localhost:8080/"
        },
        "id": "s3krBYWrDdDc",
        "outputId": "8e6b6bbd-86c5-46e4-9d75-38bfdcd736ca"
      },
      "source": [
        "print(df.loc[[0,99,999], ['country','lifeExp', 'gdpPercap']])"
      ],
      "execution_count": 43,
      "outputs": [
        {
          "output_type": "stream",
          "text": [
            "         country  lifeExp    gdpPercap\n",
            "0    Afghanistan   28.801   779.445314\n",
            "99    Bangladesh   43.453   721.186086\n",
            "999     Mongolia   51.253  1226.041130\n"
          ],
          "name": "stdout"
        }
      ]
    },
    {
      "cell_type": "code",
      "metadata": {
        "colab": {
          "base_uri": "https://localhost:8080/"
        },
        "id": "fiDPZD2m4oGF",
        "outputId": "551f4ce3-b84a-4446-818a-69e6b5e6767f"
      },
      "source": [
        "print(df.loc[10:13, ['country','lifeExp','gdpPercap']])"
      ],
      "execution_count": 44,
      "outputs": [
        {
          "output_type": "stream",
          "text": [
            "        country  lifeExp    gdpPercap\n",
            "10  Afghanistan   42.129   726.734055\n",
            "11  Afghanistan   43.828   974.580338\n",
            "12      Albania   55.230  1601.056136\n",
            "13      Albania   59.280  1942.284244\n"
          ],
          "name": "stdout"
        }
      ]
    },
    {
      "cell_type": "markdown",
      "metadata": {
        "id": "vk6eSoBiLYB3"
      },
      "source": [
        "## 2.3. 기초적인 통계 계산하기"
      ]
    },
    {
      "cell_type": "code",
      "metadata": {
        "colab": {
          "base_uri": "https://localhost:8080/"
        },
        "id": "wmdVISdKLboO",
        "outputId": "f1ccffd0-7fd3-41d2-813f-baf47e11bd8a"
      },
      "source": [
        "# 0~9번째 데이터 추출\n",
        "print(df.head(n=10))"
      ],
      "execution_count": 45,
      "outputs": [
        {
          "output_type": "stream",
          "text": [
            "       country continent  year  lifeExp       pop   gdpPercap\n",
            "0  Afghanistan      Asia  1952   28.801   8425333  779.445314\n",
            "1  Afghanistan      Asia  1957   30.332   9240934  820.853030\n",
            "2  Afghanistan      Asia  1962   31.997  10267083  853.100710\n",
            "3  Afghanistan      Asia  1967   34.020  11537966  836.197138\n",
            "4  Afghanistan      Asia  1972   36.088  13079460  739.981106\n",
            "5  Afghanistan      Asia  1977   38.438  14880372  786.113360\n",
            "6  Afghanistan      Asia  1982   39.854  12881816  978.011439\n",
            "7  Afghanistan      Asia  1987   40.822  13867957  852.395945\n",
            "8  Afghanistan      Asia  1992   41.674  16317921  649.341395\n",
            "9  Afghanistan      Asia  1997   41.763  22227415  635.341351\n"
          ],
          "name": "stdout"
        }
      ]
    },
    {
      "cell_type": "markdown",
      "metadata": {
        "id": "IMD2rRuvRrcQ"
      },
      "source": [
        "### 2.3.1. 그룹화한 데이터 평균 구하기"
      ]
    },
    {
      "cell_type": "code",
      "metadata": {
        "colab": {
          "base_uri": "https://localhost:8080/"
        },
        "id": "9M89faDTLbk3",
        "outputId": "cacfb890-f00f-4ea6-d35d-494b765796d4"
      },
      "source": [
        "# 연도별 lifeExp 열의 평균 구하기\n",
        "## -> 데이터를 year열로 그룹화하고 lifeExp 열의 평균을 구하면 된다.\n",
        "\n",
        "print(df.groupby('year')['lifeExp'].mean())"
      ],
      "execution_count": 46,
      "outputs": [
        {
          "output_type": "stream",
          "text": [
            "year\n",
            "1952    49.057620\n",
            "1957    51.507401\n",
            "1962    53.609249\n",
            "1967    55.678290\n",
            "1972    57.647386\n",
            "1977    59.570157\n",
            "1982    61.533197\n",
            "1987    63.212613\n",
            "1992    64.160338\n",
            "1997    65.014676\n",
            "2002    65.694923\n",
            "2007    67.007423\n",
            "Name: lifeExp, dtype: float64\n"
          ],
          "name": "stdout"
        }
      ]
    },
    {
      "cell_type": "code",
      "metadata": {
        "colab": {
          "base_uri": "https://localhost:8080/"
        },
        "id": "WnSKDmPPLbip",
        "outputId": "a9fcb269-edb4-456c-ce90-ecb13f4f3adb"
      },
      "source": [
        "grouped_year_df = df.groupby('year')\n",
        "print(type(grouped_year_df))   ## 그룹화한 데이터의 자료형은 DataFrameGroupBy이다.\n",
        "print(grouped_year_df)         ## 그룹화한 데이터는 데이터프레임 형태로 0x7fbfd99cbcd0이라는 메모리에 저장되어 있다."
      ],
      "execution_count": 48,
      "outputs": [
        {
          "output_type": "stream",
          "text": [
            "<class 'pandas.core.groupby.generic.DataFrameGroupBy'>\n",
            "<pandas.core.groupby.generic.DataFrameGroupBy object at 0x7fbfd99cbcd0>\n"
          ],
          "name": "stdout"
        }
      ]
    },
    {
      "cell_type": "code",
      "metadata": {
        "colab": {
          "base_uri": "https://localhost:8080/"
        },
        "id": "8DqPbzp5LbbW",
        "outputId": "2c751cca-3740-42a5-c11c-41eb1c82b224"
      },
      "source": [
        "grouped_year_df_lifeExp = grouped_year_df['lifeExp']\n",
        "print(type(grouped_year_df_lifeExp))  ## 그룹화한 데이터프레임에서 lifeExp열을 추출하면 그룹화한 시리즈를 얻을 수 있다.\n",
        "                                      ## -> 즉, 연도별로 그룹화한 lifeExp 열을 얻을 수 있다."
      ],
      "execution_count": 49,
      "outputs": [
        {
          "output_type": "stream",
          "text": [
            "<class 'pandas.core.groupby.generic.SeriesGroupBy'>\n"
          ],
          "name": "stdout"
        }
      ]
    },
    {
      "cell_type": "code",
      "metadata": {
        "colab": {
          "base_uri": "https://localhost:8080/"
        },
        "id": "eM5Xt4SSP8eo",
        "outputId": "2806e7e5-46f7-4f0f-ebe6-4e85b16f5cc3"
      },
      "source": [
        "mean_lifeExp_by_year = grouped_year_df_lifeExp.mean()\n",
        "mean_lifeExp_by_year"
      ],
      "execution_count": 52,
      "outputs": [
        {
          "output_type": "execute_result",
          "data": {
            "text/plain": [
              "year\n",
              "1952    49.057620\n",
              "1957    51.507401\n",
              "1962    53.609249\n",
              "1967    55.678290\n",
              "1972    57.647386\n",
              "1977    59.570157\n",
              "1982    61.533197\n",
              "1987    63.212613\n",
              "1992    64.160338\n",
              "1997    65.014676\n",
              "2002    65.694923\n",
              "2007    67.007423\n",
              "Name: lifeExp, dtype: float64"
            ]
          },
          "metadata": {
            "tags": []
          },
          "execution_count": 52
        }
      ]
    },
    {
      "cell_type": "markdown",
      "metadata": {
        "id": "GpRchgzLQSc4"
      },
      "source": [
        "위의 과정에서 연도별로 그룹화한 lifeExp에 mean메서드를 사용했기 때문에 이제 각 연도별 lifeExp열의 평균값을 얻을 수 있다."
      ]
    },
    {
      "cell_type": "code",
      "metadata": {
        "colab": {
          "base_uri": "https://localhost:8080/"
        },
        "id": "MLscZnBCP8b7",
        "outputId": "22fae787-bba0-4356-c717-9eefbca524c5"
      },
      "source": [
        "multi_group_var = df.groupby(['year','continent'])[['lifeExp','gdpPercap']].mean()\n",
        "print(multi_group_var)\n",
        "print(type(multi_group_var))"
      ],
      "execution_count": 55,
      "outputs": [
        {
          "output_type": "stream",
          "text": [
            "                  lifeExp     gdpPercap\n",
            "year continent                         \n",
            "1952 Africa     39.135500   1252.572466\n",
            "     Americas   53.279840   4079.062552\n",
            "     Asia       46.314394   5195.484004\n",
            "     Europe     64.408500   5661.057435\n",
            "     Oceania    69.255000  10298.085650\n",
            "1957 Africa     41.266346   1385.236062\n",
            "     Americas   55.960280   4616.043733\n",
            "     Asia       49.318544   5787.732940\n",
            "     Europe     66.703067   6963.012816\n",
            "     Oceania    70.295000  11598.522455\n",
            "1962 Africa     43.319442   1598.078825\n",
            "     Americas   58.398760   4901.541870\n",
            "     Asia       51.563223   5729.369625\n",
            "     Europe     68.539233   8365.486814\n",
            "     Oceania    71.085000  12696.452430\n",
            "1967 Africa     45.334538   2050.363801\n",
            "     Americas   60.410920   5668.253496\n",
            "     Asia       54.663640   5971.173374\n",
            "     Europe     69.737600  10143.823757\n",
            "     Oceania    71.310000  14495.021790\n",
            "1972 Africa     47.450942   2339.615674\n",
            "     Americas   62.394920   6491.334139\n",
            "     Asia       57.319269   8187.468699\n",
            "     Europe     70.775033  12479.575246\n",
            "     Oceania    71.910000  16417.333380\n",
            "1977 Africa     49.580423   2585.938508\n",
            "     Americas   64.391560   7352.007126\n",
            "     Asia       59.610556   7791.314020\n",
            "     Europe     71.937767  14283.979110\n",
            "     Oceania    72.855000  17283.957605\n",
            "1982 Africa     51.592865   2481.592960\n",
            "     Americas   66.228840   7506.737088\n",
            "     Asia       62.617939   7434.135157\n",
            "     Europe     72.806400  15617.896551\n",
            "     Oceania    74.290000  18554.709840\n",
            "1987 Africa     53.344788   2282.668991\n",
            "     Americas   68.090720   7793.400261\n",
            "     Asia       64.851182   7608.226508\n",
            "     Europe     73.642167  17214.310727\n",
            "     Oceania    75.320000  20448.040160\n",
            "1992 Africa     53.629577   2281.810333\n",
            "     Americas   69.568360   8044.934406\n",
            "     Asia       66.537212   8639.690248\n",
            "     Europe     74.440100  17061.568084\n",
            "     Oceania    76.945000  20894.045885\n",
            "1997 Africa     53.598269   2378.759555\n",
            "     Americas   71.150480   8889.300863\n",
            "     Asia       68.020515   9834.093295\n",
            "     Europe     75.505167  19076.781802\n",
            "     Oceania    78.190000  24024.175170\n",
            "2002 Africa     53.325231   2599.385159\n",
            "     Americas   72.422040   9287.677107\n",
            "     Asia       69.233879  10174.090397\n",
            "     Europe     76.700600  21711.732422\n",
            "     Oceania    79.740000  26938.778040\n",
            "2007 Africa     54.806038   3089.032605\n",
            "     Americas   73.608120  11003.031625\n",
            "     Asia       70.728485  12473.026870\n",
            "     Europe     77.648600  25054.481636\n",
            "     Oceania    80.719500  29810.188275\n",
            "<class 'pandas.core.frame.DataFrame'>\n"
          ],
          "name": "stdout"
        }
      ]
    },
    {
      "cell_type": "markdown",
      "metadata": {
        "id": "7HIuKuaNRJc9"
      },
      "source": [
        "위의 과정들을 응용하여 year, continent 열로 그룹화한 그룹 데이터프레임에서 lifeExp, gdpPercap 열만 추출하여 평균값을 구할 수도 있다."
      ]
    },
    {
      "cell_type": "markdown",
      "metadata": {
        "id": "1qngVplwRxXQ"
      },
      "source": [
        "### 2.3.2.  그룹화한 데이터 개수 구하기"
      ]
    },
    {
      "cell_type": "markdown",
      "metadata": {
        "id": "MUuYI9VgR40E"
      },
      "source": [
        "이번에는 그룹화한 데이터의 개수가 몇 개인지 알아보자. 이를 통계에서는 '빈도수'라고 부른다. \n",
        "\n",
        "데이터의 빈도수는 **nunique메서드**를 사용하면 쉽게 구할 수 있다.\n"
      ]
    },
    {
      "cell_type": "code",
      "metadata": {
        "colab": {
          "base_uri": "https://localhost:8080/"
        },
        "id": "oGoohEQFR3I8",
        "outputId": "b6359dbb-f53a-4eb7-9e46-a388ee52c9c6"
      },
      "source": [
        "print(df.groupby('continent')['country'].nunique())"
      ],
      "execution_count": 56,
      "outputs": [
        {
          "output_type": "stream",
          "text": [
            "continent\n",
            "Africa      52\n",
            "Americas    25\n",
            "Asia        33\n",
            "Europe      30\n",
            "Oceania      2\n",
            "Name: country, dtype: int64\n"
          ],
          "name": "stdout"
        }
      ]
    },
    {
      "cell_type": "markdown",
      "metadata": {
        "id": "3EZh0mW5SO2i"
      },
      "source": [
        "다음은 continent를 기준으로 데이터프레임을 만들고 country 열만 추출하여 데이터의 빈도수를 계산한 것이다."
      ]
    },
    {
      "cell_type": "markdown",
      "metadata": {
        "id": "_3Im90t-SatW"
      },
      "source": [
        "## 2.4. 그래프 그리기"
      ]
    },
    {
      "cell_type": "code",
      "metadata": {
        "id": "xf6qJyLrSd9r"
      },
      "source": [
        "# 1. 라이브러리 불러오기\n",
        "%matplotlib inline   \n",
        "## 주피터 노트북에서 그래프를 그리기 위해 사용하는 매직 함수\n",
        "\n",
        "import matplotlib.pyplot as plt"
      ],
      "execution_count": 58,
      "outputs": []
    },
    {
      "cell_type": "code",
      "metadata": {
        "colab": {
          "base_uri": "https://localhost:8080/"
        },
        "id": "ze3rEtszSd6K",
        "outputId": "23ad6ded-3bf9-4bf3-cb5d-4577e5f9bb06"
      },
      "source": [
        "# 2. year열을 기준으로 그룹화한 데이터프레임에서 lifeExp 열만 추출하여 평균값 구하기\n",
        "global_yearly_life_expectancy = df.groupby('year')['lifeExp'].mean()\n",
        "print(global_yearly_life_expectancy)"
      ],
      "execution_count": 59,
      "outputs": [
        {
          "output_type": "stream",
          "text": [
            "year\n",
            "1952    49.057620\n",
            "1957    51.507401\n",
            "1962    53.609249\n",
            "1967    55.678290\n",
            "1972    57.647386\n",
            "1977    59.570157\n",
            "1982    61.533197\n",
            "1987    63.212613\n",
            "1992    64.160338\n",
            "1997    65.014676\n",
            "2002    65.694923\n",
            "2007    67.007423\n",
            "Name: lifeExp, dtype: float64\n"
          ],
          "name": "stdout"
        }
      ]
    },
    {
      "cell_type": "code",
      "metadata": {
        "colab": {
          "base_uri": "https://localhost:8080/",
          "height": 296
        },
        "id": "Z7ffYBrSR3Fk",
        "outputId": "4a9c28cf-5746-4302-cf6a-e40573457b43"
      },
      "source": [
        "# 3. 위에서 구한 값에 plot메서드를 사용하면 다음과 같은 그래프가 그려진다.\n",
        "global_yearly_life_expectancy.plot()"
      ],
      "execution_count": 60,
      "outputs": [
        {
          "output_type": "execute_result",
          "data": {
            "text/plain": [
              "<matplotlib.axes._subplots.AxesSubplot at 0x7fbfd9d50c90>"
            ]
          },
          "metadata": {
            "tags": []
          },
          "execution_count": 60
        },
        {
          "output_type": "display_data",
          "data": {
            "image/png": "[encoded data removed]",
            "text/plain": [
              "<Figure size 432x288 with 1 Axes>"
            ]
          },
          "metadata": {
            "tags": [],
            "needs_background": "light"
          }
        }
      ]
    }
  ]
}