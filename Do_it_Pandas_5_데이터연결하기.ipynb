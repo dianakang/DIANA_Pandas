{
  "nbformat": 4,
  "nbformat_minor": 0,
  "metadata": {
    "colab": {
      "name": "Do_it_Pandas_5_데이터연결하기.ipynb",
      "provenance": [],
      "collapsed_sections": [],
      "mount_file_id": "1-I7Ha05Fdsyj8QFHP8NEzhvr2hPAXU4w",
      "authorship_tag": "ABX9TyNE7ApzfDJ+dxcEtu3dl9Pp",
      "include_colab_link": true
    },
    "kernelspec": {
      "name": "python3",
      "display_name": "Python 3"
    }
  },
  "cells": [
    {
      "cell_type": "markdown",
      "metadata": {
        "id": "view-in-github",
        "colab_type": "text"
      },
      "source": [
        "<a href=\"https://colab.research.google.com/github/dianakang/DIANA_Pandas/blob/master/Do_it_Pandas_5_%EB%8D%B0%EC%9D%B4%ED%84%B0%EC%97%B0%EA%B2%B0%ED%95%98%EA%B8%B0.ipynb\" target=\"_parent\"><img src=\"https://colab.research.google.com/assets/colab-badge.svg\" alt=\"Open In Colab\"/></a>"
      ]
    },
    {
      "cell_type": "markdown",
      "metadata": {
        "id": "ny8zR-Gf7ce8"
      },
      "source": [
        "# 목차\n",
        "\n",
        "*   4.1. 데이터 시각화가 필요한 이유\n",
        "*   4.1.1. 앤스콤 4분할 그래프 살펴보기\n",
        "*   4.1.2. 앤스콤 데이터 집합으로 그래프 만들기\n",
        "\n",
        "---\n",
        "\n",
        "*   4.2. matplotlib 라이브러리 사용하기\n",
        "*   4.2.1. 기초 그래프 그리기\n",
        "   *   (1) 히스토그램(Histogram)\n",
        "   *   (2) 산점도 그래프(Scatter plot)\n",
        "   *   (3) 박스 그래프(Box plot)\n",
        "---\n",
        "\n",
        "*   4.3. seaborn 라이브러리 사용하기\n",
        "*   4.3.1. 단변량 그래프 그리기\n",
        "   *   (1) 히스토그램 + 밀집도 그래프\n",
        "   *   (2) 히스토그램\n",
        "   *   (3) 밀집도 그래프\n",
        "   *   (4) 히스토그램 + 밀집도 그래프 + 양탄자 그래프\n",
        "   *   (5) count 그래프\n",
        "\n",
        "---\n",
        "\n",
        "*   4.3.2. 이변량 그래프 그리기\n",
        "   *   (1) 산점도 그래프\n",
        "   *   (2) 산점도 그래프 + 히스토그램\n",
        "   *   (3) 육각 그래프 + 히스토그램\n",
        "   *   (4) 밀집도 그래프\n",
        "   *   (5) 바 그래프\n",
        "   *   (6) 박스 그래프\n",
        "   *   (7) 바이올린 그래프\n",
        "   *   (8) 관계 그래프\n",
        "\n",
        "---\n",
        "\n",
        "*   4.3.3 다변량 그래프 그리기\n",
        "   *   (1) 색상 추가하기\n",
        "   *   (2) 크기와 모양 조절하기\n",
        "   *   (3) 점을 다른 기호로 표현하기\n",
        "   *   (4) 그래프 한 번에 그리기 - lmplot 메서드 이용\n",
        "   *   (5) 그래프 한 번에 그리기 - FacetGrid 클래스 이용\n",
        "\n",
        "---\n",
        "\n",
        "*   4.4. 데이터프레임과 시리즈로 그래프 그리기\n",
        "   *   (1) 히스토그램\n",
        "   *   (2) 밀집도 그래프\n",
        "   *   (3) 산점도 그래프\n",
        "   *   (4) 육각 그래프\n",
        "   *   (5) 박스 그래프\n",
        "\n",
        "---\n",
        "\n",
        "*   4.5. seaborn 라이브러리로 그래프 스타일 설정하기\n",
        "\n",
        "---\n",
        "---\n"
      ]
    },
    {
      "cell_type": "markdown",
      "metadata": {
        "id": "Tj83EgkgWk-u"
      },
      "source": [
        "# 5. 데이터 연결하기"
      ]
    },
    {
      "cell_type": "markdown",
      "metadata": {
        "id": "VxHAGEVIWuFf"
      },
      "source": [
        "이번 챕터에서는 '분석하기 좋은 데이터 집합'을 만들기 위해 여러 개의 데이터 집합을 연결하거나 추출하여 데이터를 정리하는 방법에 대해 알아보겠다. "
      ]
    },
    {
      "cell_type": "markdown",
      "metadata": {
        "id": "MUx6Rk_vWonG"
      },
      "source": [
        "## 5.1. 분석하기 좋은 데이터"
      ]
    },
    {
      "cell_type": "markdown",
      "metadata": {
        "id": "wHEe8wgAW9-E"
      },
      "source": [
        "분석하기 좋은 데이터란 데이터 집합을 분석하기 좋은 상태로 만들어 놓은 데이터를 말한다. \n",
        "\n",
        "데이터 분석 단계에서 데이터 정리는 아주 중요하다. \n",
        "\n",
        "실제로 데이터 분석 작업의 70% 이상을 차지하고 있는 작업이 데이터 정리 작업이라고 해도 과언이 아니다.\n",
        "\n",
        "분석하기 좋은 데이터, 즉 Tidy Data의 조건은 다음과 같다.\n",
        "\n",
        "\n",
        "*   깔끔한 데이터(Tidy Data)의 조건\n",
        "  *   데이터의 분석 목적에 맞는 데이터를 모아 새로운 표(Table)를 만들어야 한다.\n",
        "  *   측정한 값은 행(row)을 구성해야 한다.\n",
        "  *   변수는 열(column)로 구성해야 한다.\n",
        "\n",
        "*   깔끔한 데이터는 데이터 연결에서 시작된다!\n",
        "\n",
        "예를 들어, 주식 데이터를 분석하는 과정에서 '기업 정보'가 있는 데이터 집합과 '주식 가격'이 있는 데이터 집합이 있을 때 '첨단 산업 기업의 주식 가격에 대한 데이터'를 보려면 어떻게 해야할까?\n",
        "\n",
        "\n",
        "---\n",
        "\n",
        "STEP1. 일단 '기업 정보'에서 첨단 기술을 가진 기업을 찾아야 한다.\n",
        "\n",
        "STEP2. 그리고 이 기업들의 '주식 가격'을 찾아본다.\n",
        "\n",
        "STEP3. 그런 다음 찾아낸 2개의 데이터를 연결하면 된다.\n",
        "\n",
        "---\n",
        "\n",
        "이처럼 데이터 집합은 연관성이 깊은 값끼리 모여 있기 때문에, 데이터 연결을 통해 필요한 데이터를 만드는 과정은 반드시 필요하다.\n",
        "\n",
        "그럼 이제 실습을 통해 데이터 연결을 하는 방법을 알아보자!\n"
      ]
    },
    {
      "cell_type": "markdown",
      "metadata": {
        "id": "uczKrLTkaMwg"
      },
      "source": [
        "## 5.2. 데이터 연결 기초"
      ]
    },
    {
      "cell_type": "markdown",
      "metadata": {
        "id": "bVyEdYC9mcXT"
      },
      "source": [
        "### 5.2.1. 데이터 연결하기"
      ]
    },
    {
      "cell_type": "markdown",
      "metadata": {
        "id": "JZB33YxfmeW5"
      },
      "source": [
        ""
      ]
    },
    {
      "cell_type": "code",
      "metadata": {
        "id": "nyVpFkjo6Yn5"
      },
      "source": [
        "# 데이터 불러오기\n",
        "import pandas as pd\n",
        "\n",
        "df1 = pd.read_csv('/content/drive/MyDrive/pandas/doit_pandas-master/data/concat_1.csv')\n",
        "df2 = pd.read_csv('/content/drive/MyDrive/pandas/doit_pandas-master/data/concat_2.csv')\n",
        "df3 = pd.read_csv('/content/drive/MyDrive/pandas/doit_pandas-master/data/concat_3.csv')"
      ],
      "execution_count": null,
      "outputs": []
    },
    {
      "cell_type": "markdown",
      "metadata": {
        "id": "r6BlRDBpaSZN"
      },
      "source": [
        "**데이터를 연결**하기 위해서는 **concat 메서드**에 연결하려는 데이터프레임을 리스트에 담아 전달한다.\n",
        "\n",
        "df1, df2, df3 데이터들은 열의 이름이 모두 A,B,C,D로 같기 때문에 데이터프레임을 연결한 다음에도 열이 그대로 유지된다.\n",
        "\n",
        "\n",
        "\n"
      ]
    },
    {
      "cell_type": "code",
      "metadata": {
        "colab": {
          "base_uri": "https://localhost:8080/"
        },
        "id": "vLrBJaLgbD5F",
        "outputId": "b90045f3-d753-4736-806f-1a5f1539e34e"
      },
      "source": [
        "# 데이터 연결하기\n",
        "row_concat = pd.concat([df1, df2, df3])\n",
        "print(row_concat)"
      ],
      "execution_count": null,
      "outputs": [
        {
          "output_type": "stream",
          "text": [
            "     A    B    C    D\n",
            "0   a0   b0   c0   d0\n",
            "1   a1   b1   c1   d1\n",
            "2   a2   b2   c2   d2\n",
            "3   a3   b3   c3   d3\n",
            "0   a4   b4   c4   d4\n",
            "1   a5   b5   c5   d5\n",
            "2   a6   b6   c6   d6\n",
            "3   a7   b7   c7   d7\n",
            "0   a8   b8   c8   d8\n",
            "1   a9   b9   c9   d9\n",
            "2  a10  b10  c10  d10\n",
            "3  a11  b11  c11  d11\n"
          ],
          "name": "stdout"
        }
      ]
    },
    {
      "cell_type": "markdown",
      "metadata": {
        "id": "ESO3ZRHDkikS"
      },
      "source": [
        "이제 데이터프레임에서 행 데이터를 추출해보자. concat 메서드는 전달받은 리스트의 요소 순서대로 데이터를 연결한다.\n",
        "\n",
        "그래서 데이터프레임에 있던 인덱스도 그대로 유지된다. 다음은 데이터프레임에서 네 번째 행을 추출한 것이다. "
      ]
    },
    {
      "cell_type": "code",
      "metadata": {
        "colab": {
          "base_uri": "https://localhost:8080/"
        },
        "id": "R3dn_8WUbD2v",
        "outputId": "5eaf691c-bdab-49a4-b8f4-0f944c0d04b6"
      },
      "source": [
        "# 연결한 데이터 프레임의 네 번째 행 추출\n",
        "print(row_concat.iloc[3, ])"
      ],
      "execution_count": null,
      "outputs": [
        {
          "output_type": "stream",
          "text": [
            "A    a3\n",
            "B    b3\n",
            "C    c3\n",
            "D    d3\n",
            "Name: 3, dtype: object\n"
          ],
          "name": "stdout"
        }
      ]
    },
    {
      "cell_type": "markdown",
      "metadata": {
        "id": "osnXLZznlG-m"
      },
      "source": [
        "이번에는 데이터프레임에 시리즈를 추가해보자. 먼저 리스트를 시리즈로 변환한다."
      ]
    },
    {
      "cell_type": "code",
      "metadata": {
        "id": "ISc0-ZYpcQ47"
      },
      "source": [
        "# 데이터프레임에 시리즈 연결하기\n",
        "new_row_series = pd.Series(['n1','n2','n3','n4'])"
      ],
      "execution_count": null,
      "outputs": []
    },
    {
      "cell_type": "markdown",
      "metadata": {
        "id": "ZK8hWk4ilXji"
      },
      "source": [
        "그럼 이제 concat 메서드로 데이터프레임과 시리즈를 연결해보자. 시리즈가 **새로운 '열'로 추가**된다. *(새로운 행으로 추가되지 않으니, 혼동하지 말자!)*\n",
        "\n",
        "그 결과, NaN(누락값)이 많이 생겼다."
      ]
    },
    {
      "cell_type": "code",
      "metadata": {
        "colab": {
          "base_uri": "https://localhost:8080/"
        },
        "id": "EIHEBzDDcQ2l",
        "outputId": "9d8a4216-f821-401f-b458-e7482e749f7a"
      },
      "source": [
        "print(pd.concat([df1, new_row_series]))"
      ],
      "execution_count": null,
      "outputs": [
        {
          "output_type": "stream",
          "text": [
            "     A    B    C    D    0\n",
            "0   a0   b0   c0   d0  NaN\n",
            "1   a1   b1   c1   d1  NaN\n",
            "2   a2   b2   c2   d2  NaN\n",
            "3   a3   b3   c3   d3  NaN\n",
            "0  NaN  NaN  NaN  NaN   n1\n",
            "1  NaN  NaN  NaN  NaN   n2\n",
            "2  NaN  NaN  NaN  NaN   n3\n",
            "3  NaN  NaN  NaN  NaN   n4\n"
          ],
          "name": "stdout"
        }
      ]
    },
    {
      "cell_type": "markdown",
      "metadata": {
        "id": "HYl-gWhJl_ch"
      },
      "source": [
        "시리즈를 데이터프레임의 새로운 '행'으로 연결하려고 하면 제대로 되지 않는다. 이유가 무엇일까?\n",
        "\n",
        "시리즈에는 열 이름이 없기 때문이다. 그래서 시리즈를 새로운 열로 갅하여 0이라는 이름의 열로 추가한 것이다."
      ]
    },
    {
      "cell_type": "markdown",
      "metadata": {
        "id": "rzFJ832Qmhc8"
      },
      "source": [
        "### 5.2.2. 행 1개로 구성된 데이터프레임 생성하여 연결하기"
      ]
    },
    {
      "cell_type": "markdown",
      "metadata": {
        "id": "Epuvl8cxnDRL"
      },
      "source": [
        "시리즈는 행이 1개인 데이터프레임이라고 생각해도 된다. \n",
        "\n",
        "다음은 1개의 행을 가지는 데이터프레임을 생성하여 df1에 연결한 것이다. "
      ]
    },
    {
      "cell_type": "code",
      "metadata": {
        "colab": {
          "base_uri": "https://localhost:8080/"
        },
        "id": "owKkX3AocQv8",
        "outputId": "1bb731a3-0f0a-4c30-8024-72727d71e417"
      },
      "source": [
        "# 첫번째 방법 - concat 메서드 사용하여 연결하기 (시리즈 생성)\n",
        "\n",
        "new_row_df = pd.DataFrame([['n1','n2','n3','n4']], columns=['A','B','C','D'])\n",
        "print(new_row_df)\n",
        "\n",
        "print(\"-\"*30)\n",
        "\n",
        "\n",
        "print(pd.concat([df1, new_row_df]))"
      ],
      "execution_count": null,
      "outputs": [
        {
          "output_type": "stream",
          "text": [
            "    A   B   C   D\n",
            "0  n1  n2  n3  n4\n",
            "------------------------------\n",
            "    A   B   C   D\n",
            "0  a0  b0  c0  d0\n",
            "1  a1  b1  c1  d1\n",
            "2  a2  b2  c2  d2\n",
            "3  a3  b3  c3  d3\n",
            "0  n1  n2  n3  n4\n"
          ],
          "name": "stdout"
        }
      ]
    },
    {
      "cell_type": "markdown",
      "metadata": {
        "id": "SAwqb3w8nfFX"
      },
      "source": [
        "concat 메서드는 한 번에 2개 이상의 데이터프레임을 연결할 수 있는 메서드이다.\n",
        "\n",
        "만약 연결할 데이터프레임이 1개라면 append 메서드를 사용해도 된다."
      ]
    },
    {
      "cell_type": "code",
      "metadata": {
        "colab": {
          "base_uri": "https://localhost:8080/",
          "height": 204
        },
        "id": "ZHuvXu7EbD04",
        "outputId": "648cbb26-72e0-44fb-b871-06508b639740"
      },
      "source": [
        "# 두번째 방법 - append 메서드 사용하여 연결하기 (데이터프레임 생성)\n",
        "\n",
        "df1.append(new_row_df)"
      ],
      "execution_count": null,
      "outputs": [
        {
          "output_type": "execute_result",
          "data": {
            "text/html": [
              "<div>\n",
              "<style scoped>\n",
              "    .dataframe tbody tr th:only-of-type {\n",
              "        vertical-align: middle;\n",
              "    }\n",
              "\n",
              "    .dataframe tbody tr th {\n",
              "        vertical-align: top;\n",
              "    }\n",
              "\n",
              "    .dataframe thead th {\n",
              "        text-align: right;\n",
              "    }\n",
              "</style>\n",
              "<table border=\"1\" class=\"dataframe\">\n",
              "  <thead>\n",
              "    <tr style=\"text-align: right;\">\n",
              "      <th></th>\n",
              "      <th>A</th>\n",
              "      <th>B</th>\n",
              "      <th>C</th>\n",
              "      <th>D</th>\n",
              "    </tr>\n",
              "  </thead>\n",
              "  <tbody>\n",
              "    <tr>\n",
              "      <th>0</th>\n",
              "      <td>a0</td>\n",
              "      <td>b0</td>\n",
              "      <td>c0</td>\n",
              "      <td>d0</td>\n",
              "    </tr>\n",
              "    <tr>\n",
              "      <th>1</th>\n",
              "      <td>a1</td>\n",
              "      <td>b1</td>\n",
              "      <td>c1</td>\n",
              "      <td>d1</td>\n",
              "    </tr>\n",
              "    <tr>\n",
              "      <th>2</th>\n",
              "      <td>a2</td>\n",
              "      <td>b2</td>\n",
              "      <td>c2</td>\n",
              "      <td>d2</td>\n",
              "    </tr>\n",
              "    <tr>\n",
              "      <th>3</th>\n",
              "      <td>a3</td>\n",
              "      <td>b3</td>\n",
              "      <td>c3</td>\n",
              "      <td>d3</td>\n",
              "    </tr>\n",
              "    <tr>\n",
              "      <th>0</th>\n",
              "      <td>n1</td>\n",
              "      <td>n2</td>\n",
              "      <td>n3</td>\n",
              "      <td>n4</td>\n",
              "    </tr>\n",
              "  </tbody>\n",
              "</table>\n",
              "</div>"
            ],
            "text/plain": [
              "    A   B   C   D\n",
              "0  a0  b0  c0  d0\n",
              "1  a1  b1  c1  d1\n",
              "2  a2  b2  c2  d2\n",
              "3  a3  b3  c3  d3\n",
              "0  n1  n2  n3  n4"
            ]
          },
          "metadata": {
            "tags": []
          },
          "execution_count": 7
        }
      ]
    },
    {
      "cell_type": "markdown",
      "metadata": {
        "id": "slW3yKnooRVZ"
      },
      "source": [
        "**append 메서드와 딕셔너리를 사용하면 더욱 편하게 행을 연결**할 수 있다.\n",
        "\n",
        "!! 이때 **ignore_index를 True로 설정**하면 데이터를 연결한 다음 **데이터프레임의 인덱스를 0부터 다시 지정**한다."
      ]
    },
    {
      "cell_type": "code",
      "metadata": {
        "colab": {
          "base_uri": "https://localhost:8080/",
          "height": 204
        },
        "id": "W5TVrF6_bDyi",
        "outputId": "2456d73b-ba85-4fc4-a93b-93f519389ccc"
      },
      "source": [
        "data_dict = {'A':'n1', 'B':'n2', 'C':'n3', 'D':'n4'}\n",
        "df1.append(data_dict, ignore_index=True)  ## ignore_index=True -> 데이터프레임의 인덱스 0부터 다시 지정 \n",
        "                                         ## 마지막 행 데이터의 인덱스가 0에서 4로 바뀜."
      ],
      "execution_count": null,
      "outputs": [
        {
          "output_type": "execute_result",
          "data": {
            "text/html": [
              "<div>\n",
              "<style scoped>\n",
              "    .dataframe tbody tr th:only-of-type {\n",
              "        vertical-align: middle;\n",
              "    }\n",
              "\n",
              "    .dataframe tbody tr th {\n",
              "        vertical-align: top;\n",
              "    }\n",
              "\n",
              "    .dataframe thead th {\n",
              "        text-align: right;\n",
              "    }\n",
              "</style>\n",
              "<table border=\"1\" class=\"dataframe\">\n",
              "  <thead>\n",
              "    <tr style=\"text-align: right;\">\n",
              "      <th></th>\n",
              "      <th>A</th>\n",
              "      <th>B</th>\n",
              "      <th>C</th>\n",
              "      <th>D</th>\n",
              "    </tr>\n",
              "  </thead>\n",
              "  <tbody>\n",
              "    <tr>\n",
              "      <th>0</th>\n",
              "      <td>a0</td>\n",
              "      <td>b0</td>\n",
              "      <td>c0</td>\n",
              "      <td>d0</td>\n",
              "    </tr>\n",
              "    <tr>\n",
              "      <th>1</th>\n",
              "      <td>a1</td>\n",
              "      <td>b1</td>\n",
              "      <td>c1</td>\n",
              "      <td>d1</td>\n",
              "    </tr>\n",
              "    <tr>\n",
              "      <th>2</th>\n",
              "      <td>a2</td>\n",
              "      <td>b2</td>\n",
              "      <td>c2</td>\n",
              "      <td>d2</td>\n",
              "    </tr>\n",
              "    <tr>\n",
              "      <th>3</th>\n",
              "      <td>a3</td>\n",
              "      <td>b3</td>\n",
              "      <td>c3</td>\n",
              "      <td>d3</td>\n",
              "    </tr>\n",
              "    <tr>\n",
              "      <th>4</th>\n",
              "      <td>n1</td>\n",
              "      <td>n2</td>\n",
              "      <td>n3</td>\n",
              "      <td>n4</td>\n",
              "    </tr>\n",
              "  </tbody>\n",
              "</table>\n",
              "</div>"
            ],
            "text/plain": [
              "    A   B   C   D\n",
              "0  a0  b0  c0  d0\n",
              "1  a1  b1  c1  d1\n",
              "2  a2  b2  c2  d2\n",
              "3  a3  b3  c3  d3\n",
              "4  n1  n2  n3  n4"
            ]
          },
          "metadata": {
            "tags": []
          },
          "execution_count": 8
        }
      ]
    },
    {
      "cell_type": "markdown",
      "metadata": {
        "id": "eUnY-QnBpNzy"
      },
      "source": [
        "### 5.2.3. 다양한 방법으로 데이터 연결하기"
      ]
    },
    {
      "cell_type": "markdown",
      "metadata": {
        "id": "ShOk1D3ZpiBT"
      },
      "source": [
        "판다스는 데이터를 연결하는 다양한 방법을 제공한다. "
      ]
    },
    {
      "cell_type": "code",
      "metadata": {
        "colab": {
          "base_uri": "https://localhost:8080/",
          "height": 421
        },
        "id": "8IVNXZALbDv-",
        "outputId": "8a8bb907-4a57-4c70-db39-ddbdc3f52a5f"
      },
      "source": [
        "# ignore_index 인자 사용하기 -> 인덱스를 0부터 다시 시정\n",
        "row_concat_i = pd.concat([df1, df2, df3], ignore_index=True)\n",
        "row_concat_i"
      ],
      "execution_count": null,
      "outputs": [
        {
          "output_type": "execute_result",
          "data": {
            "text/html": [
              "<div>\n",
              "<style scoped>\n",
              "    .dataframe tbody tr th:only-of-type {\n",
              "        vertical-align: middle;\n",
              "    }\n",
              "\n",
              "    .dataframe tbody tr th {\n",
              "        vertical-align: top;\n",
              "    }\n",
              "\n",
              "    .dataframe thead th {\n",
              "        text-align: right;\n",
              "    }\n",
              "</style>\n",
              "<table border=\"1\" class=\"dataframe\">\n",
              "  <thead>\n",
              "    <tr style=\"text-align: right;\">\n",
              "      <th></th>\n",
              "      <th>A</th>\n",
              "      <th>B</th>\n",
              "      <th>C</th>\n",
              "      <th>D</th>\n",
              "    </tr>\n",
              "  </thead>\n",
              "  <tbody>\n",
              "    <tr>\n",
              "      <th>0</th>\n",
              "      <td>a0</td>\n",
              "      <td>b0</td>\n",
              "      <td>c0</td>\n",
              "      <td>d0</td>\n",
              "    </tr>\n",
              "    <tr>\n",
              "      <th>1</th>\n",
              "      <td>a1</td>\n",
              "      <td>b1</td>\n",
              "      <td>c1</td>\n",
              "      <td>d1</td>\n",
              "    </tr>\n",
              "    <tr>\n",
              "      <th>2</th>\n",
              "      <td>a2</td>\n",
              "      <td>b2</td>\n",
              "      <td>c2</td>\n",
              "      <td>d2</td>\n",
              "    </tr>\n",
              "    <tr>\n",
              "      <th>3</th>\n",
              "      <td>a3</td>\n",
              "      <td>b3</td>\n",
              "      <td>c3</td>\n",
              "      <td>d3</td>\n",
              "    </tr>\n",
              "    <tr>\n",
              "      <th>4</th>\n",
              "      <td>a4</td>\n",
              "      <td>b4</td>\n",
              "      <td>c4</td>\n",
              "      <td>d4</td>\n",
              "    </tr>\n",
              "    <tr>\n",
              "      <th>5</th>\n",
              "      <td>a5</td>\n",
              "      <td>b5</td>\n",
              "      <td>c5</td>\n",
              "      <td>d5</td>\n",
              "    </tr>\n",
              "    <tr>\n",
              "      <th>6</th>\n",
              "      <td>a6</td>\n",
              "      <td>b6</td>\n",
              "      <td>c6</td>\n",
              "      <td>d6</td>\n",
              "    </tr>\n",
              "    <tr>\n",
              "      <th>7</th>\n",
              "      <td>a7</td>\n",
              "      <td>b7</td>\n",
              "      <td>c7</td>\n",
              "      <td>d7</td>\n",
              "    </tr>\n",
              "    <tr>\n",
              "      <th>8</th>\n",
              "      <td>a8</td>\n",
              "      <td>b8</td>\n",
              "      <td>c8</td>\n",
              "      <td>d8</td>\n",
              "    </tr>\n",
              "    <tr>\n",
              "      <th>9</th>\n",
              "      <td>a9</td>\n",
              "      <td>b9</td>\n",
              "      <td>c9</td>\n",
              "      <td>d9</td>\n",
              "    </tr>\n",
              "    <tr>\n",
              "      <th>10</th>\n",
              "      <td>a10</td>\n",
              "      <td>b10</td>\n",
              "      <td>c10</td>\n",
              "      <td>d10</td>\n",
              "    </tr>\n",
              "    <tr>\n",
              "      <th>11</th>\n",
              "      <td>a11</td>\n",
              "      <td>b11</td>\n",
              "      <td>c11</td>\n",
              "      <td>d11</td>\n",
              "    </tr>\n",
              "  </tbody>\n",
              "</table>\n",
              "</div>"
            ],
            "text/plain": [
              "      A    B    C    D\n",
              "0    a0   b0   c0   d0\n",
              "1    a1   b1   c1   d1\n",
              "2    a2   b2   c2   d2\n",
              "3    a3   b3   c3   d3\n",
              "4    a4   b4   c4   d4\n",
              "5    a5   b5   c5   d5\n",
              "6    a6   b6   c6   d6\n",
              "7    a7   b7   c7   d7\n",
              "8    a8   b8   c8   d8\n",
              "9    a9   b9   c9   d9\n",
              "10  a10  b10  c10  d10\n",
              "11  a11  b11  c11  d11"
            ]
          },
          "metadata": {
            "tags": []
          },
          "execution_count": 9
        }
      ]
    },
    {
      "cell_type": "markdown",
      "metadata": {
        "id": "F8t6Y2j9qPnq"
      },
      "source": [
        "만약 행 방향이 아니라 **열 방향으로 데이터를 연결**하려면 어떻게 해야 할까?\n",
        "\n",
        "**concat 메서드의 axis 인자를 1로 지정**하면 된다. (참고! axis의 기본값은 0이다.)\n",
        "\n",
        "다음은 df1,df2,df3을 열 방향으로 연결한 것이다."
      ]
    },
    {
      "cell_type": "code",
      "metadata": {
        "colab": {
          "base_uri": "https://localhost:8080/",
          "height": 173
        },
        "id": "ke69ENC6qN3i",
        "outputId": "5a1e7dd7-4d29-49fe-e251-30423d207ff0"
      },
      "source": [
        "col_concat = pd.concat([df1, df2, df3], axis=1) ## axis=1 => 열 방향 데이터 연결\n",
        "col_concat"
      ],
      "execution_count": null,
      "outputs": [
        {
          "output_type": "execute_result",
          "data": {
            "text/html": [
              "<div>\n",
              "<style scoped>\n",
              "    .dataframe tbody tr th:only-of-type {\n",
              "        vertical-align: middle;\n",
              "    }\n",
              "\n",
              "    .dataframe tbody tr th {\n",
              "        vertical-align: top;\n",
              "    }\n",
              "\n",
              "    .dataframe thead th {\n",
              "        text-align: right;\n",
              "    }\n",
              "</style>\n",
              "<table border=\"1\" class=\"dataframe\">\n",
              "  <thead>\n",
              "    <tr style=\"text-align: right;\">\n",
              "      <th></th>\n",
              "      <th>A</th>\n",
              "      <th>B</th>\n",
              "      <th>C</th>\n",
              "      <th>D</th>\n",
              "      <th>A</th>\n",
              "      <th>B</th>\n",
              "      <th>C</th>\n",
              "      <th>D</th>\n",
              "      <th>A</th>\n",
              "      <th>B</th>\n",
              "      <th>C</th>\n",
              "      <th>D</th>\n",
              "    </tr>\n",
              "  </thead>\n",
              "  <tbody>\n",
              "    <tr>\n",
              "      <th>0</th>\n",
              "      <td>a0</td>\n",
              "      <td>b0</td>\n",
              "      <td>c0</td>\n",
              "      <td>d0</td>\n",
              "      <td>a4</td>\n",
              "      <td>b4</td>\n",
              "      <td>c4</td>\n",
              "      <td>d4</td>\n",
              "      <td>a8</td>\n",
              "      <td>b8</td>\n",
              "      <td>c8</td>\n",
              "      <td>d8</td>\n",
              "    </tr>\n",
              "    <tr>\n",
              "      <th>1</th>\n",
              "      <td>a1</td>\n",
              "      <td>b1</td>\n",
              "      <td>c1</td>\n",
              "      <td>d1</td>\n",
              "      <td>a5</td>\n",
              "      <td>b5</td>\n",
              "      <td>c5</td>\n",
              "      <td>d5</td>\n",
              "      <td>a9</td>\n",
              "      <td>b9</td>\n",
              "      <td>c9</td>\n",
              "      <td>d9</td>\n",
              "    </tr>\n",
              "    <tr>\n",
              "      <th>2</th>\n",
              "      <td>a2</td>\n",
              "      <td>b2</td>\n",
              "      <td>c2</td>\n",
              "      <td>d2</td>\n",
              "      <td>a6</td>\n",
              "      <td>b6</td>\n",
              "      <td>c6</td>\n",
              "      <td>d6</td>\n",
              "      <td>a10</td>\n",
              "      <td>b10</td>\n",
              "      <td>c10</td>\n",
              "      <td>d10</td>\n",
              "    </tr>\n",
              "    <tr>\n",
              "      <th>3</th>\n",
              "      <td>a3</td>\n",
              "      <td>b3</td>\n",
              "      <td>c3</td>\n",
              "      <td>d3</td>\n",
              "      <td>a7</td>\n",
              "      <td>b7</td>\n",
              "      <td>c7</td>\n",
              "      <td>d7</td>\n",
              "      <td>a11</td>\n",
              "      <td>b11</td>\n",
              "      <td>c11</td>\n",
              "      <td>d11</td>\n",
              "    </tr>\n",
              "  </tbody>\n",
              "</table>\n",
              "</div>"
            ],
            "text/plain": [
              "    A   B   C   D   A   B   C   D    A    B    C    D\n",
              "0  a0  b0  c0  d0  a4  b4  c4  d4   a8   b8   c8   d8\n",
              "1  a1  b1  c1  d1  a5  b5  c5  d5   a9   b9   c9   d9\n",
              "2  a2  b2  c2  d2  a6  b6  c6  d6  a10  b10  c10  d10\n",
              "3  a3  b3  c3  d3  a7  b7  c7  d7  a11  b11  c11  d11"
            ]
          },
          "metadata": {
            "tags": []
          },
          "execution_count": 10
        }
      ]
    },
    {
      "cell_type": "markdown",
      "metadata": {
        "id": "Vq7-p5zBq5d_"
      },
      "source": [
        "만약 같은 열 이름이 있는 데이터프레임에서 열 이름으로 데이터를 추출하면 해당 열 이름의 데이터를 모두 추출한다."
      ]
    },
    {
      "cell_type": "code",
      "metadata": {
        "colab": {
          "base_uri": "https://localhost:8080/",
          "height": 173
        },
        "id": "WlRoL1IwqN0r",
        "outputId": "b693582b-ee68-4536-d59a-3e0d54f08102"
      },
      "source": [
        "# 같은 열 이름 데이터만 추출\n",
        "col_concat['A']"
      ],
      "execution_count": null,
      "outputs": [
        {
          "output_type": "execute_result",
          "data": {
            "text/html": [
              "<div>\n",
              "<style scoped>\n",
              "    .dataframe tbody tr th:only-of-type {\n",
              "        vertical-align: middle;\n",
              "    }\n",
              "\n",
              "    .dataframe tbody tr th {\n",
              "        vertical-align: top;\n",
              "    }\n",
              "\n",
              "    .dataframe thead th {\n",
              "        text-align: right;\n",
              "    }\n",
              "</style>\n",
              "<table border=\"1\" class=\"dataframe\">\n",
              "  <thead>\n",
              "    <tr style=\"text-align: right;\">\n",
              "      <th></th>\n",
              "      <th>A</th>\n",
              "      <th>A</th>\n",
              "      <th>A</th>\n",
              "    </tr>\n",
              "  </thead>\n",
              "  <tbody>\n",
              "    <tr>\n",
              "      <th>0</th>\n",
              "      <td>a0</td>\n",
              "      <td>a4</td>\n",
              "      <td>a8</td>\n",
              "    </tr>\n",
              "    <tr>\n",
              "      <th>1</th>\n",
              "      <td>a1</td>\n",
              "      <td>a5</td>\n",
              "      <td>a9</td>\n",
              "    </tr>\n",
              "    <tr>\n",
              "      <th>2</th>\n",
              "      <td>a2</td>\n",
              "      <td>a6</td>\n",
              "      <td>a10</td>\n",
              "    </tr>\n",
              "    <tr>\n",
              "      <th>3</th>\n",
              "      <td>a3</td>\n",
              "      <td>a7</td>\n",
              "      <td>a11</td>\n",
              "    </tr>\n",
              "  </tbody>\n",
              "</table>\n",
              "</div>"
            ],
            "text/plain": [
              "    A   A    A\n",
              "0  a0  a4   a8\n",
              "1  a1  a5   a9\n",
              "2  a2  a6  a10\n",
              "3  a3  a7  a11"
            ]
          },
          "metadata": {
            "tags": []
          },
          "execution_count": 11
        }
      ]
    },
    {
      "cell_type": "code",
      "metadata": {
        "colab": {
          "base_uri": "https://localhost:8080/",
          "height": 173
        },
        "id": "AnN8XJv-qNvU",
        "outputId": "0b6aa13a-123c-494c-9e97-dddfae06f8c4"
      },
      "source": [
        "# 새로운 열 추가\n",
        "col_concat['new_col_list'] = ['n1','n2','n3','n4']\n",
        "col_concat"
      ],
      "execution_count": null,
      "outputs": [
        {
          "output_type": "execute_result",
          "data": {
            "text/html": [
              "<div>\n",
              "<style scoped>\n",
              "    .dataframe tbody tr th:only-of-type {\n",
              "        vertical-align: middle;\n",
              "    }\n",
              "\n",
              "    .dataframe tbody tr th {\n",
              "        vertical-align: top;\n",
              "    }\n",
              "\n",
              "    .dataframe thead th {\n",
              "        text-align: right;\n",
              "    }\n",
              "</style>\n",
              "<table border=\"1\" class=\"dataframe\">\n",
              "  <thead>\n",
              "    <tr style=\"text-align: right;\">\n",
              "      <th></th>\n",
              "      <th>A</th>\n",
              "      <th>B</th>\n",
              "      <th>C</th>\n",
              "      <th>D</th>\n",
              "      <th>A</th>\n",
              "      <th>B</th>\n",
              "      <th>C</th>\n",
              "      <th>D</th>\n",
              "      <th>A</th>\n",
              "      <th>B</th>\n",
              "      <th>C</th>\n",
              "      <th>D</th>\n",
              "      <th>new_col_list</th>\n",
              "    </tr>\n",
              "  </thead>\n",
              "  <tbody>\n",
              "    <tr>\n",
              "      <th>0</th>\n",
              "      <td>a0</td>\n",
              "      <td>b0</td>\n",
              "      <td>c0</td>\n",
              "      <td>d0</td>\n",
              "      <td>a4</td>\n",
              "      <td>b4</td>\n",
              "      <td>c4</td>\n",
              "      <td>d4</td>\n",
              "      <td>a8</td>\n",
              "      <td>b8</td>\n",
              "      <td>c8</td>\n",
              "      <td>d8</td>\n",
              "      <td>n1</td>\n",
              "    </tr>\n",
              "    <tr>\n",
              "      <th>1</th>\n",
              "      <td>a1</td>\n",
              "      <td>b1</td>\n",
              "      <td>c1</td>\n",
              "      <td>d1</td>\n",
              "      <td>a5</td>\n",
              "      <td>b5</td>\n",
              "      <td>c5</td>\n",
              "      <td>d5</td>\n",
              "      <td>a9</td>\n",
              "      <td>b9</td>\n",
              "      <td>c9</td>\n",
              "      <td>d9</td>\n",
              "      <td>n2</td>\n",
              "    </tr>\n",
              "    <tr>\n",
              "      <th>2</th>\n",
              "      <td>a2</td>\n",
              "      <td>b2</td>\n",
              "      <td>c2</td>\n",
              "      <td>d2</td>\n",
              "      <td>a6</td>\n",
              "      <td>b6</td>\n",
              "      <td>c6</td>\n",
              "      <td>d6</td>\n",
              "      <td>a10</td>\n",
              "      <td>b10</td>\n",
              "      <td>c10</td>\n",
              "      <td>d10</td>\n",
              "      <td>n3</td>\n",
              "    </tr>\n",
              "    <tr>\n",
              "      <th>3</th>\n",
              "      <td>a3</td>\n",
              "      <td>b3</td>\n",
              "      <td>c3</td>\n",
              "      <td>d3</td>\n",
              "      <td>a7</td>\n",
              "      <td>b7</td>\n",
              "      <td>c7</td>\n",
              "      <td>d7</td>\n",
              "      <td>a11</td>\n",
              "      <td>b11</td>\n",
              "      <td>c11</td>\n",
              "      <td>d11</td>\n",
              "      <td>n4</td>\n",
              "    </tr>\n",
              "  </tbody>\n",
              "</table>\n",
              "</div>"
            ],
            "text/plain": [
              "    A   B   C   D   A   B   C   D    A    B    C    D new_col_list\n",
              "0  a0  b0  c0  d0  a4  b4  c4  d4   a8   b8   c8   d8           n1\n",
              "1  a1  b1  c1  d1  a5  b5  c5  d5   a9   b9   c9   d9           n2\n",
              "2  a2  b2  c2  d2  a6  b6  c6  d6  a10  b10  c10  d10           n3\n",
              "3  a3  b3  c3  d3  a7  b7  c7  d7  a11  b11  c11  d11           n4"
            ]
          },
          "metadata": {
            "tags": []
          },
          "execution_count": 12
        }
      ]
    },
    {
      "cell_type": "markdown",
      "metadata": {
        "id": "tJd_tyQdrcal"
      },
      "source": [
        "앞선 과정에서 데이터프레임의 열 이름을 유지한 채 연결했기 때문에 열 이름이 중복되었다.\n",
        "\n",
        "다음은 ignore_index를 True로 지정하여 열 이름을 다시 지정한 것이다.\n",
        "\n",
        "이렇게 하면, 열 이름이 ABCDABCDABCD -> 인덱스 순서 로 바뀐다."
      ]
    },
    {
      "cell_type": "code",
      "metadata": {
        "colab": {
          "base_uri": "https://localhost:8080/",
          "height": 173
        },
        "id": "zxp__bxzrvg1",
        "outputId": "b1ea82ff-ff4f-4651-acbd-30f059f2c5de"
      },
      "source": [
        "# ignore_index=True로 열 이름 다시 지정\n",
        "pd.concat([df1, df2, df3], axis=1, ignore_index=True)"
      ],
      "execution_count": null,
      "outputs": [
        {
          "output_type": "execute_result",
          "data": {
            "text/html": [
              "<div>\n",
              "<style scoped>\n",
              "    .dataframe tbody tr th:only-of-type {\n",
              "        vertical-align: middle;\n",
              "    }\n",
              "\n",
              "    .dataframe tbody tr th {\n",
              "        vertical-align: top;\n",
              "    }\n",
              "\n",
              "    .dataframe thead th {\n",
              "        text-align: right;\n",
              "    }\n",
              "</style>\n",
              "<table border=\"1\" class=\"dataframe\">\n",
              "  <thead>\n",
              "    <tr style=\"text-align: right;\">\n",
              "      <th></th>\n",
              "      <th>0</th>\n",
              "      <th>1</th>\n",
              "      <th>2</th>\n",
              "      <th>3</th>\n",
              "      <th>4</th>\n",
              "      <th>5</th>\n",
              "      <th>6</th>\n",
              "      <th>7</th>\n",
              "      <th>8</th>\n",
              "      <th>9</th>\n",
              "      <th>10</th>\n",
              "      <th>11</th>\n",
              "    </tr>\n",
              "  </thead>\n",
              "  <tbody>\n",
              "    <tr>\n",
              "      <th>0</th>\n",
              "      <td>a0</td>\n",
              "      <td>b0</td>\n",
              "      <td>c0</td>\n",
              "      <td>d0</td>\n",
              "      <td>a4</td>\n",
              "      <td>b4</td>\n",
              "      <td>c4</td>\n",
              "      <td>d4</td>\n",
              "      <td>a8</td>\n",
              "      <td>b8</td>\n",
              "      <td>c8</td>\n",
              "      <td>d8</td>\n",
              "    </tr>\n",
              "    <tr>\n",
              "      <th>1</th>\n",
              "      <td>a1</td>\n",
              "      <td>b1</td>\n",
              "      <td>c1</td>\n",
              "      <td>d1</td>\n",
              "      <td>a5</td>\n",
              "      <td>b5</td>\n",
              "      <td>c5</td>\n",
              "      <td>d5</td>\n",
              "      <td>a9</td>\n",
              "      <td>b9</td>\n",
              "      <td>c9</td>\n",
              "      <td>d9</td>\n",
              "    </tr>\n",
              "    <tr>\n",
              "      <th>2</th>\n",
              "      <td>a2</td>\n",
              "      <td>b2</td>\n",
              "      <td>c2</td>\n",
              "      <td>d2</td>\n",
              "      <td>a6</td>\n",
              "      <td>b6</td>\n",
              "      <td>c6</td>\n",
              "      <td>d6</td>\n",
              "      <td>a10</td>\n",
              "      <td>b10</td>\n",
              "      <td>c10</td>\n",
              "      <td>d10</td>\n",
              "    </tr>\n",
              "    <tr>\n",
              "      <th>3</th>\n",
              "      <td>a3</td>\n",
              "      <td>b3</td>\n",
              "      <td>c3</td>\n",
              "      <td>d3</td>\n",
              "      <td>a7</td>\n",
              "      <td>b7</td>\n",
              "      <td>c7</td>\n",
              "      <td>d7</td>\n",
              "      <td>a11</td>\n",
              "      <td>b11</td>\n",
              "      <td>c11</td>\n",
              "      <td>d11</td>\n",
              "    </tr>\n",
              "  </tbody>\n",
              "</table>\n",
              "</div>"
            ],
            "text/plain": [
              "   0   1   2   3   4   5   6   7    8    9    10   11\n",
              "0  a0  b0  c0  d0  a4  b4  c4  d4   a8   b8   c8   d8\n",
              "1  a1  b1  c1  d1  a5  b5  c5  d5   a9   b9   c9   d9\n",
              "2  a2  b2  c2  d2  a6  b6  c6  d6  a10  b10  c10  d10\n",
              "3  a3  b3  c3  d3  a7  b7  c7  d7  a11  b11  c11  d11"
            ]
          },
          "metadata": {
            "tags": []
          },
          "execution_count": 13
        }
      ]
    },
    {
      "cell_type": "markdown",
      "metadata": {
        "id": "bYRRoxXdtIhF"
      },
      "source": [
        "만약 열 이름의 일부가 서로 다른 데이터프레임을 연결하면 어떻게 될까?\n",
        "\n",
        "앞에서 사용한 df1, df2, df3의 열 이름을 다시 지정해보겠다."
      ]
    },
    {
      "cell_type": "code",
      "metadata": {
        "colab": {
          "base_uri": "https://localhost:8080/"
        },
        "id": "k8HncxUEpHiD",
        "outputId": "3f4158f9-9372-4e7a-8386-5638b587d874"
      },
      "source": [
        "df1.columns =['A','B','C','D']\n",
        "df2.columns =['E','F','G','H']\n",
        "df3.columns =['A','C','F','H']\n",
        "print(df1)\n",
        "print(type(df1))\n",
        "\n",
        "print(\"-\"*50)\n",
        "\n",
        "print(df2)\n",
        "print(type(df2))\n",
        "\n",
        "print(\"-\"*50)\n",
        "\n",
        "print(df3)\n",
        "print(type(df3))"
      ],
      "execution_count": null,
      "outputs": [
        {
          "output_type": "stream",
          "text": [
            "    A   B   C   D\n",
            "0  a0  b0  c0  d0\n",
            "1  a1  b1  c1  d1\n",
            "2  a2  b2  c2  d2\n",
            "3  a3  b3  c3  d3\n",
            "<class 'pandas.core.frame.DataFrame'>\n",
            "--------------------------------------------------\n",
            "    E   F   G   H\n",
            "0  a4  b4  c4  d4\n",
            "1  a5  b5  c5  d5\n",
            "2  a6  b6  c6  d6\n",
            "3  a7  b7  c7  d7\n",
            "<class 'pandas.core.frame.DataFrame'>\n",
            "--------------------------------------------------\n",
            "     A    C    F    H\n",
            "0   a8   b8   c8   d8\n",
            "1   a9   b9   c9   d9\n",
            "2  a10  b10  c10  d10\n",
            "3  a11  b11  c11  d11\n",
            "<class 'pandas.core.frame.DataFrame'>\n"
          ],
          "name": "stdout"
        }
      ]
    },
    {
      "cell_type": "markdown",
      "metadata": {
        "id": "v_u2n70BtWso"
      },
      "source": [
        "그 다음 새롭게 열 이름을 부여한 데이터프레임 3개를 concat 메서드로 연결해보겠다.\n",
        "\n",
        "열 이름이 정렬되며 연결되었다.\n",
        "\n",
        "그리고 데이터프레임에 없는 열 이름의 데이터는 누락값으로 처리되었다."
      ]
    },
    {
      "cell_type": "code",
      "metadata": {
        "colab": {
          "base_uri": "https://localhost:8080/",
          "height": 421
        },
        "id": "Gb4vbtLupHdw",
        "outputId": "e715a3e6-ff9b-44bb-f1de-e4ddeb9b25c7"
      },
      "source": [
        "row_concat = pd.concat([df1, df2, df3])\n",
        "row_concat"
      ],
      "execution_count": null,
      "outputs": [
        {
          "output_type": "execute_result",
          "data": {
            "text/html": [
              "<div>\n",
              "<style scoped>\n",
              "    .dataframe tbody tr th:only-of-type {\n",
              "        vertical-align: middle;\n",
              "    }\n",
              "\n",
              "    .dataframe tbody tr th {\n",
              "        vertical-align: top;\n",
              "    }\n",
              "\n",
              "    .dataframe thead th {\n",
              "        text-align: right;\n",
              "    }\n",
              "</style>\n",
              "<table border=\"1\" class=\"dataframe\">\n",
              "  <thead>\n",
              "    <tr style=\"text-align: right;\">\n",
              "      <th></th>\n",
              "      <th>A</th>\n",
              "      <th>B</th>\n",
              "      <th>C</th>\n",
              "      <th>D</th>\n",
              "      <th>E</th>\n",
              "      <th>F</th>\n",
              "      <th>G</th>\n",
              "      <th>H</th>\n",
              "    </tr>\n",
              "  </thead>\n",
              "  <tbody>\n",
              "    <tr>\n",
              "      <th>0</th>\n",
              "      <td>a0</td>\n",
              "      <td>b0</td>\n",
              "      <td>c0</td>\n",
              "      <td>d0</td>\n",
              "      <td>NaN</td>\n",
              "      <td>NaN</td>\n",
              "      <td>NaN</td>\n",
              "      <td>NaN</td>\n",
              "    </tr>\n",
              "    <tr>\n",
              "      <th>1</th>\n",
              "      <td>a1</td>\n",
              "      <td>b1</td>\n",
              "      <td>c1</td>\n",
              "      <td>d1</td>\n",
              "      <td>NaN</td>\n",
              "      <td>NaN</td>\n",
              "      <td>NaN</td>\n",
              "      <td>NaN</td>\n",
              "    </tr>\n",
              "    <tr>\n",
              "      <th>2</th>\n",
              "      <td>a2</td>\n",
              "      <td>b2</td>\n",
              "      <td>c2</td>\n",
              "      <td>d2</td>\n",
              "      <td>NaN</td>\n",
              "      <td>NaN</td>\n",
              "      <td>NaN</td>\n",
              "      <td>NaN</td>\n",
              "    </tr>\n",
              "    <tr>\n",
              "      <th>3</th>\n",
              "      <td>a3</td>\n",
              "      <td>b3</td>\n",
              "      <td>c3</td>\n",
              "      <td>d3</td>\n",
              "      <td>NaN</td>\n",
              "      <td>NaN</td>\n",
              "      <td>NaN</td>\n",
              "      <td>NaN</td>\n",
              "    </tr>\n",
              "    <tr>\n",
              "      <th>0</th>\n",
              "      <td>NaN</td>\n",
              "      <td>NaN</td>\n",
              "      <td>NaN</td>\n",
              "      <td>NaN</td>\n",
              "      <td>a4</td>\n",
              "      <td>b4</td>\n",
              "      <td>c4</td>\n",
              "      <td>d4</td>\n",
              "    </tr>\n",
              "    <tr>\n",
              "      <th>1</th>\n",
              "      <td>NaN</td>\n",
              "      <td>NaN</td>\n",
              "      <td>NaN</td>\n",
              "      <td>NaN</td>\n",
              "      <td>a5</td>\n",
              "      <td>b5</td>\n",
              "      <td>c5</td>\n",
              "      <td>d5</td>\n",
              "    </tr>\n",
              "    <tr>\n",
              "      <th>2</th>\n",
              "      <td>NaN</td>\n",
              "      <td>NaN</td>\n",
              "      <td>NaN</td>\n",
              "      <td>NaN</td>\n",
              "      <td>a6</td>\n",
              "      <td>b6</td>\n",
              "      <td>c6</td>\n",
              "      <td>d6</td>\n",
              "    </tr>\n",
              "    <tr>\n",
              "      <th>3</th>\n",
              "      <td>NaN</td>\n",
              "      <td>NaN</td>\n",
              "      <td>NaN</td>\n",
              "      <td>NaN</td>\n",
              "      <td>a7</td>\n",
              "      <td>b7</td>\n",
              "      <td>c7</td>\n",
              "      <td>d7</td>\n",
              "    </tr>\n",
              "    <tr>\n",
              "      <th>0</th>\n",
              "      <td>a8</td>\n",
              "      <td>NaN</td>\n",
              "      <td>b8</td>\n",
              "      <td>NaN</td>\n",
              "      <td>NaN</td>\n",
              "      <td>c8</td>\n",
              "      <td>NaN</td>\n",
              "      <td>d8</td>\n",
              "    </tr>\n",
              "    <tr>\n",
              "      <th>1</th>\n",
              "      <td>a9</td>\n",
              "      <td>NaN</td>\n",
              "      <td>b9</td>\n",
              "      <td>NaN</td>\n",
              "      <td>NaN</td>\n",
              "      <td>c9</td>\n",
              "      <td>NaN</td>\n",
              "      <td>d9</td>\n",
              "    </tr>\n",
              "    <tr>\n",
              "      <th>2</th>\n",
              "      <td>a10</td>\n",
              "      <td>NaN</td>\n",
              "      <td>b10</td>\n",
              "      <td>NaN</td>\n",
              "      <td>NaN</td>\n",
              "      <td>c10</td>\n",
              "      <td>NaN</td>\n",
              "      <td>d10</td>\n",
              "    </tr>\n",
              "    <tr>\n",
              "      <th>3</th>\n",
              "      <td>a11</td>\n",
              "      <td>NaN</td>\n",
              "      <td>b11</td>\n",
              "      <td>NaN</td>\n",
              "      <td>NaN</td>\n",
              "      <td>c11</td>\n",
              "      <td>NaN</td>\n",
              "      <td>d11</td>\n",
              "    </tr>\n",
              "  </tbody>\n",
              "</table>\n",
              "</div>"
            ],
            "text/plain": [
              "     A    B    C    D    E    F    G    H\n",
              "0   a0   b0   c0   d0  NaN  NaN  NaN  NaN\n",
              "1   a1   b1   c1   d1  NaN  NaN  NaN  NaN\n",
              "2   a2   b2   c2   d2  NaN  NaN  NaN  NaN\n",
              "3   a3   b3   c3   d3  NaN  NaN  NaN  NaN\n",
              "0  NaN  NaN  NaN  NaN   a4   b4   c4   d4\n",
              "1  NaN  NaN  NaN  NaN   a5   b5   c5   d5\n",
              "2  NaN  NaN  NaN  NaN   a6   b6   c6   d6\n",
              "3  NaN  NaN  NaN  NaN   a7   b7   c7   d7\n",
              "0   a8  NaN   b8  NaN  NaN   c8  NaN   d8\n",
              "1   a9  NaN   b9  NaN  NaN   c9  NaN   d9\n",
              "2  a10  NaN  b10  NaN  NaN  c10  NaN  d10\n",
              "3  a11  NaN  b11  NaN  NaN  c11  NaN  d11"
            ]
          },
          "metadata": {
            "tags": []
          },
          "execution_count": 15
        }
      ]
    },
    {
      "cell_type": "markdown",
      "metadata": {
        "id": "5SZJluHetnlV"
      },
      "source": [
        "위의 출력 결과를 보면, 데이터프레임에 없는 열 이름의 데이터는 누락값(NaN)으로 처리되었음을 알 수 있다.\n",
        "\n",
        "**누락값 없이 데이터를 연결하기 위해서는 데이터프레임의 공통 열만 골라 연결하면 된다.**\n",
        "\n",
        "**이를 위해서는 join 인자를 inner로 지정해야 한다.**\n",
        "\n",
        "하지만 아쉽게도 df1, df2, df3은 공통 열이 없다. \n",
        "\n"
      ]
    },
    {
      "cell_type": "code",
      "metadata": {
        "colab": {
          "base_uri": "https://localhost:8080/",
          "height": 404
        },
        "id": "OVv7W5zMtml9",
        "outputId": "05f59dcd-a4fb-4637-855d-c0bda03fabdd"
      },
      "source": [
        "#  누락값(NaN) 출력 안되는 데이터 연결 - join='inner' 사용\n",
        "pd.concat([df1, df2, df3], join='inner')"
      ],
      "execution_count": null,
      "outputs": [
        {
          "output_type": "execute_result",
          "data": {
            "text/html": [
              "<div>\n",
              "<style scoped>\n",
              "    .dataframe tbody tr th:only-of-type {\n",
              "        vertical-align: middle;\n",
              "    }\n",
              "\n",
              "    .dataframe tbody tr th {\n",
              "        vertical-align: top;\n",
              "    }\n",
              "\n",
              "    .dataframe thead th {\n",
              "        text-align: right;\n",
              "    }\n",
              "</style>\n",
              "<table border=\"1\" class=\"dataframe\">\n",
              "  <thead>\n",
              "    <tr style=\"text-align: right;\">\n",
              "      <th></th>\n",
              "    </tr>\n",
              "  </thead>\n",
              "  <tbody>\n",
              "    <tr>\n",
              "      <th>0</th>\n",
              "    </tr>\n",
              "    <tr>\n",
              "      <th>1</th>\n",
              "    </tr>\n",
              "    <tr>\n",
              "      <th>2</th>\n",
              "    </tr>\n",
              "    <tr>\n",
              "      <th>3</th>\n",
              "    </tr>\n",
              "    <tr>\n",
              "      <th>0</th>\n",
              "    </tr>\n",
              "    <tr>\n",
              "      <th>1</th>\n",
              "    </tr>\n",
              "    <tr>\n",
              "      <th>2</th>\n",
              "    </tr>\n",
              "    <tr>\n",
              "      <th>3</th>\n",
              "    </tr>\n",
              "    <tr>\n",
              "      <th>0</th>\n",
              "    </tr>\n",
              "    <tr>\n",
              "      <th>1</th>\n",
              "    </tr>\n",
              "    <tr>\n",
              "      <th>2</th>\n",
              "    </tr>\n",
              "    <tr>\n",
              "      <th>3</th>\n",
              "    </tr>\n",
              "  </tbody>\n",
              "</table>\n",
              "</div>"
            ],
            "text/plain": [
              "Empty DataFrame\n",
              "Columns: []\n",
              "Index: [0, 1, 2, 3, 0, 1, 2, 3, 0, 1, 2, 3]"
            ]
          },
          "metadata": {
            "tags": []
          },
          "execution_count": 16
        }
      ]
    },
    {
      "cell_type": "markdown",
      "metadata": {
        "id": "Ss2u-dK-vJHg"
      },
      "source": [
        "---\n",
        "\n",
        "따라서 세 데이터프레임의 공통 열을 연결한 결과값으로 \n",
        "\n",
        "Empty DataFrame\n",
        "\n",
        "columns: []\n",
        "\n",
        "Index: [0,1,2,3,0,1,2,3,0,1,2,3,]\n",
        "\n",
        "이 출력된다.\n",
        "\n",
        "---\n",
        "\n",
        "\n",
        "\n",
        "---\n",
        "\n"
      ]
    },
    {
      "cell_type": "markdown",
      "metadata": {
        "id": "mkjwb2isvNrC"
      },
      "source": [
        "이번에는 df1과 df3의 공통 열만 골라서 연결해보자.\n",
        "\n",
        "그러면 공통 열인 A와 C만 연결이 되는 것을 볼 수 있다.\n",
        "\n",
        "참고로 ignore_index를 False로 설정했기 때문에 열 이름은 새로 지정되지 않고 있다.\n"
      ]
    },
    {
      "cell_type": "code",
      "metadata": {
        "colab": {
          "base_uri": "https://localhost:8080/",
          "height": 297
        },
        "id": "Y7KgXvtdtmhZ",
        "outputId": "a990ca8f-e212-483c-b980-22a7f5b16e03"
      },
      "source": [
        "pd.concat([df1, df3], ignore_index=False, join='inner')"
      ],
      "execution_count": null,
      "outputs": [
        {
          "output_type": "execute_result",
          "data": {
            "text/html": [
              "<div>\n",
              "<style scoped>\n",
              "    .dataframe tbody tr th:only-of-type {\n",
              "        vertical-align: middle;\n",
              "    }\n",
              "\n",
              "    .dataframe tbody tr th {\n",
              "        vertical-align: top;\n",
              "    }\n",
              "\n",
              "    .dataframe thead th {\n",
              "        text-align: right;\n",
              "    }\n",
              "</style>\n",
              "<table border=\"1\" class=\"dataframe\">\n",
              "  <thead>\n",
              "    <tr style=\"text-align: right;\">\n",
              "      <th></th>\n",
              "      <th>A</th>\n",
              "      <th>C</th>\n",
              "    </tr>\n",
              "  </thead>\n",
              "  <tbody>\n",
              "    <tr>\n",
              "      <th>0</th>\n",
              "      <td>a0</td>\n",
              "      <td>c0</td>\n",
              "    </tr>\n",
              "    <tr>\n",
              "      <th>1</th>\n",
              "      <td>a1</td>\n",
              "      <td>c1</td>\n",
              "    </tr>\n",
              "    <tr>\n",
              "      <th>2</th>\n",
              "      <td>a2</td>\n",
              "      <td>c2</td>\n",
              "    </tr>\n",
              "    <tr>\n",
              "      <th>3</th>\n",
              "      <td>a3</td>\n",
              "      <td>c3</td>\n",
              "    </tr>\n",
              "    <tr>\n",
              "      <th>0</th>\n",
              "      <td>a8</td>\n",
              "      <td>b8</td>\n",
              "    </tr>\n",
              "    <tr>\n",
              "      <th>1</th>\n",
              "      <td>a9</td>\n",
              "      <td>b9</td>\n",
              "    </tr>\n",
              "    <tr>\n",
              "      <th>2</th>\n",
              "      <td>a10</td>\n",
              "      <td>b10</td>\n",
              "    </tr>\n",
              "    <tr>\n",
              "      <th>3</th>\n",
              "      <td>a11</td>\n",
              "      <td>b11</td>\n",
              "    </tr>\n",
              "  </tbody>\n",
              "</table>\n",
              "</div>"
            ],
            "text/plain": [
              "     A    C\n",
              "0   a0   c0\n",
              "1   a1   c1\n",
              "2   a2   c2\n",
              "3   a3   c3\n",
              "0   a8   b8\n",
              "1   a9   b9\n",
              "2  a10  b10\n",
              "3  a11  b11"
            ]
          },
          "metadata": {
            "tags": []
          },
          "execution_count": 17
        }
      ]
    },
    {
      "cell_type": "markdown",
      "metadata": {
        "id": "UzZDl2iIQxNr"
      },
      "source": [
        "이번에는 데이터프레임을 행 방향으로 연결해보자.\n",
        "\n",
        "우선 df1, df2, df3의 인덱스를 다시 지정해볼 것이다."
      ]
    },
    {
      "cell_type": "code",
      "metadata": {
        "colab": {
          "base_uri": "https://localhost:8080/"
        },
        "id": "Dxk9vVC6Pui5",
        "outputId": "dca8c928-8b5d-400d-ecaa-fa66c30fa76b"
      },
      "source": [
        "# 데이터 프레임 생성 후 확인\n",
        "df1.index = [0,1,2,3]\n",
        "df2.index = [4,5,6,7]\n",
        "df3.index = [0,2,5,7]\n",
        "\n",
        "print(df1)\n",
        "print(\"-\"*50)\n",
        "\n",
        "print(df2)\n",
        "print(\"-\"*50)\n",
        "\n",
        "print(df3)\n",
        "print(\"-\"*50)"
      ],
      "execution_count": null,
      "outputs": [
        {
          "output_type": "stream",
          "text": [
            "    A   B   C   D\n",
            "0  a0  b0  c0  d0\n",
            "1  a1  b1  c1  d1\n",
            "2  a2  b2  c2  d2\n",
            "3  a3  b3  c3  d3\n",
            "--------------------------------------------------\n",
            "    E   F   G   H\n",
            "4  a4  b4  c4  d4\n",
            "5  a5  b5  c5  d5\n",
            "6  a6  b6  c6  d6\n",
            "7  a7  b7  c7  d7\n",
            "--------------------------------------------------\n",
            "     A    C    F    H\n",
            "0   a8   b8   c8   d8\n",
            "2   a9   b9   c9   d9\n",
            "5  a10  b10  c10  d10\n",
            "7  a11  b11  c11  d11\n",
            "--------------------------------------------------\n"
          ],
          "name": "stdout"
        }
      ]
    },
    {
      "cell_type": "code",
      "metadata": {
        "colab": {
          "base_uri": "https://localhost:8080/",
          "height": 297
        },
        "id": "QSlTY1ykPufI",
        "outputId": "de658b48-628e-4087-e522-478235f87f06"
      },
      "source": [
        "# concat 메서드로 데이터 연결하기 \n",
        "col_concat = pd.concat([df1, df2, df3], axis=1)\n",
        "col_concat"
      ],
      "execution_count": null,
      "outputs": [
        {
          "output_type": "execute_result",
          "data": {
            "text/html": [
              "<div>\n",
              "<style scoped>\n",
              "    .dataframe tbody tr th:only-of-type {\n",
              "        vertical-align: middle;\n",
              "    }\n",
              "\n",
              "    .dataframe tbody tr th {\n",
              "        vertical-align: top;\n",
              "    }\n",
              "\n",
              "    .dataframe thead th {\n",
              "        text-align: right;\n",
              "    }\n",
              "</style>\n",
              "<table border=\"1\" class=\"dataframe\">\n",
              "  <thead>\n",
              "    <tr style=\"text-align: right;\">\n",
              "      <th></th>\n",
              "      <th>A</th>\n",
              "      <th>B</th>\n",
              "      <th>C</th>\n",
              "      <th>D</th>\n",
              "      <th>E</th>\n",
              "      <th>F</th>\n",
              "      <th>G</th>\n",
              "      <th>H</th>\n",
              "      <th>A</th>\n",
              "      <th>C</th>\n",
              "      <th>F</th>\n",
              "      <th>H</th>\n",
              "    </tr>\n",
              "  </thead>\n",
              "  <tbody>\n",
              "    <tr>\n",
              "      <th>0</th>\n",
              "      <td>a0</td>\n",
              "      <td>b0</td>\n",
              "      <td>c0</td>\n",
              "      <td>d0</td>\n",
              "      <td>NaN</td>\n",
              "      <td>NaN</td>\n",
              "      <td>NaN</td>\n",
              "      <td>NaN</td>\n",
              "      <td>a8</td>\n",
              "      <td>b8</td>\n",
              "      <td>c8</td>\n",
              "      <td>d8</td>\n",
              "    </tr>\n",
              "    <tr>\n",
              "      <th>1</th>\n",
              "      <td>a1</td>\n",
              "      <td>b1</td>\n",
              "      <td>c1</td>\n",
              "      <td>d1</td>\n",
              "      <td>NaN</td>\n",
              "      <td>NaN</td>\n",
              "      <td>NaN</td>\n",
              "      <td>NaN</td>\n",
              "      <td>NaN</td>\n",
              "      <td>NaN</td>\n",
              "      <td>NaN</td>\n",
              "      <td>NaN</td>\n",
              "    </tr>\n",
              "    <tr>\n",
              "      <th>2</th>\n",
              "      <td>a2</td>\n",
              "      <td>b2</td>\n",
              "      <td>c2</td>\n",
              "      <td>d2</td>\n",
              "      <td>NaN</td>\n",
              "      <td>NaN</td>\n",
              "      <td>NaN</td>\n",
              "      <td>NaN</td>\n",
              "      <td>a9</td>\n",
              "      <td>b9</td>\n",
              "      <td>c9</td>\n",
              "      <td>d9</td>\n",
              "    </tr>\n",
              "    <tr>\n",
              "      <th>3</th>\n",
              "      <td>a3</td>\n",
              "      <td>b3</td>\n",
              "      <td>c3</td>\n",
              "      <td>d3</td>\n",
              "      <td>NaN</td>\n",
              "      <td>NaN</td>\n",
              "      <td>NaN</td>\n",
              "      <td>NaN</td>\n",
              "      <td>NaN</td>\n",
              "      <td>NaN</td>\n",
              "      <td>NaN</td>\n",
              "      <td>NaN</td>\n",
              "    </tr>\n",
              "    <tr>\n",
              "      <th>4</th>\n",
              "      <td>NaN</td>\n",
              "      <td>NaN</td>\n",
              "      <td>NaN</td>\n",
              "      <td>NaN</td>\n",
              "      <td>a4</td>\n",
              "      <td>b4</td>\n",
              "      <td>c4</td>\n",
              "      <td>d4</td>\n",
              "      <td>NaN</td>\n",
              "      <td>NaN</td>\n",
              "      <td>NaN</td>\n",
              "      <td>NaN</td>\n",
              "    </tr>\n",
              "    <tr>\n",
              "      <th>5</th>\n",
              "      <td>NaN</td>\n",
              "      <td>NaN</td>\n",
              "      <td>NaN</td>\n",
              "      <td>NaN</td>\n",
              "      <td>a5</td>\n",
              "      <td>b5</td>\n",
              "      <td>c5</td>\n",
              "      <td>d5</td>\n",
              "      <td>a10</td>\n",
              "      <td>b10</td>\n",
              "      <td>c10</td>\n",
              "      <td>d10</td>\n",
              "    </tr>\n",
              "    <tr>\n",
              "      <th>6</th>\n",
              "      <td>NaN</td>\n",
              "      <td>NaN</td>\n",
              "      <td>NaN</td>\n",
              "      <td>NaN</td>\n",
              "      <td>a6</td>\n",
              "      <td>b6</td>\n",
              "      <td>c6</td>\n",
              "      <td>d6</td>\n",
              "      <td>NaN</td>\n",
              "      <td>NaN</td>\n",
              "      <td>NaN</td>\n",
              "      <td>NaN</td>\n",
              "    </tr>\n",
              "    <tr>\n",
              "      <th>7</th>\n",
              "      <td>NaN</td>\n",
              "      <td>NaN</td>\n",
              "      <td>NaN</td>\n",
              "      <td>NaN</td>\n",
              "      <td>a7</td>\n",
              "      <td>b7</td>\n",
              "      <td>c7</td>\n",
              "      <td>d7</td>\n",
              "      <td>a11</td>\n",
              "      <td>b11</td>\n",
              "      <td>c11</td>\n",
              "      <td>d11</td>\n",
              "    </tr>\n",
              "  </tbody>\n",
              "</table>\n",
              "</div>"
            ],
            "text/plain": [
              "     A    B    C    D    E    F    G    H    A    C    F    H\n",
              "0   a0   b0   c0   d0  NaN  NaN  NaN  NaN   a8   b8   c8   d8\n",
              "1   a1   b1   c1   d1  NaN  NaN  NaN  NaN  NaN  NaN  NaN  NaN\n",
              "2   a2   b2   c2   d2  NaN  NaN  NaN  NaN   a9   b9   c9   d9\n",
              "3   a3   b3   c3   d3  NaN  NaN  NaN  NaN  NaN  NaN  NaN  NaN\n",
              "4  NaN  NaN  NaN  NaN   a4   b4   c4   d4  NaN  NaN  NaN  NaN\n",
              "5  NaN  NaN  NaN  NaN   a5   b5   c5   d5  a10  b10  c10  d10\n",
              "6  NaN  NaN  NaN  NaN   a6   b6   c6   d6  NaN  NaN  NaN  NaN\n",
              "7  NaN  NaN  NaN  NaN   a7   b7   c7   d7  a11  b11  c11  d11"
            ]
          },
          "metadata": {
            "tags": []
          },
          "execution_count": 19
        }
      ]
    },
    {
      "cell_type": "code",
      "metadata": {
        "colab": {
          "base_uri": "https://localhost:8080/",
          "height": 111
        },
        "id": "5wiIlR-_PuLn",
        "outputId": "31a6bbd7-f3b6-4114-ab10-5c8345cbe17b"
      },
      "source": [
        "pd.concat([df1, df3], axis=1, join='inner')"
      ],
      "execution_count": null,
      "outputs": [
        {
          "output_type": "execute_result",
          "data": {
            "text/html": [
              "<div>\n",
              "<style scoped>\n",
              "    .dataframe tbody tr th:only-of-type {\n",
              "        vertical-align: middle;\n",
              "    }\n",
              "\n",
              "    .dataframe tbody tr th {\n",
              "        vertical-align: top;\n",
              "    }\n",
              "\n",
              "    .dataframe thead th {\n",
              "        text-align: right;\n",
              "    }\n",
              "</style>\n",
              "<table border=\"1\" class=\"dataframe\">\n",
              "  <thead>\n",
              "    <tr style=\"text-align: right;\">\n",
              "      <th></th>\n",
              "      <th>A</th>\n",
              "      <th>B</th>\n",
              "      <th>C</th>\n",
              "      <th>D</th>\n",
              "      <th>A</th>\n",
              "      <th>C</th>\n",
              "      <th>F</th>\n",
              "      <th>H</th>\n",
              "    </tr>\n",
              "  </thead>\n",
              "  <tbody>\n",
              "    <tr>\n",
              "      <th>0</th>\n",
              "      <td>a0</td>\n",
              "      <td>b0</td>\n",
              "      <td>c0</td>\n",
              "      <td>d0</td>\n",
              "      <td>a8</td>\n",
              "      <td>b8</td>\n",
              "      <td>c8</td>\n",
              "      <td>d8</td>\n",
              "    </tr>\n",
              "    <tr>\n",
              "      <th>2</th>\n",
              "      <td>a2</td>\n",
              "      <td>b2</td>\n",
              "      <td>c2</td>\n",
              "      <td>d2</td>\n",
              "      <td>a9</td>\n",
              "      <td>b9</td>\n",
              "      <td>c9</td>\n",
              "      <td>d9</td>\n",
              "    </tr>\n",
              "  </tbody>\n",
              "</table>\n",
              "</div>"
            ],
            "text/plain": [
              "    A   B   C   D   A   C   F   H\n",
              "0  a0  b0  c0  d0  a8  b8  c8  d8\n",
              "2  a2  b2  c2  d2  a9  b9  c9  d9"
            ]
          },
          "metadata": {
            "tags": []
          },
          "execution_count": 20
        }
      ]
    },
    {
      "cell_type": "markdown",
      "metadata": {
        "id": "Q0dBR3bbVhbd"
      },
      "source": [
        "\n",
        "---\n",
        "\n",
        "*   외부 조인과 내부 조인\n",
        "\n",
        "  *   내부 조인(Inner Join)\n",
        "\n",
        "  : 둘 이상의 데이터프레임에서 조건에 맞는 행을 연결하는 것이다.\n",
        "\n",
        "\n",
        "  *   외부 조인(Outer Join)\n",
        "\n",
        "  : 외부 조인은 두 데이터프레임 중 어떤 데이터프레임을 기준으로 할 것이지에 따라 **왼쪽 외부 조인(Left  Outer Join)**과 **오른쪽 외부 조인(Right Outer Join)**, **완전 외부 조인(Full Outer Join)**으로 나눌 수 있다. \n",
        "\n",
        "  왼쪽 외부 조인은 데이터프레임을 연결할 때 왼쪽 데이터프레임을 모두 포함하여 연결하는 것이고,\n",
        "오른쪽 외부 조인은 데이터프레임을 연결할 때 오른쪽 데이터프레임을 모두 포함하여 연결하는 것이다.\n",
        "완전 외부조인은 왼쪽과 오른쪽 데이터프레임을 모두 포함하여 연결한다. \n"
      ]
    },
    {
      "cell_type": "markdown",
      "metadata": {
        "id": "6ybE2-d3WuFA"
      },
      "source": [
        "## 5.3. 데이터 연결 마무리"
      ]
    },
    {
      "cell_type": "markdown",
      "metadata": {
        "id": "IWa98YqnWxM5"
      },
      "source": [
        "판다스는 데이터 연결 전용 메서드인 merge도 제공한다. "
      ]
    },
    {
      "cell_type": "code",
      "metadata": {
        "colab": {
          "base_uri": "https://localhost:8080/"
        },
        "id": "KVlGhmAGPuHl",
        "outputId": "32d5c8c7-1939-453a-a040-20500f5156b6"
      },
      "source": [
        "person = pd.read_csv('/content/drive/MyDrive/pandas/doit_pandas-master/data/survey_person.csv')\n",
        "site = pd.read_csv('/content/drive/MyDrive/pandas/doit_pandas-master/data/survey_site.csv')\n",
        "survey = pd.read_csv('/content/drive/MyDrive/pandas/doit_pandas-master/data/survey_survey.csv')\n",
        "visited = pd.read_csv('/content/drive/MyDrive/pandas/doit_pandas-master/data/survey_visited.csv')\n",
        "\n",
        "print(person)\n",
        "print(\"-\"*50)\n",
        "\n",
        "print(site)\n",
        "print(\"-\"*50)\n",
        "\n",
        "print(visited)\n",
        "print(\"-\"*50)\n",
        "\n",
        "print(survey)\n",
        "print(\"-\"*50)\n"
      ],
      "execution_count": null,
      "outputs": [
        {
          "output_type": "stream",
          "text": [
            "      ident   personal    family\n",
            "0      dyer    William      Dyer\n",
            "1        pb      Frank   Pabodie\n",
            "2      lake   Anderson      Lake\n",
            "3       roe  Valentina   Roerich\n",
            "4  danforth      Frank  Danforth\n",
            "--------------------------------------------------\n",
            "    name    lat    long\n",
            "0   DR-1 -49.85 -128.57\n",
            "1   DR-3 -47.15 -126.72\n",
            "2  MSK-4 -48.87 -123.40\n",
            "--------------------------------------------------\n",
            "   ident   site       dated\n",
            "0    619   DR-1  1927-02-08\n",
            "1    622   DR-1  1927-02-10\n",
            "2    734   DR-3  1939-01-07\n",
            "3    735   DR-3  1930-01-12\n",
            "4    751   DR-3  1930-02-26\n",
            "5    752   DR-3         NaN\n",
            "6    837  MSK-4  1932-01-14\n",
            "7    844   DR-1  1932-03-22\n",
            "--------------------------------------------------\n",
            "    taken person quant  reading\n",
            "0     619   dyer   rad     9.82\n",
            "1     619   dyer   sal     0.13\n",
            "2     622   dyer   rad     7.80\n",
            "3     622   dyer   sal     0.09\n",
            "4     734     pb   rad     8.41\n",
            "5     734   lake   sal     0.05\n",
            "6     734     pb  temp   -21.50\n",
            "7     735     pb   rad     7.22\n",
            "8     735    NaN   sal     0.06\n",
            "9     735    NaN  temp   -26.00\n",
            "10    751     pb   rad     4.35\n",
            "11    751     pb  temp   -18.50\n",
            "12    751   lake   sal     0.10\n",
            "13    752   lake   rad     2.19\n",
            "14    752   lake   sal     0.09\n",
            "15    752   lake  temp   -16.00\n",
            "16    752    roe   sal    41.60\n",
            "17    837   lake   rad     1.46\n",
            "18    837   lake   sal     0.21\n",
            "19    837    roe   sal    22.50\n",
            "20    844    roe   rad    11.25\n",
            "--------------------------------------------------\n"
          ],
          "name": "stdout"
        }
      ]
    },
    {
      "cell_type": "code",
      "metadata": {
        "id": "scqS7m0EWllH"
      },
      "source": [
        "# visited 데이터의 일부만 떼어 visited_subset 변수로 지정\n",
        "visited_subset = visited.loc[[0,2,6], ]"
      ],
      "execution_count": null,
      "outputs": []
    },
    {
      "cell_type": "markdown",
      "metadata": {
        "id": "w0Sa-n8PXzbI"
      },
      "source": [
        "merge 메서드는 **기본적으로 내부 조인**(*누락값 없애기)을 실행하며 메서드를 사용한 데이터프레임(site)을 왼쪽으로 지정하고, 첫번째 인자값으로 지정한 데이터프레임(visited_subset)을 오른쪽으로 지정한다.\n",
        "\n",
        "left_on, right_on 인자는 값이 일치해야할 왼쪽과 오른쪽 데이터프레임의 열을 지정한다.\n",
        "\n",
        "즉, 왼쪽 데이터프레임(site)의 열(name)과 오른쪽 데이터프레임(visited)의 열(site)의 값이 일치하면 왼쪽 데이터프레임을 기준으로 연결한다.\n",
        "\n"
      ]
    },
    {
      "cell_type": "code",
      "metadata": {
        "colab": {
          "base_uri": "https://localhost:8080/",
          "height": 142
        },
        "id": "SNft16Txtlu7",
        "outputId": "7fb86992-3bd6-49ca-cce8-cfbea00253f3"
      },
      "source": [
        "# site와 visited_subset 연결\n",
        "o2o_merge = site.merge(visited_subset, left_on='name', right_on='site')  ## visited_subset 변수는 위에서 설정했음\n",
        "o2o_merge"
      ],
      "execution_count": null,
      "outputs": [
        {
          "output_type": "execute_result",
          "data": {
            "text/html": [
              "<div>\n",
              "<style scoped>\n",
              "    .dataframe tbody tr th:only-of-type {\n",
              "        vertical-align: middle;\n",
              "    }\n",
              "\n",
              "    .dataframe tbody tr th {\n",
              "        vertical-align: top;\n",
              "    }\n",
              "\n",
              "    .dataframe thead th {\n",
              "        text-align: right;\n",
              "    }\n",
              "</style>\n",
              "<table border=\"1\" class=\"dataframe\">\n",
              "  <thead>\n",
              "    <tr style=\"text-align: right;\">\n",
              "      <th></th>\n",
              "      <th>name</th>\n",
              "      <th>lat</th>\n",
              "      <th>long</th>\n",
              "      <th>ident</th>\n",
              "      <th>site</th>\n",
              "      <th>dated</th>\n",
              "    </tr>\n",
              "  </thead>\n",
              "  <tbody>\n",
              "    <tr>\n",
              "      <th>0</th>\n",
              "      <td>DR-1</td>\n",
              "      <td>-49.85</td>\n",
              "      <td>-128.57</td>\n",
              "      <td>619</td>\n",
              "      <td>DR-1</td>\n",
              "      <td>1927-02-08</td>\n",
              "    </tr>\n",
              "    <tr>\n",
              "      <th>1</th>\n",
              "      <td>DR-3</td>\n",
              "      <td>-47.15</td>\n",
              "      <td>-126.72</td>\n",
              "      <td>734</td>\n",
              "      <td>DR-3</td>\n",
              "      <td>1939-01-07</td>\n",
              "    </tr>\n",
              "    <tr>\n",
              "      <th>2</th>\n",
              "      <td>MSK-4</td>\n",
              "      <td>-48.87</td>\n",
              "      <td>-123.40</td>\n",
              "      <td>837</td>\n",
              "      <td>MSK-4</td>\n",
              "      <td>1932-01-14</td>\n",
              "    </tr>\n",
              "  </tbody>\n",
              "</table>\n",
              "</div>"
            ],
            "text/plain": [
              "    name    lat    long  ident   site       dated\n",
              "0   DR-1 -49.85 -128.57    619   DR-1  1927-02-08\n",
              "1   DR-3 -47.15 -126.72    734   DR-3  1939-01-07\n",
              "2  MSK-4 -48.87 -123.40    837  MSK-4  1932-01-14"
            ]
          },
          "metadata": {
            "tags": []
          },
          "execution_count": 23
        }
      ]
    },
    {
      "cell_type": "code",
      "metadata": {
        "colab": {
          "base_uri": "https://localhost:8080/",
          "height": 297
        },
        "id": "F7uOdZ2BZMdH",
        "outputId": "dd323a95-c7e4-408d-be11-8e82a4261a97"
      },
      "source": [
        "# site와 visited 데이트프레임 연결\n",
        "m2o_merge = site.merge(visited, left_on='name', right_on='site')\n",
        "m2o_merge"
      ],
      "execution_count": null,
      "outputs": [
        {
          "output_type": "execute_result",
          "data": {
            "text/html": [
              "<div>\n",
              "<style scoped>\n",
              "    .dataframe tbody tr th:only-of-type {\n",
              "        vertical-align: middle;\n",
              "    }\n",
              "\n",
              "    .dataframe tbody tr th {\n",
              "        vertical-align: top;\n",
              "    }\n",
              "\n",
              "    .dataframe thead th {\n",
              "        text-align: right;\n",
              "    }\n",
              "</style>\n",
              "<table border=\"1\" class=\"dataframe\">\n",
              "  <thead>\n",
              "    <tr style=\"text-align: right;\">\n",
              "      <th></th>\n",
              "      <th>name</th>\n",
              "      <th>lat</th>\n",
              "      <th>long</th>\n",
              "      <th>ident</th>\n",
              "      <th>site</th>\n",
              "      <th>dated</th>\n",
              "    </tr>\n",
              "  </thead>\n",
              "  <tbody>\n",
              "    <tr>\n",
              "      <th>0</th>\n",
              "      <td>DR-1</td>\n",
              "      <td>-49.85</td>\n",
              "      <td>-128.57</td>\n",
              "      <td>619</td>\n",
              "      <td>DR-1</td>\n",
              "      <td>1927-02-08</td>\n",
              "    </tr>\n",
              "    <tr>\n",
              "      <th>1</th>\n",
              "      <td>DR-1</td>\n",
              "      <td>-49.85</td>\n",
              "      <td>-128.57</td>\n",
              "      <td>622</td>\n",
              "      <td>DR-1</td>\n",
              "      <td>1927-02-10</td>\n",
              "    </tr>\n",
              "    <tr>\n",
              "      <th>2</th>\n",
              "      <td>DR-1</td>\n",
              "      <td>-49.85</td>\n",
              "      <td>-128.57</td>\n",
              "      <td>844</td>\n",
              "      <td>DR-1</td>\n",
              "      <td>1932-03-22</td>\n",
              "    </tr>\n",
              "    <tr>\n",
              "      <th>3</th>\n",
              "      <td>DR-3</td>\n",
              "      <td>-47.15</td>\n",
              "      <td>-126.72</td>\n",
              "      <td>734</td>\n",
              "      <td>DR-3</td>\n",
              "      <td>1939-01-07</td>\n",
              "    </tr>\n",
              "    <tr>\n",
              "      <th>4</th>\n",
              "      <td>DR-3</td>\n",
              "      <td>-47.15</td>\n",
              "      <td>-126.72</td>\n",
              "      <td>735</td>\n",
              "      <td>DR-3</td>\n",
              "      <td>1930-01-12</td>\n",
              "    </tr>\n",
              "    <tr>\n",
              "      <th>5</th>\n",
              "      <td>DR-3</td>\n",
              "      <td>-47.15</td>\n",
              "      <td>-126.72</td>\n",
              "      <td>751</td>\n",
              "      <td>DR-3</td>\n",
              "      <td>1930-02-26</td>\n",
              "    </tr>\n",
              "    <tr>\n",
              "      <th>6</th>\n",
              "      <td>DR-3</td>\n",
              "      <td>-47.15</td>\n",
              "      <td>-126.72</td>\n",
              "      <td>752</td>\n",
              "      <td>DR-3</td>\n",
              "      <td>NaN</td>\n",
              "    </tr>\n",
              "    <tr>\n",
              "      <th>7</th>\n",
              "      <td>MSK-4</td>\n",
              "      <td>-48.87</td>\n",
              "      <td>-123.40</td>\n",
              "      <td>837</td>\n",
              "      <td>MSK-4</td>\n",
              "      <td>1932-01-14</td>\n",
              "    </tr>\n",
              "  </tbody>\n",
              "</table>\n",
              "</div>"
            ],
            "text/plain": [
              "    name    lat    long  ident   site       dated\n",
              "0   DR-1 -49.85 -128.57    619   DR-1  1927-02-08\n",
              "1   DR-1 -49.85 -128.57    622   DR-1  1927-02-10\n",
              "2   DR-1 -49.85 -128.57    844   DR-1  1932-03-22\n",
              "3   DR-3 -47.15 -126.72    734   DR-3  1939-01-07\n",
              "4   DR-3 -47.15 -126.72    735   DR-3  1930-01-12\n",
              "5   DR-3 -47.15 -126.72    751   DR-3  1930-02-26\n",
              "6   DR-3 -47.15 -126.72    752   DR-3         NaN\n",
              "7  MSK-4 -48.87 -123.40    837  MSK-4  1932-01-14"
            ]
          },
          "metadata": {
            "tags": []
          },
          "execution_count": 24
        }
      ]
    },
    {
      "cell_type": "code",
      "metadata": {
        "colab": {
          "base_uri": "https://localhost:8080/"
        },
        "id": "UZ52rvMaaZTb",
        "outputId": "95c4154b-52f7-451a-e409-f7451d2c6d7a"
      },
      "source": [
        "# person, survey 데이터프레임 연결 /  visited, survey 데이터프레임 연결\n",
        "ps = person.merge(survey, left_on='ident', right_on='person')\n",
        "vs = visited.merge(survey, left_on='ident', right_on='taken')\n",
        "\n",
        "print(ps)\n",
        "print(\"-\"*50)\n",
        "print(vs)"
      ],
      "execution_count": null,
      "outputs": [
        {
          "output_type": "stream",
          "text": [
            "   ident   personal   family  taken person quant  reading\n",
            "0   dyer    William     Dyer    619   dyer   rad     9.82\n",
            "1   dyer    William     Dyer    619   dyer   sal     0.13\n",
            "2   dyer    William     Dyer    622   dyer   rad     7.80\n",
            "3   dyer    William     Dyer    622   dyer   sal     0.09\n",
            "4     pb      Frank  Pabodie    734     pb   rad     8.41\n",
            "5     pb      Frank  Pabodie    734     pb  temp   -21.50\n",
            "6     pb      Frank  Pabodie    735     pb   rad     7.22\n",
            "7     pb      Frank  Pabodie    751     pb   rad     4.35\n",
            "8     pb      Frank  Pabodie    751     pb  temp   -18.50\n",
            "9   lake   Anderson     Lake    734   lake   sal     0.05\n",
            "10  lake   Anderson     Lake    751   lake   sal     0.10\n",
            "11  lake   Anderson     Lake    752   lake   rad     2.19\n",
            "12  lake   Anderson     Lake    752   lake   sal     0.09\n",
            "13  lake   Anderson     Lake    752   lake  temp   -16.00\n",
            "14  lake   Anderson     Lake    837   lake   rad     1.46\n",
            "15  lake   Anderson     Lake    837   lake   sal     0.21\n",
            "16   roe  Valentina  Roerich    752    roe   sal    41.60\n",
            "17   roe  Valentina  Roerich    837    roe   sal    22.50\n",
            "18   roe  Valentina  Roerich    844    roe   rad    11.25\n",
            "--------------------------------------------------\n",
            "    ident   site       dated  taken person quant  reading\n",
            "0     619   DR-1  1927-02-08    619   dyer   rad     9.82\n",
            "1     619   DR-1  1927-02-08    619   dyer   sal     0.13\n",
            "2     622   DR-1  1927-02-10    622   dyer   rad     7.80\n",
            "3     622   DR-1  1927-02-10    622   dyer   sal     0.09\n",
            "4     734   DR-3  1939-01-07    734     pb   rad     8.41\n",
            "5     734   DR-3  1939-01-07    734   lake   sal     0.05\n",
            "6     734   DR-3  1939-01-07    734     pb  temp   -21.50\n",
            "7     735   DR-3  1930-01-12    735     pb   rad     7.22\n",
            "8     735   DR-3  1930-01-12    735    NaN   sal     0.06\n",
            "9     735   DR-3  1930-01-12    735    NaN  temp   -26.00\n",
            "10    751   DR-3  1930-02-26    751     pb   rad     4.35\n",
            "11    751   DR-3  1930-02-26    751     pb  temp   -18.50\n",
            "12    751   DR-3  1930-02-26    751   lake   sal     0.10\n",
            "13    752   DR-3         NaN    752   lake   rad     2.19\n",
            "14    752   DR-3         NaN    752   lake   sal     0.09\n",
            "15    752   DR-3         NaN    752   lake  temp   -16.00\n",
            "16    752   DR-3         NaN    752    roe   sal    41.60\n",
            "17    837  MSK-4  1932-01-14    837   lake   rad     1.46\n",
            "18    837  MSK-4  1932-01-14    837   lake   sal     0.21\n",
            "19    837  MSK-4  1932-01-14    837    roe   sal    22.50\n",
            "20    844   DR-1  1932-03-22    844    roe   rad    11.25\n"
          ],
          "name": "stdout"
        }
      ]
    },
    {
      "cell_type": "markdown",
      "metadata": {
        "id": "anh1C_zpdiFq"
      },
      "source": [
        "**left_on, right_on에 전달하는 값은 여러 개여도 상관이 없다.**\n",
        "\n",
        "다음은 ps 데이터프레임의 ident, taken, quant, reading 열의 값과, vs 데이터프레임의 person, ident, quant, reading 열의 값을 이용하여 ps와 vs 데이터프레임을 서로 연결한 것이다.\n"
      ]
    },
    {
      "cell_type": "code",
      "metadata": {
        "id": "rU64OYQ0cw2w"
      },
      "source": [
        "ps_vs = ps.merge(vs, left_on=['ident', 'taken', 'quant', 'reading'], right_on=['person','ident','quant','reading'])"
      ],
      "execution_count": null,
      "outputs": []
    },
    {
      "cell_type": "markdown",
      "metadata": {
        "id": "_ag66diDeoHy"
      },
      "source": [
        "위에서 연결한 ps_vs 데이터프레임의 첫번째 행을 살펴보면, 양쪽 데이터프레임에 있었던 중복된 열 이름(ident, taken, person)에 접미사 _x, _y가 추가되어 있는 것을 알 수 있다.\n",
        "\n",
        "_x는 왼쪽 데이터프레임의 열을 의미하고, _y는 오른쪽 데이터프레임의 열을 의미한다."
      ]
    },
    {
      "cell_type": "code",
      "metadata": {
        "colab": {
          "base_uri": "https://localhost:8080/",
          "height": 638
        },
        "id": "blvZVA9bfa2D",
        "outputId": "d9619292-c320-448a-a491-9dc15b3f6ac9"
      },
      "source": [
        "ps_vs"
      ],
      "execution_count": 30,
      "outputs": [
        {
          "output_type": "execute_result",
          "data": {
            "text/html": [
              "<div>\n",
              "<style scoped>\n",
              "    .dataframe tbody tr th:only-of-type {\n",
              "        vertical-align: middle;\n",
              "    }\n",
              "\n",
              "    .dataframe tbody tr th {\n",
              "        vertical-align: top;\n",
              "    }\n",
              "\n",
              "    .dataframe thead th {\n",
              "        text-align: right;\n",
              "    }\n",
              "</style>\n",
              "<table border=\"1\" class=\"dataframe\">\n",
              "  <thead>\n",
              "    <tr style=\"text-align: right;\">\n",
              "      <th></th>\n",
              "      <th>ident_x</th>\n",
              "      <th>personal</th>\n",
              "      <th>family</th>\n",
              "      <th>taken_x</th>\n",
              "      <th>person_x</th>\n",
              "      <th>quant</th>\n",
              "      <th>reading</th>\n",
              "      <th>ident_y</th>\n",
              "      <th>site</th>\n",
              "      <th>dated</th>\n",
              "      <th>taken_y</th>\n",
              "      <th>person_y</th>\n",
              "    </tr>\n",
              "  </thead>\n",
              "  <tbody>\n",
              "    <tr>\n",
              "      <th>0</th>\n",
              "      <td>dyer</td>\n",
              "      <td>William</td>\n",
              "      <td>Dyer</td>\n",
              "      <td>619</td>\n",
              "      <td>dyer</td>\n",
              "      <td>rad</td>\n",
              "      <td>9.82</td>\n",
              "      <td>619</td>\n",
              "      <td>DR-1</td>\n",
              "      <td>1927-02-08</td>\n",
              "      <td>619</td>\n",
              "      <td>dyer</td>\n",
              "    </tr>\n",
              "    <tr>\n",
              "      <th>1</th>\n",
              "      <td>dyer</td>\n",
              "      <td>William</td>\n",
              "      <td>Dyer</td>\n",
              "      <td>619</td>\n",
              "      <td>dyer</td>\n",
              "      <td>sal</td>\n",
              "      <td>0.13</td>\n",
              "      <td>619</td>\n",
              "      <td>DR-1</td>\n",
              "      <td>1927-02-08</td>\n",
              "      <td>619</td>\n",
              "      <td>dyer</td>\n",
              "    </tr>\n",
              "    <tr>\n",
              "      <th>2</th>\n",
              "      <td>dyer</td>\n",
              "      <td>William</td>\n",
              "      <td>Dyer</td>\n",
              "      <td>622</td>\n",
              "      <td>dyer</td>\n",
              "      <td>rad</td>\n",
              "      <td>7.80</td>\n",
              "      <td>622</td>\n",
              "      <td>DR-1</td>\n",
              "      <td>1927-02-10</td>\n",
              "      <td>622</td>\n",
              "      <td>dyer</td>\n",
              "    </tr>\n",
              "    <tr>\n",
              "      <th>3</th>\n",
              "      <td>dyer</td>\n",
              "      <td>William</td>\n",
              "      <td>Dyer</td>\n",
              "      <td>622</td>\n",
              "      <td>dyer</td>\n",
              "      <td>sal</td>\n",
              "      <td>0.09</td>\n",
              "      <td>622</td>\n",
              "      <td>DR-1</td>\n",
              "      <td>1927-02-10</td>\n",
              "      <td>622</td>\n",
              "      <td>dyer</td>\n",
              "    </tr>\n",
              "    <tr>\n",
              "      <th>4</th>\n",
              "      <td>pb</td>\n",
              "      <td>Frank</td>\n",
              "      <td>Pabodie</td>\n",
              "      <td>734</td>\n",
              "      <td>pb</td>\n",
              "      <td>rad</td>\n",
              "      <td>8.41</td>\n",
              "      <td>734</td>\n",
              "      <td>DR-3</td>\n",
              "      <td>1939-01-07</td>\n",
              "      <td>734</td>\n",
              "      <td>pb</td>\n",
              "    </tr>\n",
              "    <tr>\n",
              "      <th>5</th>\n",
              "      <td>pb</td>\n",
              "      <td>Frank</td>\n",
              "      <td>Pabodie</td>\n",
              "      <td>734</td>\n",
              "      <td>pb</td>\n",
              "      <td>temp</td>\n",
              "      <td>-21.50</td>\n",
              "      <td>734</td>\n",
              "      <td>DR-3</td>\n",
              "      <td>1939-01-07</td>\n",
              "      <td>734</td>\n",
              "      <td>pb</td>\n",
              "    </tr>\n",
              "    <tr>\n",
              "      <th>6</th>\n",
              "      <td>pb</td>\n",
              "      <td>Frank</td>\n",
              "      <td>Pabodie</td>\n",
              "      <td>735</td>\n",
              "      <td>pb</td>\n",
              "      <td>rad</td>\n",
              "      <td>7.22</td>\n",
              "      <td>735</td>\n",
              "      <td>DR-3</td>\n",
              "      <td>1930-01-12</td>\n",
              "      <td>735</td>\n",
              "      <td>pb</td>\n",
              "    </tr>\n",
              "    <tr>\n",
              "      <th>7</th>\n",
              "      <td>pb</td>\n",
              "      <td>Frank</td>\n",
              "      <td>Pabodie</td>\n",
              "      <td>751</td>\n",
              "      <td>pb</td>\n",
              "      <td>rad</td>\n",
              "      <td>4.35</td>\n",
              "      <td>751</td>\n",
              "      <td>DR-3</td>\n",
              "      <td>1930-02-26</td>\n",
              "      <td>751</td>\n",
              "      <td>pb</td>\n",
              "    </tr>\n",
              "    <tr>\n",
              "      <th>8</th>\n",
              "      <td>pb</td>\n",
              "      <td>Frank</td>\n",
              "      <td>Pabodie</td>\n",
              "      <td>751</td>\n",
              "      <td>pb</td>\n",
              "      <td>temp</td>\n",
              "      <td>-18.50</td>\n",
              "      <td>751</td>\n",
              "      <td>DR-3</td>\n",
              "      <td>1930-02-26</td>\n",
              "      <td>751</td>\n",
              "      <td>pb</td>\n",
              "    </tr>\n",
              "    <tr>\n",
              "      <th>9</th>\n",
              "      <td>lake</td>\n",
              "      <td>Anderson</td>\n",
              "      <td>Lake</td>\n",
              "      <td>734</td>\n",
              "      <td>lake</td>\n",
              "      <td>sal</td>\n",
              "      <td>0.05</td>\n",
              "      <td>734</td>\n",
              "      <td>DR-3</td>\n",
              "      <td>1939-01-07</td>\n",
              "      <td>734</td>\n",
              "      <td>lake</td>\n",
              "    </tr>\n",
              "    <tr>\n",
              "      <th>10</th>\n",
              "      <td>lake</td>\n",
              "      <td>Anderson</td>\n",
              "      <td>Lake</td>\n",
              "      <td>751</td>\n",
              "      <td>lake</td>\n",
              "      <td>sal</td>\n",
              "      <td>0.10</td>\n",
              "      <td>751</td>\n",
              "      <td>DR-3</td>\n",
              "      <td>1930-02-26</td>\n",
              "      <td>751</td>\n",
              "      <td>lake</td>\n",
              "    </tr>\n",
              "    <tr>\n",
              "      <th>11</th>\n",
              "      <td>lake</td>\n",
              "      <td>Anderson</td>\n",
              "      <td>Lake</td>\n",
              "      <td>752</td>\n",
              "      <td>lake</td>\n",
              "      <td>rad</td>\n",
              "      <td>2.19</td>\n",
              "      <td>752</td>\n",
              "      <td>DR-3</td>\n",
              "      <td>NaN</td>\n",
              "      <td>752</td>\n",
              "      <td>lake</td>\n",
              "    </tr>\n",
              "    <tr>\n",
              "      <th>12</th>\n",
              "      <td>lake</td>\n",
              "      <td>Anderson</td>\n",
              "      <td>Lake</td>\n",
              "      <td>752</td>\n",
              "      <td>lake</td>\n",
              "      <td>sal</td>\n",
              "      <td>0.09</td>\n",
              "      <td>752</td>\n",
              "      <td>DR-3</td>\n",
              "      <td>NaN</td>\n",
              "      <td>752</td>\n",
              "      <td>lake</td>\n",
              "    </tr>\n",
              "    <tr>\n",
              "      <th>13</th>\n",
              "      <td>lake</td>\n",
              "      <td>Anderson</td>\n",
              "      <td>Lake</td>\n",
              "      <td>752</td>\n",
              "      <td>lake</td>\n",
              "      <td>temp</td>\n",
              "      <td>-16.00</td>\n",
              "      <td>752</td>\n",
              "      <td>DR-3</td>\n",
              "      <td>NaN</td>\n",
              "      <td>752</td>\n",
              "      <td>lake</td>\n",
              "    </tr>\n",
              "    <tr>\n",
              "      <th>14</th>\n",
              "      <td>lake</td>\n",
              "      <td>Anderson</td>\n",
              "      <td>Lake</td>\n",
              "      <td>837</td>\n",
              "      <td>lake</td>\n",
              "      <td>rad</td>\n",
              "      <td>1.46</td>\n",
              "      <td>837</td>\n",
              "      <td>MSK-4</td>\n",
              "      <td>1932-01-14</td>\n",
              "      <td>837</td>\n",
              "      <td>lake</td>\n",
              "    </tr>\n",
              "    <tr>\n",
              "      <th>15</th>\n",
              "      <td>lake</td>\n",
              "      <td>Anderson</td>\n",
              "      <td>Lake</td>\n",
              "      <td>837</td>\n",
              "      <td>lake</td>\n",
              "      <td>sal</td>\n",
              "      <td>0.21</td>\n",
              "      <td>837</td>\n",
              "      <td>MSK-4</td>\n",
              "      <td>1932-01-14</td>\n",
              "      <td>837</td>\n",
              "      <td>lake</td>\n",
              "    </tr>\n",
              "    <tr>\n",
              "      <th>16</th>\n",
              "      <td>roe</td>\n",
              "      <td>Valentina</td>\n",
              "      <td>Roerich</td>\n",
              "      <td>752</td>\n",
              "      <td>roe</td>\n",
              "      <td>sal</td>\n",
              "      <td>41.60</td>\n",
              "      <td>752</td>\n",
              "      <td>DR-3</td>\n",
              "      <td>NaN</td>\n",
              "      <td>752</td>\n",
              "      <td>roe</td>\n",
              "    </tr>\n",
              "    <tr>\n",
              "      <th>17</th>\n",
              "      <td>roe</td>\n",
              "      <td>Valentina</td>\n",
              "      <td>Roerich</td>\n",
              "      <td>837</td>\n",
              "      <td>roe</td>\n",
              "      <td>sal</td>\n",
              "      <td>22.50</td>\n",
              "      <td>837</td>\n",
              "      <td>MSK-4</td>\n",
              "      <td>1932-01-14</td>\n",
              "      <td>837</td>\n",
              "      <td>roe</td>\n",
              "    </tr>\n",
              "    <tr>\n",
              "      <th>18</th>\n",
              "      <td>roe</td>\n",
              "      <td>Valentina</td>\n",
              "      <td>Roerich</td>\n",
              "      <td>844</td>\n",
              "      <td>roe</td>\n",
              "      <td>rad</td>\n",
              "      <td>11.25</td>\n",
              "      <td>844</td>\n",
              "      <td>DR-1</td>\n",
              "      <td>1932-03-22</td>\n",
              "      <td>844</td>\n",
              "      <td>roe</td>\n",
              "    </tr>\n",
              "  </tbody>\n",
              "</table>\n",
              "</div>"
            ],
            "text/plain": [
              "   ident_x   personal   family  taken_x  ...   site       dated  taken_y  person_y\n",
              "0     dyer    William     Dyer      619  ...   DR-1  1927-02-08      619      dyer\n",
              "1     dyer    William     Dyer      619  ...   DR-1  1927-02-08      619      dyer\n",
              "2     dyer    William     Dyer      622  ...   DR-1  1927-02-10      622      dyer\n",
              "3     dyer    William     Dyer      622  ...   DR-1  1927-02-10      622      dyer\n",
              "4       pb      Frank  Pabodie      734  ...   DR-3  1939-01-07      734        pb\n",
              "5       pb      Frank  Pabodie      734  ...   DR-3  1939-01-07      734        pb\n",
              "6       pb      Frank  Pabodie      735  ...   DR-3  1930-01-12      735        pb\n",
              "7       pb      Frank  Pabodie      751  ...   DR-3  1930-02-26      751        pb\n",
              "8       pb      Frank  Pabodie      751  ...   DR-3  1930-02-26      751        pb\n",
              "9     lake   Anderson     Lake      734  ...   DR-3  1939-01-07      734      lake\n",
              "10    lake   Anderson     Lake      751  ...   DR-3  1930-02-26      751      lake\n",
              "11    lake   Anderson     Lake      752  ...   DR-3         NaN      752      lake\n",
              "12    lake   Anderson     Lake      752  ...   DR-3         NaN      752      lake\n",
              "13    lake   Anderson     Lake      752  ...   DR-3         NaN      752      lake\n",
              "14    lake   Anderson     Lake      837  ...  MSK-4  1932-01-14      837      lake\n",
              "15    lake   Anderson     Lake      837  ...  MSK-4  1932-01-14      837      lake\n",
              "16     roe  Valentina  Roerich      752  ...   DR-3         NaN      752       roe\n",
              "17     roe  Valentina  Roerich      837  ...  MSK-4  1932-01-14      837       roe\n",
              "18     roe  Valentina  Roerich      844  ...   DR-1  1932-03-22      844       roe\n",
              "\n",
              "[19 rows x 12 columns]"
            ]
          },
          "metadata": {
            "tags": []
          },
          "execution_count": 30
        }
      ]
    },
    {
      "cell_type": "code",
      "metadata": {
        "colab": {
          "base_uri": "https://localhost:8080/"
        },
        "id": "72t8rtvkeTl2",
        "outputId": "0f346fbe-adc4-4ef7-bf26-0a21f7277d7e"
      },
      "source": [
        "ps_vs.loc[0, ]"
      ],
      "execution_count": null,
      "outputs": [
        {
          "output_type": "execute_result",
          "data": {
            "text/plain": [
              "ident_x           dyer\n",
              "personal       William\n",
              "family            Dyer\n",
              "taken_x            619\n",
              "person_x          dyer\n",
              "quant              rad\n",
              "reading           9.82\n",
              "ident_y            619\n",
              "site              DR-1\n",
              "dated       1927-02-08\n",
              "taken_y            619\n",
              "person_y          dyer\n",
              "Name: 0, dtype: object"
            ]
          },
          "metadata": {
            "tags": []
          },
          "execution_count": 29
        }
      ]
    },
    {
      "cell_type": "markdown",
      "metadata": {
        "id": "d0IK7y29fnTA"
      },
      "source": [
        "이번 5장에서는 데이터를 연결하는 다양한 방법을 알아보았다. 특히 누락값과 중복값을 해결하기 위한 여러 가지 방법에 대해 알아보았다. \n",
        "\n",
        "누락값과 중복값은 데이터 분석을 방해하는 요소하기에 잘 해결하는 것이 중요하다.\n",
        "\n",
        "앞선 서두에서 언급했던 깔끔한 데이터의 조건 중 하나인 '데이터 분석 목적에 맞는 데이터를 모아 새로운 표(Table)를 만들어야한다.'는 바로 누락값이나 중복값이 없는 상태로 데이터가 잘 연결되어 있어야 한다는 말이다!"
      ]
    }
  ]
}