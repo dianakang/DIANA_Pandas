{
  "nbformat": 4,
  "nbformat_minor": 0,
  "metadata": {
    "colab": {
      "name": "Do_it_Pandas_10_apply 메서드 활용.ipynb",
      "provenance": [],
      "collapsed_sections": [],
      "toc_visible": true,
      "authorship_tag": "ABX9TyMbKuG6n/7hlIb1pvsPpb2x",
      "include_colab_link": true
    },
    "kernelspec": {
      "name": "python3",
      "display_name": "Python 3"
    }
  },
  "cells": [
    {
      "cell_type": "markdown",
      "metadata": {
        "id": "view-in-github",
        "colab_type": "text"
      },
      "source": [
        "<a href=\"https://colab.research.google.com/github/dianakang/DIANA_Pandas/blob/master/Do_it_Pandas_10_apply_%EB%A9%94%EC%84%9C%EB%93%9C_%ED%99%9C%EC%9A%A9.ipynb\" target=\"_parent\"><img src=\"https://colab.research.google.com/assets/colab-badge.svg\" alt=\"Open In Colab\"/></a>"
      ]
    },
    {
      "cell_type": "markdown",
      "metadata": {
        "id": "HhqbdPKC4Sfi"
      },
      "source": [
        "# 목차\n",
        "\n",
        "*   10.1. apply 메서드 활용\n",
        "\n",
        "*   10.2. apply 메서드 사용하기 - 기초\n",
        "  *   10.2.1. 시리즈와 apply 메서드\n",
        "  *   10.2.2. 데이터프레임과 apply 메서드\n",
        "\n",
        "*   10.3. apply 메서드 사용하기 - 고급\n",
        "   *   10.3.1. 열 방향 데이터 처리하기\n",
        "   *   10.3.2. 행 방향 데이터 처리하기\n",
        "\n",
        "---"
      ]
    },
    {
      "cell_type": "markdown",
      "metadata": {
        "id": "wkVtBywm4XJV"
      },
      "source": [
        "# 10. apply 메서드 활용"
      ]
    },
    {
      "cell_type": "markdown",
      "metadata": {
        "id": "V9yq0XmW4gVp"
      },
      "source": [
        "apply 메서드는 사용자가 작성한 함수를 한 번에 데이터프레임의 각 행과 열에 적용하여 실행할 수 있게 해주는 메서드이다.\n",
        "\n",
        "즉, 함수를 브로드캐스팅해야 하는 경우에 apply 메서드를 사용한다.\n",
        "\n",
        "물론 apply 메서드를 사용하지 않아도 for문을 이용하면 각 데이터에 함수를 적용할 수 있다. \n",
        "하지만 대용량의 데이터를 처리할 때는 apply 메서드가 for문보다 더 빠르기 때문에 apply 메서드의 사용법은 반드시 알아두어야 한다."
      ]
    },
    {
      "cell_type": "markdown",
      "metadata": {
        "id": "XOI7gJq746nh"
      },
      "source": [
        "## 10.1. 간단한 함수 만들기"
      ]
    },
    {
      "cell_type": "markdown",
      "metadata": {
        "id": "aTUFhLwz5G8K"
      },
      "source": [
        "제곱 함수와 n 제곱 함수를 한 번 만들어보자."
      ]
    },
    {
      "cell_type": "code",
      "metadata": {
        "colab": {
          "base_uri": "https://localhost:8080/"
        },
        "id": "IgaeucfW4M08",
        "outputId": "fd9635b1-9b55-47d7-9e6d-57464caa83ea"
      },
      "source": [
        "# 제곱 함수 만들기\n",
        "def my_sq(x):\n",
        "  return x ** 2\n",
        "\n",
        "# n 제곱 함수 만들기\n",
        "def my_exp(x,n):\n",
        "  return x ** n\n",
        "\n",
        "print(my_sq(4))\n",
        "print(my_exp(2,4))"
      ],
      "execution_count": 1,
      "outputs": [
        {
          "output_type": "stream",
          "text": [
            "16\n",
            "16\n"
          ],
          "name": "stdout"
        }
      ]
    },
    {
      "cell_type": "markdown",
      "metadata": {
        "id": "HM6WtnWe5myH"
      },
      "source": [
        "## 10.2. apply 메서드 사용하기 - 기초"
      ]
    },
    {
      "cell_type": "markdown",
      "metadata": {
        "id": "EEC5qDth5wj2"
      },
      "source": [
        "다음 실습을 통해 apply 메서드의 사용법을 알아보자.\n",
        "\n",
        "apply 메서드로 브로드캐스팅한 결과가 올바른 값인지 확인하기 위해 시리즈, 데이터프레임의 기초 연산 결과와 비교하며 실습을 진행하겠다."
      ]
    },
    {
      "cell_type": "markdown",
      "metadata": {
        "id": "YdrMAC7N6AhZ"
      },
      "source": [
        "### 10.2.1. 시리즈와 apply 메서드"
      ]
    },
    {
      "cell_type": "code",
      "metadata": {
        "colab": {
          "base_uri": "https://localhost:8080/",
          "height": 142
        },
        "id": "opzScUcX5QHn",
        "outputId": "ad96d508-31e8-4955-c7f9-75528e69b5c5"
      },
      "source": [
        "# 데이터프레임 생성\n",
        "import pandas as pd\n",
        "\n",
        "df = pd.DataFrame({'a': [10,20,30], 'b': [20,30,40]})\n",
        "df"
      ],
      "execution_count": 2,
      "outputs": [
        {
          "output_type": "execute_result",
          "data": {
            "text/html": [
              "<div>\n",
              "<style scoped>\n",
              "    .dataframe tbody tr th:only-of-type {\n",
              "        vertical-align: middle;\n",
              "    }\n",
              "\n",
              "    .dataframe tbody tr th {\n",
              "        vertical-align: top;\n",
              "    }\n",
              "\n",
              "    .dataframe thead th {\n",
              "        text-align: right;\n",
              "    }\n",
              "</style>\n",
              "<table border=\"1\" class=\"dataframe\">\n",
              "  <thead>\n",
              "    <tr style=\"text-align: right;\">\n",
              "      <th></th>\n",
              "      <th>a</th>\n",
              "      <th>b</th>\n",
              "    </tr>\n",
              "  </thead>\n",
              "  <tbody>\n",
              "    <tr>\n",
              "      <th>0</th>\n",
              "      <td>10</td>\n",
              "      <td>20</td>\n",
              "    </tr>\n",
              "    <tr>\n",
              "      <th>1</th>\n",
              "      <td>20</td>\n",
              "      <td>30</td>\n",
              "    </tr>\n",
              "    <tr>\n",
              "      <th>2</th>\n",
              "      <td>30</td>\n",
              "      <td>40</td>\n",
              "    </tr>\n",
              "  </tbody>\n",
              "</table>\n",
              "</div>"
            ],
            "text/plain": [
              "    a   b\n",
              "0  10  20\n",
              "1  20  30\n",
              "2  30  40"
            ]
          },
          "metadata": {
            "tags": []
          },
          "execution_count": 2
        }
      ]
    },
    {
      "cell_type": "markdown",
      "metadata": {
        "id": "V3lOzJI06paU"
      },
      "source": [
        "다음은 앞에서 만든 제곱 함수(my_exp)를 사용하기 전에 a열을 제곱하여 얻은 결과이다. \n",
        "\n",
        "이 결과값과 apply 메서드를 적용한 결과값을 비교해보자."
      ]
    },
    {
      "cell_type": "code",
      "metadata": {
        "colab": {
          "base_uri": "https://localhost:8080/"
        },
        "id": "E3j4gPSZ6RR2",
        "outputId": "9de7a85f-7f10-4f10-df3f-eb949f2c5ba3"
      },
      "source": [
        "# a열 제곱하기\n",
        "df['a'] ** 2"
      ],
      "execution_count": 3,
      "outputs": [
        {
          "output_type": "execute_result",
          "data": {
            "text/plain": [
              "0    100\n",
              "1    400\n",
              "2    900\n",
              "Name: a, dtype: int64"
            ]
          },
          "metadata": {
            "tags": []
          },
          "execution_count": 3
        }
      ]
    },
    {
      "cell_type": "markdown",
      "metadata": {
        "id": "_M05bvSU7IW-"
      },
      "source": [
        "다음은 apply 메서드에 제곱 함수의 이름(my_sq)을 전달하여 시리즈의 모든 데이터에 제곱 함수를 적용한 것이다.\n",
        "\n",
        "이때 apply 메서드에 전달하는 함수(my_sq)가 1개의 인자를 받도록 구성되어 있다면 인자값을 생략해야 한다. \n",
        "\n",
        "그러면 2개의 인자를 전달해야 할 경우에는 어떻게 해야할까?"
      ]
    },
    {
      "cell_type": "code",
      "metadata": {
        "colab": {
          "base_uri": "https://localhost:8080/"
        },
        "id": "tg-4Mzav6RPs",
        "outputId": "119a53b5-4166-4082-ac5b-171d18e82fe9"
      },
      "source": [
        "sq = df['a'].apply(my_sq)\n",
        "sq"
      ],
      "execution_count": 4,
      "outputs": [
        {
          "output_type": "execute_result",
          "data": {
            "text/plain": [
              "0    100\n",
              "1    400\n",
              "2    900\n",
              "Name: a, dtype: int64"
            ]
          },
          "metadata": {
            "tags": []
          },
          "execution_count": 4
        }
      ]
    },
    {
      "cell_type": "markdown",
      "metadata": {
        "id": "jRVGqFTj7OkW"
      },
      "source": [
        "이제 2개의 인자를 전달받아야 하는 n 제곱 함수(my_exp)와 apply 메서드를 함께 사용해보겠다. \n",
        "\n",
        "apply 메서드의 첫 번째 인자에는 n 제곱 함수의 이름(my_exp)을 전달하고, 두 번째 인자에는 n 제곱 함수의 두 번째 인자(n)을 전달한다. "
      ]
    },
    {
      "cell_type": "code",
      "metadata": {
        "colab": {
          "base_uri": "https://localhost:8080/"
        },
        "id": "Z4JwJGfl6RNb",
        "outputId": "49ebe0ec-b7eb-4503-8db3-21fdb9cb534b"
      },
      "source": [
        "ex = df['a'].apply(my_exp, n=2)\n",
        "print(ex)\n",
        "\n",
        "\n",
        "ex = df['a'].apply(my_exp, n=3)\n",
        "print(ex)"
      ],
      "execution_count": 5,
      "outputs": [
        {
          "output_type": "stream",
          "text": [
            "0    100\n",
            "1    400\n",
            "2    900\n",
            "Name: a, dtype: int64\n",
            "0     1000\n",
            "1     8000\n",
            "2    27000\n",
            "Name: a, dtype: int64\n"
          ],
          "name": "stdout"
        }
      ]
    },
    {
      "cell_type": "markdown",
      "metadata": {
        "id": "Bm86DkSF8BvI"
      },
      "source": [
        "### 10.2.2. 데이터프레임과 apply 메서드"
      ]
    },
    {
      "cell_type": "code",
      "metadata": {
        "colab": {
          "base_uri": "https://localhost:8080/",
          "height": 142
        },
        "id": "UyhnYbBs9EWZ",
        "outputId": "d2512c2a-fd39-4511-c7d9-c3cf8814265a"
      },
      "source": [
        "# 데이터프레임 생성\n",
        "import pandas as pd\n",
        "\n",
        "df = pd.DataFrame({'a': [10,20,30], 'b': [20,30,40]})\n",
        "df"
      ],
      "execution_count": 6,
      "outputs": [
        {
          "output_type": "execute_result",
          "data": {
            "text/html": [
              "<div>\n",
              "<style scoped>\n",
              "    .dataframe tbody tr th:only-of-type {\n",
              "        vertical-align: middle;\n",
              "    }\n",
              "\n",
              "    .dataframe tbody tr th {\n",
              "        vertical-align: top;\n",
              "    }\n",
              "\n",
              "    .dataframe thead th {\n",
              "        text-align: right;\n",
              "    }\n",
              "</style>\n",
              "<table border=\"1\" class=\"dataframe\">\n",
              "  <thead>\n",
              "    <tr style=\"text-align: right;\">\n",
              "      <th></th>\n",
              "      <th>a</th>\n",
              "      <th>b</th>\n",
              "    </tr>\n",
              "  </thead>\n",
              "  <tbody>\n",
              "    <tr>\n",
              "      <th>0</th>\n",
              "      <td>10</td>\n",
              "      <td>20</td>\n",
              "    </tr>\n",
              "    <tr>\n",
              "      <th>1</th>\n",
              "      <td>20</td>\n",
              "      <td>30</td>\n",
              "    </tr>\n",
              "    <tr>\n",
              "      <th>2</th>\n",
              "      <td>30</td>\n",
              "      <td>40</td>\n",
              "    </tr>\n",
              "  </tbody>\n",
              "</table>\n",
              "</div>"
            ],
            "text/plain": [
              "    a   b\n",
              "0  10  20\n",
              "1  20  30\n",
              "2  30  40"
            ]
          },
          "metadata": {
            "tags": []
          },
          "execution_count": 6
        }
      ]
    },
    {
      "cell_type": "markdown",
      "metadata": {
        "id": "rdl_geEx8MiF"
      },
      "source": [
        "\n",
        "\n",
        "이번엔 새로운 함수를 한 번 만들어보자. 사용할 함수는 1개의 값을 전달받아 출력하는 함수이다."
      ]
    },
    {
      "cell_type": "code",
      "metadata": {
        "id": "ie4e2tbC6RKn"
      },
      "source": [
        "# 새로운 함수 생성\n",
        "def print_me(x):\n",
        "  print(x)"
      ],
      "execution_count": 7,
      "outputs": []
    },
    {
      "cell_type": "markdown",
      "metadata": {
        "id": "Gk_AiP--8iAM"
      },
      "source": [
        "데이터프레임에 함수를 적용해야 하기 때문에 함수를 열 방향으로 적용할지, 행 방향으로 적용할지 정해야 한다. \n",
        "\n",
        "axis 인자값을 0이나 1로 지정하면 함수를 열 또는 행 방향으로 적용할 수 있다. \n",
        "\n",
        "(만약 axis 값을 지정하지 않으면 열 방향(0)으로 함수가 적용된다.)"
      ]
    },
    {
      "cell_type": "code",
      "metadata": {
        "colab": {
          "base_uri": "https://localhost:8080/"
        },
        "id": "VXRz0CjS6M-M",
        "outputId": "e497fc0e-0008-4de8-df09-d37ba05cf5da"
      },
      "source": [
        "print(df.apply(print_me, axis=0))\n",
        "print(\"-\"*100)\n",
        "\n",
        "print(df['a'])\n",
        "print(\"-\"*100)\n",
        "print(df['b'])"
      ],
      "execution_count": 8,
      "outputs": [
        {
          "output_type": "stream",
          "text": [
            "0    10\n",
            "1    20\n",
            "2    30\n",
            "Name: a, dtype: int64\n",
            "0    20\n",
            "1    30\n",
            "2    40\n",
            "Name: b, dtype: int64\n",
            "a    None\n",
            "b    None\n",
            "dtype: object\n",
            "----------------------------------------------------------------------------------------------------\n",
            "0    10\n",
            "1    20\n",
            "2    30\n",
            "Name: a, dtype: int64\n",
            "----------------------------------------------------------------------------------------------------\n",
            "0    20\n",
            "1    30\n",
            "2    40\n",
            "Name: b, dtype: int64\n"
          ],
          "name": "stdout"
        }
      ]
    },
    {
      "cell_type": "markdown",
      "metadata": {
        "id": "8j0fC7MP9ZJ2"
      },
      "source": [
        "이번에는 3개의 인자를 입력받아 평균을 계산하는 함수를 사용해보겠다."
      ]
    },
    {
      "cell_type": "code",
      "metadata": {
        "id": "v9Vn3Fsh9Y3H"
      },
      "source": [
        "def avg_3(x, y, z):\n",
        "  return (x+y+z) / 3"
      ],
      "execution_count": 9,
      "outputs": []
    },
    {
      "cell_type": "markdown",
      "metadata": {
        "id": "jW8NU19U9odL"
      },
      "source": [
        "그런데 avg_3 함수를 apply 메서드에 전달하면 'avg_3 함수는 3개의 인자값을 필요로 하는 함수인데 1개의 인자값만 입력받았다'는 오류 메시지가 출력된다. \n",
        "\n",
        "즉, avg_3 함수에 열 단위 데이터(df['a'] 또는 df['b'])가 전달되었고, 이 값을 avg_3 함수에서 1개의 인자로 인식한 것이다.\n",
        "\n",
        "따라서 avg_3 함수가 *'열 단위로 데이터를 처리할 수 있도록 수정'*해야한다."
      ]
    },
    {
      "cell_type": "code",
      "metadata": {
        "id": "MaEU2-K29Y01"
      },
      "source": [
        "# df.apply(avg_3) -> 오류 메시지 출력"
      ],
      "execution_count": 10,
      "outputs": []
    },
    {
      "cell_type": "markdown",
      "metadata": {
        "id": "WR_kKLXt-Sxo"
      },
      "source": [
        "다음은 avg_3 함수가 열 단위로 데이터를 처리할 수 있도록 개선한 avg_3_apply 함수이다. 개선한 함수를 apply 메서드에 적용하면 잘 동작하는 것을 알 수 있다. "
      ]
    },
    {
      "cell_type": "code",
      "metadata": {
        "colab": {
          "base_uri": "https://localhost:8080/"
        },
        "id": "GnzdW9Cv9Yyu",
        "outputId": "fc6316f5-daa5-4d71-c47b-6614cf42b265"
      },
      "source": [
        "# 열 방향 데이터 처리 - col\n",
        "def avg_3_apply(col):\n",
        "  x = col[0]\n",
        "  y = col[1]\n",
        "  z = col[2]\n",
        "  return (x+y+z) / 3\n",
        "\n",
        "print(df.apply(avg_3_apply))"
      ],
      "execution_count": 11,
      "outputs": [
        {
          "output_type": "stream",
          "text": [
            "a    20.0\n",
            "b    30.0\n",
            "dtype: float64\n"
          ],
          "name": "stdout"
        }
      ]
    },
    {
      "cell_type": "markdown",
      "metadata": {
        "id": "4jVHUgrQ_N-W"
      },
      "source": [
        "앞의 과정에서는 데이터프레임의 행 개수가 3이라는 것을 알고 있다는 전제하에 avg_3_apply 함수를 작성했다. \n",
        "\n",
        "하지만 일반적으로는 for문을 이용하여 아래와 같이 작성한다."
      ]
    },
    {
      "cell_type": "code",
      "metadata": {
        "id": "cIcbXnWC9Yvs"
      },
      "source": [
        "def avg_3_apply(col):\n",
        "  sum = 0\n",
        "  for item in col:\n",
        "    sum += item\n",
        "  return sum / df.shape[0]"
      ],
      "execution_count": 12,
      "outputs": []
    },
    {
      "cell_type": "markdown",
      "metadata": {
        "id": "Hf16HDZk_nMV"
      },
      "source": [
        "위의 함수를 응용하면 행 방향으로 데이터를 처리하는 함수도 만들 수 있다.\n",
        "\n",
        "마지막 return문의 df.shape[0]을 df.shape[1]로 바꾸면 된다."
      ]
    },
    {
      "cell_type": "code",
      "metadata": {
        "colab": {
          "base_uri": "https://localhost:8080/"
        },
        "id": "YV-J3Kml9YrY",
        "outputId": "dc5d5ba6-cf94-44ee-b0f7-db2d4f4b4fc1"
      },
      "source": [
        "# 행 방향 데이터 처리 - row\n",
        "def avg_2_apply(row):\n",
        "  sum = 0\n",
        "  for item in row:\n",
        "    sum += item\n",
        "  return sum / df.shape[1]\n",
        "\n",
        "print(df.apply(avg_2_apply, axis=1))"
      ],
      "execution_count": 13,
      "outputs": [
        {
          "output_type": "stream",
          "text": [
            "0    15.0\n",
            "1    25.0\n",
            "2    35.0\n",
            "dtype: float64\n"
          ],
          "name": "stdout"
        }
      ]
    },
    {
      "cell_type": "markdown",
      "metadata": {
        "id": "jrORA0M1CWqV"
      },
      "source": [
        "## 10.3. apply 메서드 사용하기 - 고급"
      ]
    },
    {
      "cell_type": "markdown",
      "metadata": {
        "id": "gUoSuoxgCcBk"
      },
      "source": [
        "이번에는 조금 더 큰 데이터를 사용하여 실습을 진행해보겠다. 이번에 사용할 데이터는 seaborn 라이브러리의 titanic 데이터 집합이다."
      ]
    },
    {
      "cell_type": "markdown",
      "metadata": {
        "id": "JXUsoBNQCv_A"
      },
      "source": [
        "### 10.3.1. 열 방향 데이터 처리하기"
      ]
    },
    {
      "cell_type": "code",
      "metadata": {
        "id": "qT9thMO6C21F"
      },
      "source": [
        "# 데이터 불러오기\n",
        "import seaborn as sns\n",
        "titanic = sns.load_dataset('titanic')"
      ],
      "execution_count": 14,
      "outputs": []
    },
    {
      "cell_type": "code",
      "metadata": {
        "colab": {
          "base_uri": "https://localhost:8080/"
        },
        "id": "6IPvVChCC2yE",
        "outputId": "fb016b38-238c-40bf-9b84-39fa515f1842"
      },
      "source": [
        "# 데이터 정보 확인하기\n",
        "titanic.info()"
      ],
      "execution_count": 15,
      "outputs": [
        {
          "output_type": "stream",
          "text": [
            "<class 'pandas.core.frame.DataFrame'>\n",
            "RangeIndex: 891 entries, 0 to 890\n",
            "Data columns (total 15 columns):\n",
            " #   Column       Non-Null Count  Dtype   \n",
            "---  ------       --------------  -----   \n",
            " 0   survived     891 non-null    int64   \n",
            " 1   pclass       891 non-null    int64   \n",
            " 2   sex          891 non-null    object  \n",
            " 3   age          714 non-null    float64 \n",
            " 4   sibsp        891 non-null    int64   \n",
            " 5   parch        891 non-null    int64   \n",
            " 6   fare         891 non-null    float64 \n",
            " 7   embarked     889 non-null    object  \n",
            " 8   class        891 non-null    category\n",
            " 9   who          891 non-null    object  \n",
            " 10  adult_male   891 non-null    bool    \n",
            " 11  deck         203 non-null    category\n",
            " 12  embark_town  889 non-null    object  \n",
            " 13  alive        891 non-null    object  \n",
            " 14  alone        891 non-null    bool    \n",
            "dtypes: bool(2), category(2), float64(2), int64(4), object(5)\n",
            "memory usage: 80.6+ KB\n"
          ],
          "name": "stdout"
        }
      ]
    },
    {
      "cell_type": "markdown",
      "metadata": {
        "id": "HI06pgzrDGKu"
      },
      "source": [
        "다음은 **누락값의 개수를 반환하는 count_missing 함수**이다. 판다스의 isnull 메서드에 데이터프레임을 전달하면 누락값의 유무에 따라 True, False를 적용한 데이터프레임이 만들어진다. 이 값을 넘파이의 sum 메서드에 전달하면 누락값의 개수를 구할 수 있다. "
      ]
    },
    {
      "cell_type": "code",
      "metadata": {
        "id": "9jXjn1eqC2vB"
      },
      "source": [
        "import numpy as np\n",
        "\n",
        "def count_missing(vec):\n",
        "  null_vec = pd.isnull(vec)\n",
        "  null_count = np.sum(null_vec)\n",
        "  return null_count"
      ],
      "execution_count": 16,
      "outputs": []
    },
    {
      "cell_type": "markdown",
      "metadata": {
        "id": "W487FTh1DjHL"
      },
      "source": [
        "다음은 apply 메서드에 count_missing 함수를 전달하여 얻은 결과이다."
      ]
    },
    {
      "cell_type": "code",
      "metadata": {
        "colab": {
          "base_uri": "https://localhost:8080/"
        },
        "id": "DVx1wtNGC2n3",
        "outputId": "3bbaa6b8-dea6-4dac-cba6-ca13da7793f9"
      },
      "source": [
        "# 누락값 개수 확인\n",
        "cmis_col = titanic.apply(count_missing)   ## 열 = col\n",
        "cmis_col"
      ],
      "execution_count": 17,
      "outputs": [
        {
          "output_type": "execute_result",
          "data": {
            "text/plain": [
              "survived         0\n",
              "pclass           0\n",
              "sex              0\n",
              "age            177\n",
              "sibsp            0\n",
              "parch            0\n",
              "fare             0\n",
              "embarked         2\n",
              "class            0\n",
              "who              0\n",
              "adult_male       0\n",
              "deck           688\n",
              "embark_town      2\n",
              "alive            0\n",
              "alone            0\n",
              "dtype: int64"
            ]
          },
          "metadata": {
            "tags": []
          },
          "execution_count": 17
        }
      ]
    },
    {
      "cell_type": "markdown",
      "metadata": {
        "id": "qDUMbbHHD6e8"
      },
      "source": [
        "다음은 누락값의 비율을 계산하는 prop_missing 함수이다. count_missing 함수를 이용해 데이터프레임의 누락값 개수를 구하고, size 속성을 이용해 데이터프레임의 전체 데이터 수를 구하여 나누면 누락값의 비율을 계산할 수 있다."
      ]
    },
    {
      "cell_type": "code",
      "metadata": {
        "id": "6kBwcq3KC2jk"
      },
      "source": [
        "# 누락값 비율 계산 함수 생성\n",
        "def prop_missing(vec):\n",
        "  num = count_missing(vec)  ## count_missing() -> 누락값 개수 구하는 메서드\n",
        "  dem = vec.size     ## .size -> 전체 데이터 수 구하는 속성\n",
        "  return num / dem   ## 누락값 비율 계산"
      ],
      "execution_count": 18,
      "outputs": []
    },
    {
      "cell_type": "markdown",
      "metadata": {
        "id": "52zS8S-XEQ28"
      },
      "source": [
        "다음은 apply 메서드에 prop_missing 함수를 적용한 것이다."
      ]
    },
    {
      "cell_type": "code",
      "metadata": {
        "colab": {
          "base_uri": "https://localhost:8080/"
        },
        "id": "CeAbpftBEUXZ",
        "outputId": "44b969c9-2d7c-4553-b4a7-0854d5499d7d"
      },
      "source": [
        "# 누락값 비율 확인\n",
        "pmis_col = titanic.apply(prop_missing)\n",
        "pmis_col"
      ],
      "execution_count": 19,
      "outputs": [
        {
          "output_type": "execute_result",
          "data": {
            "text/plain": [
              "survived       0.000000\n",
              "pclass         0.000000\n",
              "sex            0.000000\n",
              "age            0.198653\n",
              "sibsp          0.000000\n",
              "parch          0.000000\n",
              "fare           0.000000\n",
              "embarked       0.002245\n",
              "class          0.000000\n",
              "who            0.000000\n",
              "adult_male     0.000000\n",
              "deck           0.772166\n",
              "embark_town    0.002245\n",
              "alive          0.000000\n",
              "alone          0.000000\n",
              "dtype: float64"
            ]
          },
          "metadata": {
            "tags": []
          },
          "execution_count": 19
        }
      ]
    },
    {
      "cell_type": "markdown",
      "metadata": {
        "id": "5RlxiCtmEa9N"
      },
      "source": [
        "위에서 사용했던 prop_missing 함수를 이용하면 **누락값이 아닌 데이터의 비율**도 구할 수 있다. \n",
        "\n",
        "= (전체 비율) - (누락값 비율)\n",
        "\n",
        "같은 방법으로 apply 메서드에 prop_complete 함수를 전달하여 결과를 확인해보자."
      ]
    },
    {
      "cell_type": "code",
      "metadata": {
        "id": "s9uPn5G7ErPe"
      },
      "source": [
        "# 누락값이 아닌 데이터의 비율 계산 함수 생성\n",
        "def prop_complete(vec):\n",
        "  return 1 - prop_missing(vec)"
      ],
      "execution_count": 20,
      "outputs": []
    },
    {
      "cell_type": "code",
      "metadata": {
        "colab": {
          "base_uri": "https://localhost:8080/"
        },
        "id": "tn8ixcGZVOmp",
        "outputId": "e2893a1f-bf36-4009-c44c-e08a3db0aabe"
      },
      "source": [
        "# 누락값이 아닌 데이터의 비율 확인\n",
        "nmis_col = titanic.apply(prop_complete)\n",
        "print(nmis_col)"
      ],
      "execution_count": 22,
      "outputs": [
        {
          "output_type": "stream",
          "text": [
            "survived       1.000000\n",
            "pclass         1.000000\n",
            "sex            1.000000\n",
            "age            0.801347\n",
            "sibsp          1.000000\n",
            "parch          1.000000\n",
            "fare           1.000000\n",
            "embarked       0.997755\n",
            "class          1.000000\n",
            "who            1.000000\n",
            "adult_male     1.000000\n",
            "deck           0.227834\n",
            "embark_town    0.997755\n",
            "alive          1.000000\n",
            "alone          1.000000\n",
            "dtype: float64\n"
          ],
          "name": "stdout"
        }
      ]
    },
    {
      "cell_type": "markdown",
      "metadata": {
        "id": "Wpxo9lU9C0NZ"
      },
      "source": [
        "### 10.3.2. 행 방향 데이터 처리하기"
      ]
    },
    {
      "cell_type": "markdown",
      "metadata": {
        "id": "WUo11fFQVmhz"
      },
      "source": [
        "이번에는 행 방향으로 데이터를 처리해보자. 다음은 **axis를 1로 설정**하여 앞에서 만든 count_missing, prop_missing, prop_complete 함수를 행 방향으로 적용하여 실행한 것이다. \n",
        "\n",
        "각 행의 누락값과 누락값의 비율, 누락값이 아닌 값의 비율을 잘 계산하고 있다는 것을 알 수 있다."
      ]
    },
    {
      "cell_type": "code",
      "metadata": {
        "id": "J5DRkxXa83jq",
        "colab": {
          "base_uri": "https://localhost:8080/"
        },
        "outputId": "68d222bf-b277-4a2c-ee7a-5dac78d65982"
      },
      "source": [
        "cmis_row = titanic.apply(count_missing, axis=1)    ## 행 = row\n",
        "pmis_row = titanic.apply(prop_missing, axis=1)\n",
        "pcom_row = titanic.apply(prop_missing, axis=1)\n",
        "\n",
        "print(cmis_row.head())\n",
        "print(\"-\"*100)\n",
        "print(pmis_row.head())\n",
        "print(\"-\"*100)\n",
        "print(pcom_row.head())"
      ],
      "execution_count": 23,
      "outputs": [
        {
          "output_type": "stream",
          "text": [
            "0    1\n",
            "1    0\n",
            "2    1\n",
            "3    0\n",
            "4    1\n",
            "dtype: int64\n",
            "----------------------------------------------------------------------------------------------------\n",
            "0    0.066667\n",
            "1    0.000000\n",
            "2    0.066667\n",
            "3    0.000000\n",
            "4    0.066667\n",
            "dtype: float64\n",
            "----------------------------------------------------------------------------------------------------\n",
            "0    0.066667\n",
            "1    0.000000\n",
            "2    0.066667\n",
            "3    0.000000\n",
            "4    0.066667\n",
            "dtype: float64\n"
          ],
          "name": "stdout"
        }
      ]
    },
    {
      "cell_type": "markdown",
      "metadata": {
        "id": "ZhG7dww9WleW"
      },
      "source": [
        "다음은 누락값의 개수를 구하여 titanic 데이터프레임에 추가한 것이다. 데이터프레임에 num_missing 열이 추가된 것을 알 수 있다. "
      ]
    },
    {
      "cell_type": "code",
      "metadata": {
        "colab": {
          "base_uri": "https://localhost:8080/",
          "height": 224
        },
        "id": "DSYTqjt2WlRE",
        "outputId": "1238b318-8710-44f5-c066-e2f55daccf98"
      },
      "source": [
        "# 누락값의 개수(num_missing) 열 추가\n",
        "titanic['num_missing'] = titanic.apply(count_missing, axis=1)\n",
        "titanic.head()"
      ],
      "execution_count": 24,
      "outputs": [
        {
          "output_type": "execute_result",
          "data": {
            "text/html": [
              "<div>\n",
              "<style scoped>\n",
              "    .dataframe tbody tr th:only-of-type {\n",
              "        vertical-align: middle;\n",
              "    }\n",
              "\n",
              "    .dataframe tbody tr th {\n",
              "        vertical-align: top;\n",
              "    }\n",
              "\n",
              "    .dataframe thead th {\n",
              "        text-align: right;\n",
              "    }\n",
              "</style>\n",
              "<table border=\"1\" class=\"dataframe\">\n",
              "  <thead>\n",
              "    <tr style=\"text-align: right;\">\n",
              "      <th></th>\n",
              "      <th>survived</th>\n",
              "      <th>pclass</th>\n",
              "      <th>sex</th>\n",
              "      <th>age</th>\n",
              "      <th>sibsp</th>\n",
              "      <th>parch</th>\n",
              "      <th>fare</th>\n",
              "      <th>embarked</th>\n",
              "      <th>class</th>\n",
              "      <th>who</th>\n",
              "      <th>adult_male</th>\n",
              "      <th>deck</th>\n",
              "      <th>embark_town</th>\n",
              "      <th>alive</th>\n",
              "      <th>alone</th>\n",
              "      <th>num_missing</th>\n",
              "    </tr>\n",
              "  </thead>\n",
              "  <tbody>\n",
              "    <tr>\n",
              "      <th>0</th>\n",
              "      <td>0</td>\n",
              "      <td>3</td>\n",
              "      <td>male</td>\n",
              "      <td>22.0</td>\n",
              "      <td>1</td>\n",
              "      <td>0</td>\n",
              "      <td>7.2500</td>\n",
              "      <td>S</td>\n",
              "      <td>Third</td>\n",
              "      <td>man</td>\n",
              "      <td>True</td>\n",
              "      <td>NaN</td>\n",
              "      <td>Southampton</td>\n",
              "      <td>no</td>\n",
              "      <td>False</td>\n",
              "      <td>1</td>\n",
              "    </tr>\n",
              "    <tr>\n",
              "      <th>1</th>\n",
              "      <td>1</td>\n",
              "      <td>1</td>\n",
              "      <td>female</td>\n",
              "      <td>38.0</td>\n",
              "      <td>1</td>\n",
              "      <td>0</td>\n",
              "      <td>71.2833</td>\n",
              "      <td>C</td>\n",
              "      <td>First</td>\n",
              "      <td>woman</td>\n",
              "      <td>False</td>\n",
              "      <td>C</td>\n",
              "      <td>Cherbourg</td>\n",
              "      <td>yes</td>\n",
              "      <td>False</td>\n",
              "      <td>0</td>\n",
              "    </tr>\n",
              "    <tr>\n",
              "      <th>2</th>\n",
              "      <td>1</td>\n",
              "      <td>3</td>\n",
              "      <td>female</td>\n",
              "      <td>26.0</td>\n",
              "      <td>0</td>\n",
              "      <td>0</td>\n",
              "      <td>7.9250</td>\n",
              "      <td>S</td>\n",
              "      <td>Third</td>\n",
              "      <td>woman</td>\n",
              "      <td>False</td>\n",
              "      <td>NaN</td>\n",
              "      <td>Southampton</td>\n",
              "      <td>yes</td>\n",
              "      <td>True</td>\n",
              "      <td>1</td>\n",
              "    </tr>\n",
              "    <tr>\n",
              "      <th>3</th>\n",
              "      <td>1</td>\n",
              "      <td>1</td>\n",
              "      <td>female</td>\n",
              "      <td>35.0</td>\n",
              "      <td>1</td>\n",
              "      <td>0</td>\n",
              "      <td>53.1000</td>\n",
              "      <td>S</td>\n",
              "      <td>First</td>\n",
              "      <td>woman</td>\n",
              "      <td>False</td>\n",
              "      <td>C</td>\n",
              "      <td>Southampton</td>\n",
              "      <td>yes</td>\n",
              "      <td>False</td>\n",
              "      <td>0</td>\n",
              "    </tr>\n",
              "    <tr>\n",
              "      <th>4</th>\n",
              "      <td>0</td>\n",
              "      <td>3</td>\n",
              "      <td>male</td>\n",
              "      <td>35.0</td>\n",
              "      <td>0</td>\n",
              "      <td>0</td>\n",
              "      <td>8.0500</td>\n",
              "      <td>S</td>\n",
              "      <td>Third</td>\n",
              "      <td>man</td>\n",
              "      <td>True</td>\n",
              "      <td>NaN</td>\n",
              "      <td>Southampton</td>\n",
              "      <td>no</td>\n",
              "      <td>True</td>\n",
              "      <td>1</td>\n",
              "    </tr>\n",
              "  </tbody>\n",
              "</table>\n",
              "</div>"
            ],
            "text/plain": [
              "   survived  pclass     sex   age  ...  embark_town  alive  alone num_missing\n",
              "0         0       3    male  22.0  ...  Southampton     no  False           1\n",
              "1         1       1  female  38.0  ...    Cherbourg    yes  False           0\n",
              "2         1       3  female  26.0  ...  Southampton    yes   True           1\n",
              "3         1       1  female  35.0  ...  Southampton    yes  False           0\n",
              "4         0       3    male  35.0  ...  Southampton     no   True           1\n",
              "\n",
              "[5 rows x 16 columns]"
            ]
          },
          "metadata": {
            "tags": []
          },
          "execution_count": 24
        }
      ]
    },
    {
      "cell_type": "markdown",
      "metadata": {
        "id": "B5A5GNtsXI2K"
      },
      "source": [
        "위의 과정에서 누락값이 있는 데이터를 데이터프레임에 추가했기 때문에 **누락값이 있는 데이터만을 모아서 볼 수도 있다.**\n",
        "\n",
        "다음은 누락값이 2개 이상인 데이터를 추출한 것이다. "
      ]
    },
    {
      "cell_type": "code",
      "metadata": {
        "colab": {
          "base_uri": "https://localhost:8080/",
          "height": 379
        },
        "id": "ZOM2ZacxWlO7",
        "outputId": "00e7fbfb-20a1-4b17-e9ec-3c0c202d4321"
      },
      "source": [
        "# 누락값이 2개 이상인 데이터 추출\n",
        "titanic.loc[titanic.num_missing > 1, :].sample(10)"
      ],
      "execution_count": 25,
      "outputs": [
        {
          "output_type": "execute_result",
          "data": {
            "text/html": [
              "<div>\n",
              "<style scoped>\n",
              "    .dataframe tbody tr th:only-of-type {\n",
              "        vertical-align: middle;\n",
              "    }\n",
              "\n",
              "    .dataframe tbody tr th {\n",
              "        vertical-align: top;\n",
              "    }\n",
              "\n",
              "    .dataframe thead th {\n",
              "        text-align: right;\n",
              "    }\n",
              "</style>\n",
              "<table border=\"1\" class=\"dataframe\">\n",
              "  <thead>\n",
              "    <tr style=\"text-align: right;\">\n",
              "      <th></th>\n",
              "      <th>survived</th>\n",
              "      <th>pclass</th>\n",
              "      <th>sex</th>\n",
              "      <th>age</th>\n",
              "      <th>sibsp</th>\n",
              "      <th>parch</th>\n",
              "      <th>fare</th>\n",
              "      <th>embarked</th>\n",
              "      <th>class</th>\n",
              "      <th>who</th>\n",
              "      <th>adult_male</th>\n",
              "      <th>deck</th>\n",
              "      <th>embark_town</th>\n",
              "      <th>alive</th>\n",
              "      <th>alone</th>\n",
              "      <th>num_missing</th>\n",
              "    </tr>\n",
              "  </thead>\n",
              "  <tbody>\n",
              "    <tr>\n",
              "      <th>411</th>\n",
              "      <td>0</td>\n",
              "      <td>3</td>\n",
              "      <td>male</td>\n",
              "      <td>NaN</td>\n",
              "      <td>0</td>\n",
              "      <td>0</td>\n",
              "      <td>6.8583</td>\n",
              "      <td>Q</td>\n",
              "      <td>Third</td>\n",
              "      <td>man</td>\n",
              "      <td>True</td>\n",
              "      <td>NaN</td>\n",
              "      <td>Queenstown</td>\n",
              "      <td>no</td>\n",
              "      <td>True</td>\n",
              "      <td>2</td>\n",
              "    </tr>\n",
              "    <tr>\n",
              "      <th>589</th>\n",
              "      <td>0</td>\n",
              "      <td>3</td>\n",
              "      <td>male</td>\n",
              "      <td>NaN</td>\n",
              "      <td>0</td>\n",
              "      <td>0</td>\n",
              "      <td>8.0500</td>\n",
              "      <td>S</td>\n",
              "      <td>Third</td>\n",
              "      <td>man</td>\n",
              "      <td>True</td>\n",
              "      <td>NaN</td>\n",
              "      <td>Southampton</td>\n",
              "      <td>no</td>\n",
              "      <td>True</td>\n",
              "      <td>2</td>\n",
              "    </tr>\n",
              "    <tr>\n",
              "      <th>29</th>\n",
              "      <td>0</td>\n",
              "      <td>3</td>\n",
              "      <td>male</td>\n",
              "      <td>NaN</td>\n",
              "      <td>0</td>\n",
              "      <td>0</td>\n",
              "      <td>7.8958</td>\n",
              "      <td>S</td>\n",
              "      <td>Third</td>\n",
              "      <td>man</td>\n",
              "      <td>True</td>\n",
              "      <td>NaN</td>\n",
              "      <td>Southampton</td>\n",
              "      <td>no</td>\n",
              "      <td>True</td>\n",
              "      <td>2</td>\n",
              "    </tr>\n",
              "    <tr>\n",
              "      <th>790</th>\n",
              "      <td>0</td>\n",
              "      <td>3</td>\n",
              "      <td>male</td>\n",
              "      <td>NaN</td>\n",
              "      <td>0</td>\n",
              "      <td>0</td>\n",
              "      <td>7.7500</td>\n",
              "      <td>Q</td>\n",
              "      <td>Third</td>\n",
              "      <td>man</td>\n",
              "      <td>True</td>\n",
              "      <td>NaN</td>\n",
              "      <td>Queenstown</td>\n",
              "      <td>no</td>\n",
              "      <td>True</td>\n",
              "      <td>2</td>\n",
              "    </tr>\n",
              "    <tr>\n",
              "      <th>863</th>\n",
              "      <td>0</td>\n",
              "      <td>3</td>\n",
              "      <td>female</td>\n",
              "      <td>NaN</td>\n",
              "      <td>8</td>\n",
              "      <td>2</td>\n",
              "      <td>69.5500</td>\n",
              "      <td>S</td>\n",
              "      <td>Third</td>\n",
              "      <td>woman</td>\n",
              "      <td>False</td>\n",
              "      <td>NaN</td>\n",
              "      <td>Southampton</td>\n",
              "      <td>no</td>\n",
              "      <td>False</td>\n",
              "      <td>2</td>\n",
              "    </tr>\n",
              "    <tr>\n",
              "      <th>697</th>\n",
              "      <td>1</td>\n",
              "      <td>3</td>\n",
              "      <td>female</td>\n",
              "      <td>NaN</td>\n",
              "      <td>0</td>\n",
              "      <td>0</td>\n",
              "      <td>7.7333</td>\n",
              "      <td>Q</td>\n",
              "      <td>Third</td>\n",
              "      <td>woman</td>\n",
              "      <td>False</td>\n",
              "      <td>NaN</td>\n",
              "      <td>Queenstown</td>\n",
              "      <td>yes</td>\n",
              "      <td>True</td>\n",
              "      <td>2</td>\n",
              "    </tr>\n",
              "    <tr>\n",
              "      <th>653</th>\n",
              "      <td>1</td>\n",
              "      <td>3</td>\n",
              "      <td>female</td>\n",
              "      <td>NaN</td>\n",
              "      <td>0</td>\n",
              "      <td>0</td>\n",
              "      <td>7.8292</td>\n",
              "      <td>Q</td>\n",
              "      <td>Third</td>\n",
              "      <td>woman</td>\n",
              "      <td>False</td>\n",
              "      <td>NaN</td>\n",
              "      <td>Queenstown</td>\n",
              "      <td>yes</td>\n",
              "      <td>True</td>\n",
              "      <td>2</td>\n",
              "    </tr>\n",
              "    <tr>\n",
              "      <th>466</th>\n",
              "      <td>0</td>\n",
              "      <td>2</td>\n",
              "      <td>male</td>\n",
              "      <td>NaN</td>\n",
              "      <td>0</td>\n",
              "      <td>0</td>\n",
              "      <td>0.0000</td>\n",
              "      <td>S</td>\n",
              "      <td>Second</td>\n",
              "      <td>man</td>\n",
              "      <td>True</td>\n",
              "      <td>NaN</td>\n",
              "      <td>Southampton</td>\n",
              "      <td>no</td>\n",
              "      <td>True</td>\n",
              "      <td>2</td>\n",
              "    </tr>\n",
              "    <tr>\n",
              "      <th>563</th>\n",
              "      <td>0</td>\n",
              "      <td>3</td>\n",
              "      <td>male</td>\n",
              "      <td>NaN</td>\n",
              "      <td>0</td>\n",
              "      <td>0</td>\n",
              "      <td>8.0500</td>\n",
              "      <td>S</td>\n",
              "      <td>Third</td>\n",
              "      <td>man</td>\n",
              "      <td>True</td>\n",
              "      <td>NaN</td>\n",
              "      <td>Southampton</td>\n",
              "      <td>no</td>\n",
              "      <td>True</td>\n",
              "      <td>2</td>\n",
              "    </tr>\n",
              "    <tr>\n",
              "      <th>692</th>\n",
              "      <td>1</td>\n",
              "      <td>3</td>\n",
              "      <td>male</td>\n",
              "      <td>NaN</td>\n",
              "      <td>0</td>\n",
              "      <td>0</td>\n",
              "      <td>56.4958</td>\n",
              "      <td>S</td>\n",
              "      <td>Third</td>\n",
              "      <td>man</td>\n",
              "      <td>True</td>\n",
              "      <td>NaN</td>\n",
              "      <td>Southampton</td>\n",
              "      <td>yes</td>\n",
              "      <td>True</td>\n",
              "      <td>2</td>\n",
              "    </tr>\n",
              "  </tbody>\n",
              "</table>\n",
              "</div>"
            ],
            "text/plain": [
              "     survived  pclass     sex  age  ...  embark_town  alive  alone num_missing\n",
              "411         0       3    male  NaN  ...   Queenstown     no   True           2\n",
              "589         0       3    male  NaN  ...  Southampton     no   True           2\n",
              "29          0       3    male  NaN  ...  Southampton     no   True           2\n",
              "790         0       3    male  NaN  ...   Queenstown     no   True           2\n",
              "863         0       3  female  NaN  ...  Southampton     no  False           2\n",
              "697         1       3  female  NaN  ...   Queenstown    yes   True           2\n",
              "653         1       3  female  NaN  ...   Queenstown    yes   True           2\n",
              "466         0       2    male  NaN  ...  Southampton     no   True           2\n",
              "563         0       3    male  NaN  ...  Southampton     no   True           2\n",
              "692         1       3    male  NaN  ...  Southampton    yes   True           2\n",
              "\n",
              "[10 rows x 16 columns]"
            ]
          },
          "metadata": {
            "tags": []
          },
          "execution_count": 25
        }
      ]
    },
    {
      "cell_type": "code",
      "metadata": {
        "colab": {
          "base_uri": "https://localhost:8080/",
          "height": 379
        },
        "id": "mlNRkRynWlMa",
        "outputId": "dd198e5e-af7e-4ab5-d62a-806674649eaf"
      },
      "source": [
        "titanic.loc[titanic.num_missing >= 2, :].sample(10)"
      ],
      "execution_count": 26,
      "outputs": [
        {
          "output_type": "execute_result",
          "data": {
            "text/html": [
              "<div>\n",
              "<style scoped>\n",
              "    .dataframe tbody tr th:only-of-type {\n",
              "        vertical-align: middle;\n",
              "    }\n",
              "\n",
              "    .dataframe tbody tr th {\n",
              "        vertical-align: top;\n",
              "    }\n",
              "\n",
              "    .dataframe thead th {\n",
              "        text-align: right;\n",
              "    }\n",
              "</style>\n",
              "<table border=\"1\" class=\"dataframe\">\n",
              "  <thead>\n",
              "    <tr style=\"text-align: right;\">\n",
              "      <th></th>\n",
              "      <th>survived</th>\n",
              "      <th>pclass</th>\n",
              "      <th>sex</th>\n",
              "      <th>age</th>\n",
              "      <th>sibsp</th>\n",
              "      <th>parch</th>\n",
              "      <th>fare</th>\n",
              "      <th>embarked</th>\n",
              "      <th>class</th>\n",
              "      <th>who</th>\n",
              "      <th>adult_male</th>\n",
              "      <th>deck</th>\n",
              "      <th>embark_town</th>\n",
              "      <th>alive</th>\n",
              "      <th>alone</th>\n",
              "      <th>num_missing</th>\n",
              "    </tr>\n",
              "  </thead>\n",
              "  <tbody>\n",
              "    <tr>\n",
              "      <th>613</th>\n",
              "      <td>0</td>\n",
              "      <td>3</td>\n",
              "      <td>male</td>\n",
              "      <td>NaN</td>\n",
              "      <td>0</td>\n",
              "      <td>0</td>\n",
              "      <td>7.7500</td>\n",
              "      <td>Q</td>\n",
              "      <td>Third</td>\n",
              "      <td>man</td>\n",
              "      <td>True</td>\n",
              "      <td>NaN</td>\n",
              "      <td>Queenstown</td>\n",
              "      <td>no</td>\n",
              "      <td>True</td>\n",
              "      <td>2</td>\n",
              "    </tr>\n",
              "    <tr>\n",
              "      <th>126</th>\n",
              "      <td>0</td>\n",
              "      <td>3</td>\n",
              "      <td>male</td>\n",
              "      <td>NaN</td>\n",
              "      <td>0</td>\n",
              "      <td>0</td>\n",
              "      <td>7.7500</td>\n",
              "      <td>Q</td>\n",
              "      <td>Third</td>\n",
              "      <td>man</td>\n",
              "      <td>True</td>\n",
              "      <td>NaN</td>\n",
              "      <td>Queenstown</td>\n",
              "      <td>no</td>\n",
              "      <td>True</td>\n",
              "      <td>2</td>\n",
              "    </tr>\n",
              "    <tr>\n",
              "      <th>101</th>\n",
              "      <td>0</td>\n",
              "      <td>3</td>\n",
              "      <td>male</td>\n",
              "      <td>NaN</td>\n",
              "      <td>0</td>\n",
              "      <td>0</td>\n",
              "      <td>7.8958</td>\n",
              "      <td>S</td>\n",
              "      <td>Third</td>\n",
              "      <td>man</td>\n",
              "      <td>True</td>\n",
              "      <td>NaN</td>\n",
              "      <td>Southampton</td>\n",
              "      <td>no</td>\n",
              "      <td>True</td>\n",
              "      <td>2</td>\n",
              "    </tr>\n",
              "    <tr>\n",
              "      <th>829</th>\n",
              "      <td>1</td>\n",
              "      <td>1</td>\n",
              "      <td>female</td>\n",
              "      <td>62.0</td>\n",
              "      <td>0</td>\n",
              "      <td>0</td>\n",
              "      <td>80.0000</td>\n",
              "      <td>NaN</td>\n",
              "      <td>First</td>\n",
              "      <td>woman</td>\n",
              "      <td>False</td>\n",
              "      <td>B</td>\n",
              "      <td>NaN</td>\n",
              "      <td>yes</td>\n",
              "      <td>True</td>\n",
              "      <td>2</td>\n",
              "    </tr>\n",
              "    <tr>\n",
              "      <th>335</th>\n",
              "      <td>0</td>\n",
              "      <td>3</td>\n",
              "      <td>male</td>\n",
              "      <td>NaN</td>\n",
              "      <td>0</td>\n",
              "      <td>0</td>\n",
              "      <td>7.8958</td>\n",
              "      <td>S</td>\n",
              "      <td>Third</td>\n",
              "      <td>man</td>\n",
              "      <td>True</td>\n",
              "      <td>NaN</td>\n",
              "      <td>Southampton</td>\n",
              "      <td>no</td>\n",
              "      <td>True</td>\n",
              "      <td>2</td>\n",
              "    </tr>\n",
              "    <tr>\n",
              "      <th>878</th>\n",
              "      <td>0</td>\n",
              "      <td>3</td>\n",
              "      <td>male</td>\n",
              "      <td>NaN</td>\n",
              "      <td>0</td>\n",
              "      <td>0</td>\n",
              "      <td>7.8958</td>\n",
              "      <td>S</td>\n",
              "      <td>Third</td>\n",
              "      <td>man</td>\n",
              "      <td>True</td>\n",
              "      <td>NaN</td>\n",
              "      <td>Southampton</td>\n",
              "      <td>no</td>\n",
              "      <td>True</td>\n",
              "      <td>2</td>\n",
              "    </tr>\n",
              "    <tr>\n",
              "      <th>692</th>\n",
              "      <td>1</td>\n",
              "      <td>3</td>\n",
              "      <td>male</td>\n",
              "      <td>NaN</td>\n",
              "      <td>0</td>\n",
              "      <td>0</td>\n",
              "      <td>56.4958</td>\n",
              "      <td>S</td>\n",
              "      <td>Third</td>\n",
              "      <td>man</td>\n",
              "      <td>True</td>\n",
              "      <td>NaN</td>\n",
              "      <td>Southampton</td>\n",
              "      <td>yes</td>\n",
              "      <td>True</td>\n",
              "      <td>2</td>\n",
              "    </tr>\n",
              "    <tr>\n",
              "      <th>32</th>\n",
              "      <td>1</td>\n",
              "      <td>3</td>\n",
              "      <td>female</td>\n",
              "      <td>NaN</td>\n",
              "      <td>0</td>\n",
              "      <td>0</td>\n",
              "      <td>7.7500</td>\n",
              "      <td>Q</td>\n",
              "      <td>Third</td>\n",
              "      <td>woman</td>\n",
              "      <td>False</td>\n",
              "      <td>NaN</td>\n",
              "      <td>Queenstown</td>\n",
              "      <td>yes</td>\n",
              "      <td>True</td>\n",
              "      <td>2</td>\n",
              "    </tr>\n",
              "    <tr>\n",
              "      <th>154</th>\n",
              "      <td>0</td>\n",
              "      <td>3</td>\n",
              "      <td>male</td>\n",
              "      <td>NaN</td>\n",
              "      <td>0</td>\n",
              "      <td>0</td>\n",
              "      <td>7.3125</td>\n",
              "      <td>S</td>\n",
              "      <td>Third</td>\n",
              "      <td>man</td>\n",
              "      <td>True</td>\n",
              "      <td>NaN</td>\n",
              "      <td>Southampton</td>\n",
              "      <td>no</td>\n",
              "      <td>True</td>\n",
              "      <td>2</td>\n",
              "    </tr>\n",
              "    <tr>\n",
              "      <th>773</th>\n",
              "      <td>0</td>\n",
              "      <td>3</td>\n",
              "      <td>male</td>\n",
              "      <td>NaN</td>\n",
              "      <td>0</td>\n",
              "      <td>0</td>\n",
              "      <td>7.2250</td>\n",
              "      <td>C</td>\n",
              "      <td>Third</td>\n",
              "      <td>man</td>\n",
              "      <td>True</td>\n",
              "      <td>NaN</td>\n",
              "      <td>Cherbourg</td>\n",
              "      <td>no</td>\n",
              "      <td>True</td>\n",
              "      <td>2</td>\n",
              "    </tr>\n",
              "  </tbody>\n",
              "</table>\n",
              "</div>"
            ],
            "text/plain": [
              "     survived  pclass     sex   age  ...  embark_town  alive  alone num_missing\n",
              "613         0       3    male   NaN  ...   Queenstown     no   True           2\n",
              "126         0       3    male   NaN  ...   Queenstown     no   True           2\n",
              "101         0       3    male   NaN  ...  Southampton     no   True           2\n",
              "829         1       1  female  62.0  ...          NaN    yes   True           2\n",
              "335         0       3    male   NaN  ...  Southampton     no   True           2\n",
              "878         0       3    male   NaN  ...  Southampton     no   True           2\n",
              "692         1       3    male   NaN  ...  Southampton    yes   True           2\n",
              "32          1       3  female   NaN  ...   Queenstown    yes   True           2\n",
              "154         0       3    male   NaN  ...  Southampton     no   True           2\n",
              "773         0       3    male   NaN  ...    Cherbourg     no   True           2\n",
              "\n",
              "[10 rows x 16 columns]"
            ]
          },
          "metadata": {
            "tags": []
          },
          "execution_count": 26
        }
      ]
    },
    {
      "cell_type": "markdown",
      "metadata": {
        "id": "Bab9H46aX6TM"
      },
      "source": [
        "\n",
        "\n",
        "---\n",
        "\n",
        "\n",
        "이번 10장에서는 여러 가지 실습을 통해 apply 메서드가 왜 데이터 분석에 유용한지 알아보았다. 내장 함수의 기능도 훌륭하지만, 때로는 나만의 함수를 만들어 데이터 처리에 사용하는 것이 더 편리할 수도 있기 때문에 apply 메서드의 사용법은 반드시 알아두어야 한다.\n"
      ]
    }
  ]
}