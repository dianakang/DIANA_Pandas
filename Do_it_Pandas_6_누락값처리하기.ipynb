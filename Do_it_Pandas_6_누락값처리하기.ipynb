{
  "nbformat": 4,
  "nbformat_minor": 0,
  "metadata": {
    "colab": {
      "name": "Do_it_Pandas_6_누락값처리하기.ipynb",
      "provenance": [],
      "collapsed_sections": [],
      "mount_file_id": "1-u2M2Q75zDl_ABB1oSKXgNGvx1ZSrPoN",
      "authorship_tag": "ABX9TyNnRzjK5TP6A7X+42CB41Ox",
      "include_colab_link": true
    },
    "kernelspec": {
      "name": "python3",
      "display_name": "Python 3"
    }
  },
  "cells": [
    {
      "cell_type": "markdown",
      "metadata": {
        "id": "view-in-github",
        "colab_type": "text"
      },
      "source": [
        "<a href=\"https://colab.research.google.com/github/dianakang/DIANA_Pandas/blob/master/Do_it_Pandas_6_%EB%88%84%EB%9D%BD%EA%B0%92%EC%B2%98%EB%A6%AC%ED%95%98%EA%B8%B0.ipynb\" target=\"_parent\"><img src=\"https://colab.research.google.com/assets/colab-badge.svg\" alt=\"Open In Colab\"/></a>"
      ]
    },
    {
      "cell_type": "markdown",
      "metadata": {
        "id": "-OZKdZG29Sgw"
      },
      "source": [
        "# 목차\n",
        "\n",
        "*   6.1. 누락값이란?\n",
        "   *   6.1.1. 누락값과 누락값 확인하기\n",
        "   *   6.1.2. 누락값이 생기는 이유\n",
        "         *   (1) 누락값이 있는 데이터 집합을 연결할 때 누락값이 생기는 경우\n",
        "         *   (2) 데이터를 입력할 때 누락값이 생기는 경우\n",
        "         *   (3) 범위를 지정하여 데이터를 추출할 때 누락값이 생기는 경우\n",
        "\n",
        "   *   6.1.3. 누락값의 개수\n",
        "         *   (1) count 메서드 이용\n",
        "         *   (2) count_nonzero, isnull 메서드 이용\n",
        "         *   (3) value_counts 메서드 이용\n",
        "   *   6.1.4. 누락값 처리하기\n",
        "         *   (1) 누락값 변경하기\n",
        "         *   (2) 누락값 삭제하기\n",
        "   *   6.1.5. 누락값이 포함된 데이터 계산하기\n",
        "\n",
        "\n",
        "---\n"
      ]
    },
    {
      "cell_type": "markdown",
      "metadata": {
        "id": "NzCmn1DX9WJG"
      },
      "source": [
        "# 6. 누락값 처리하기"
      ]
    },
    {
      "cell_type": "markdown",
      "metadata": {
        "id": "XvZmMuX89aZe"
      },
      "source": [
        "데이터에 누락값이 없으면 좋겠지만 대부분의 데이터에는 누락값이 존재한다. 깔끔한 데이터를 위해 이런 누락값을 처리하는 것은 매우 중요하다. \n",
        "\n",
        "이번 6장에서는 누락값을 처리하는 방법에 대해 알아보자!"
      ]
    },
    {
      "cell_type": "markdown",
      "metadata": {
        "id": "Qwkug4iz95uM"
      },
      "source": [
        "## 6. 1. 누락값이란?"
      ]
    },
    {
      "cell_type": "markdown",
      "metadata": {
        "id": "X9ToqOapAoK5"
      },
      "source": [
        "### 6.1.1. 누락값과 누락값 확인하기"
      ]
    },
    {
      "cell_type": "markdown",
      "metadata": {
        "id": "5cgEgOdG-R47"
      },
      "source": [
        "누락값(NaN)은 NaN, NAN, nan과 같은 방법으로 표현된다."
      ]
    },
    {
      "cell_type": "code",
      "metadata": {
        "id": "pXl_HQyh8mBA"
      },
      "source": [
        "#  numpy에서 누락값 불러오기\n",
        "from numpy import NaN, NAN, nan"
      ],
      "execution_count": 1,
      "outputs": []
    },
    {
      "cell_type": "markdown",
      "metadata": {
        "id": "tD5X2BHM-5j0"
      },
      "source": [
        "여기서 주의할 점은 누락값은 0, ''와 같은 값과는 다른 개념이라는 것이다.\n",
        "\n",
        "**누락값은 말 그대로 데이터 자체가 없다는 것**이다. 그래서 '같다'라는 개념도 없다.\n",
        "\n",
        "다음은 누락값과 True, False, 0, ''을 비교한 결과이다."
      ]
    },
    {
      "cell_type": "code",
      "metadata": {
        "colab": {
          "base_uri": "https://localhost:8080/"
        },
        "id": "wzufxZhV-mR6",
        "outputId": "f9e098f2-6ddf-4d4a-9925-84eb779619f0"
      },
      "source": [
        "print(NaN == True)\n",
        "print(\"-\"*50)\n",
        "\n",
        "print(NaN == False)\n",
        "print(\"-\"*50)\n",
        "\n",
        "print(NaN == 0)\n",
        "print(\"-\"*50)\n",
        "\n",
        "print(NaN == '')\n",
        "print(\"-\"*50)"
      ],
      "execution_count": 2,
      "outputs": [
        {
          "output_type": "stream",
          "text": [
            "False\n",
            "--------------------------------------------------\n",
            "False\n",
            "--------------------------------------------------\n",
            "False\n",
            "--------------------------------------------------\n",
            "False\n",
            "--------------------------------------------------\n"
          ],
          "name": "stdout"
        }
      ]
    },
    {
      "cell_type": "markdown",
      "metadata": {
        "id": "mrUjqjBe_b0g"
      },
      "source": [
        "위에서도 언급했듯이 누락값은 값 자체가 없기 때문에 **자기 자신과 비교해도** True가 아닌 **False**가 출력된다."
      ]
    },
    {
      "cell_type": "code",
      "metadata": {
        "colab": {
          "base_uri": "https://localhost:8080/"
        },
        "id": "B7ZLsZhS-m-C",
        "outputId": "6b7a322a-3bcd-40a2-d3d4-d3d8dae312b7"
      },
      "source": [
        "print(NaN == NaN)\n",
        "print(\"-\"*50)\n",
        "\n",
        "print(NaN == nan)\n",
        "print(\"-\"*50)\n",
        "\n",
        "print(nan == nan)\n",
        "print(\"-\"*50)\n",
        "\n",
        "print(nan == NaN)\n",
        "print(\"-\"*50)"
      ],
      "execution_count": 3,
      "outputs": [
        {
          "output_type": "stream",
          "text": [
            "False\n",
            "--------------------------------------------------\n",
            "False\n",
            "--------------------------------------------------\n",
            "False\n",
            "--------------------------------------------------\n",
            "False\n",
            "--------------------------------------------------\n"
          ],
          "name": "stdout"
        }
      ]
    },
    {
      "cell_type": "markdown",
      "metadata": {
        "id": "6RYeRMkGAASH"
      },
      "source": [
        "그렇다면 누락값은 어떻게 해결할 수 있을까? 다행히 **판다스에는 누락값을 확인하는 메서드인 isnull**이 있다.\n",
        "\n",
        "아래는 isnull 메서드로 누락값을 검사한 것이다."
      ]
    },
    {
      "cell_type": "code",
      "metadata": {
        "colab": {
          "base_uri": "https://localhost:8080/"
        },
        "id": "aq02-D54-m7j",
        "outputId": "ffe68e29-3372-4eed-bca1-46733687fe9d"
      },
      "source": [
        "# 누락값 확인 -> pandas의 isnull 메서드 이용\n",
        "import pandas as pd\n",
        "print(pd.isnull(NaN))\n",
        "print(\"-\"*50)\n",
        "print(pd.isnull(nan))\n",
        "print(\"-\"*50)\n",
        "print(pd.isnull(NAN))"
      ],
      "execution_count": 4,
      "outputs": [
        {
          "output_type": "stream",
          "text": [
            "True\n",
            "--------------------------------------------------\n",
            "True\n",
            "--------------------------------------------------\n",
            "True\n"
          ],
          "name": "stdout"
        }
      ]
    },
    {
      "cell_type": "code",
      "metadata": {
        "colab": {
          "base_uri": "https://localhost:8080/"
        },
        "id": "o503vPgL-mPB",
        "outputId": "33af6a9b-27af-443e-e184-959b5b2f334c"
      },
      "source": [
        "# 누락값이 아닌 경우 확인 -> pandas의 notnull 메서드 이용\n",
        "print(pd.notnull(NaN))\n",
        "print(\"-\"*50)\n",
        "print(pd.notnull(42))\n",
        "print(\"-\"*50)\n",
        "print(pd.notnull('missing'))"
      ],
      "execution_count": 5,
      "outputs": [
        {
          "output_type": "stream",
          "text": [
            "False\n",
            "--------------------------------------------------\n",
            "True\n",
            "--------------------------------------------------\n",
            "True\n"
          ],
          "name": "stdout"
        }
      ]
    },
    {
      "cell_type": "markdown",
      "metadata": {
        "id": "lsJoeTdJAtI3"
      },
      "source": [
        "### 6.1.2. 누락값이 생기는 이유"
      ]
    },
    {
      "cell_type": "markdown",
      "metadata": {
        "id": "oPuvJpKaAzqF"
      },
      "source": [
        "누락값이 생기는 이유는 무엇일까? 누락값은 처음부터 누락값이 있는 데이터를 불러오거나 데이터를 연결, 입력하는 등의 과정에서 생길 수 있다. \n",
        "\n",
        "그러면 다음 예제를 통해 누락값이 생기는 이유에 대해 자세히 알아보자!"
      ]
    },
    {
      "cell_type": "markdown",
      "metadata": {
        "id": "BNAV7c9PBjle"
      },
      "source": [
        "#### (1) 누락값이 있는 데이터 집합을 연결할 때 누락값이 생기는 경우"
      ]
    },
    {
      "cell_type": "markdown",
      "metadata": {
        "id": "h5jkjdXuBpy-"
      },
      "source": [
        "이번에 사용할 데이터 집합은 누락값이 포함되어 있다. 누락값이 포함되어 있는 데이터 집합을 연결하면 어떻게 될까?\n",
        "\n",
        "**누락값이 포함되어 있는 데이터 집합을 연결하면 더 많은 누락값이 생긴다.**"
      ]
    },
    {
      "cell_type": "code",
      "metadata": {
        "colab": {
          "base_uri": "https://localhost:8080/"
        },
        "id": "m13oIDFb-mM2",
        "outputId": "c0cba998-932f-44c3-fbd8-e42504fe40e3"
      },
      "source": [
        "# 1. 데이터 불러와서 확인하기\n",
        "visited = pd.read_csv('/content/drive/MyDrive/pandas/doit_pandas-master/data/survey_visited.csv')\n",
        "survey = pd.read_csv('/content/drive/MyDrive/pandas/doit_pandas-master/data/survey_survey.csv')\n",
        "\n",
        "print(visited)\n",
        "print(\"-\"*50)\n",
        "print(survey)"
      ],
      "execution_count": 7,
      "outputs": [
        {
          "output_type": "stream",
          "text": [
            "   ident   site       dated\n",
            "0    619   DR-1  1927-02-08\n",
            "1    622   DR-1  1927-02-10\n",
            "2    734   DR-3  1939-01-07\n",
            "3    735   DR-3  1930-01-12\n",
            "4    751   DR-3  1930-02-26\n",
            "5    752   DR-3         NaN\n",
            "6    837  MSK-4  1932-01-14\n",
            "7    844   DR-1  1932-03-22\n",
            "--------------------------------------------------\n",
            "    taken person quant  reading\n",
            "0     619   dyer   rad     9.82\n",
            "1     619   dyer   sal     0.13\n",
            "2     622   dyer   rad     7.80\n",
            "3     622   dyer   sal     0.09\n",
            "4     734     pb   rad     8.41\n",
            "5     734   lake   sal     0.05\n",
            "6     734     pb  temp   -21.50\n",
            "7     735     pb   rad     7.22\n",
            "8     735    NaN   sal     0.06\n",
            "9     735    NaN  temp   -26.00\n",
            "10    751     pb   rad     4.35\n",
            "11    751     pb  temp   -18.50\n",
            "12    751   lake   sal     0.10\n",
            "13    752   lake   rad     2.19\n",
            "14    752   lake   sal     0.09\n",
            "15    752   lake  temp   -16.00\n",
            "16    752    roe   sal    41.60\n",
            "17    837   lake   rad     1.46\n",
            "18    837   lake   sal     0.21\n",
            "19    837    roe   sal    22.50\n",
            "20    844    roe   rad    11.25\n"
          ],
          "name": "stdout"
        }
      ]
    },
    {
      "cell_type": "code",
      "metadata": {
        "colab": {
          "base_uri": "https://localhost:8080/",
          "height": 700
        },
        "id": "6YpPb_Ji-mKE",
        "outputId": "87f5ff52-b0c8-4e8c-adf3-835e6c159366"
      },
      "source": [
        "# 데이터 연결\n",
        "vs = visited.merge(survey, left_on='ident', right_on='taken')\n",
        "vs"
      ],
      "execution_count": 9,
      "outputs": [
        {
          "output_type": "execute_result",
          "data": {
            "text/html": [
              "<div>\n",
              "<style scoped>\n",
              "    .dataframe tbody tr th:only-of-type {\n",
              "        vertical-align: middle;\n",
              "    }\n",
              "\n",
              "    .dataframe tbody tr th {\n",
              "        vertical-align: top;\n",
              "    }\n",
              "\n",
              "    .dataframe thead th {\n",
              "        text-align: right;\n",
              "    }\n",
              "</style>\n",
              "<table border=\"1\" class=\"dataframe\">\n",
              "  <thead>\n",
              "    <tr style=\"text-align: right;\">\n",
              "      <th></th>\n",
              "      <th>ident</th>\n",
              "      <th>site</th>\n",
              "      <th>dated</th>\n",
              "      <th>taken</th>\n",
              "      <th>person</th>\n",
              "      <th>quant</th>\n",
              "      <th>reading</th>\n",
              "    </tr>\n",
              "  </thead>\n",
              "  <tbody>\n",
              "    <tr>\n",
              "      <th>0</th>\n",
              "      <td>619</td>\n",
              "      <td>DR-1</td>\n",
              "      <td>1927-02-08</td>\n",
              "      <td>619</td>\n",
              "      <td>dyer</td>\n",
              "      <td>rad</td>\n",
              "      <td>9.82</td>\n",
              "    </tr>\n",
              "    <tr>\n",
              "      <th>1</th>\n",
              "      <td>619</td>\n",
              "      <td>DR-1</td>\n",
              "      <td>1927-02-08</td>\n",
              "      <td>619</td>\n",
              "      <td>dyer</td>\n",
              "      <td>sal</td>\n",
              "      <td>0.13</td>\n",
              "    </tr>\n",
              "    <tr>\n",
              "      <th>2</th>\n",
              "      <td>622</td>\n",
              "      <td>DR-1</td>\n",
              "      <td>1927-02-10</td>\n",
              "      <td>622</td>\n",
              "      <td>dyer</td>\n",
              "      <td>rad</td>\n",
              "      <td>7.80</td>\n",
              "    </tr>\n",
              "    <tr>\n",
              "      <th>3</th>\n",
              "      <td>622</td>\n",
              "      <td>DR-1</td>\n",
              "      <td>1927-02-10</td>\n",
              "      <td>622</td>\n",
              "      <td>dyer</td>\n",
              "      <td>sal</td>\n",
              "      <td>0.09</td>\n",
              "    </tr>\n",
              "    <tr>\n",
              "      <th>4</th>\n",
              "      <td>734</td>\n",
              "      <td>DR-3</td>\n",
              "      <td>1939-01-07</td>\n",
              "      <td>734</td>\n",
              "      <td>pb</td>\n",
              "      <td>rad</td>\n",
              "      <td>8.41</td>\n",
              "    </tr>\n",
              "    <tr>\n",
              "      <th>5</th>\n",
              "      <td>734</td>\n",
              "      <td>DR-3</td>\n",
              "      <td>1939-01-07</td>\n",
              "      <td>734</td>\n",
              "      <td>lake</td>\n",
              "      <td>sal</td>\n",
              "      <td>0.05</td>\n",
              "    </tr>\n",
              "    <tr>\n",
              "      <th>6</th>\n",
              "      <td>734</td>\n",
              "      <td>DR-3</td>\n",
              "      <td>1939-01-07</td>\n",
              "      <td>734</td>\n",
              "      <td>pb</td>\n",
              "      <td>temp</td>\n",
              "      <td>-21.50</td>\n",
              "    </tr>\n",
              "    <tr>\n",
              "      <th>7</th>\n",
              "      <td>735</td>\n",
              "      <td>DR-3</td>\n",
              "      <td>1930-01-12</td>\n",
              "      <td>735</td>\n",
              "      <td>pb</td>\n",
              "      <td>rad</td>\n",
              "      <td>7.22</td>\n",
              "    </tr>\n",
              "    <tr>\n",
              "      <th>8</th>\n",
              "      <td>735</td>\n",
              "      <td>DR-3</td>\n",
              "      <td>1930-01-12</td>\n",
              "      <td>735</td>\n",
              "      <td>NaN</td>\n",
              "      <td>sal</td>\n",
              "      <td>0.06</td>\n",
              "    </tr>\n",
              "    <tr>\n",
              "      <th>9</th>\n",
              "      <td>735</td>\n",
              "      <td>DR-3</td>\n",
              "      <td>1930-01-12</td>\n",
              "      <td>735</td>\n",
              "      <td>NaN</td>\n",
              "      <td>temp</td>\n",
              "      <td>-26.00</td>\n",
              "    </tr>\n",
              "    <tr>\n",
              "      <th>10</th>\n",
              "      <td>751</td>\n",
              "      <td>DR-3</td>\n",
              "      <td>1930-02-26</td>\n",
              "      <td>751</td>\n",
              "      <td>pb</td>\n",
              "      <td>rad</td>\n",
              "      <td>4.35</td>\n",
              "    </tr>\n",
              "    <tr>\n",
              "      <th>11</th>\n",
              "      <td>751</td>\n",
              "      <td>DR-3</td>\n",
              "      <td>1930-02-26</td>\n",
              "      <td>751</td>\n",
              "      <td>pb</td>\n",
              "      <td>temp</td>\n",
              "      <td>-18.50</td>\n",
              "    </tr>\n",
              "    <tr>\n",
              "      <th>12</th>\n",
              "      <td>751</td>\n",
              "      <td>DR-3</td>\n",
              "      <td>1930-02-26</td>\n",
              "      <td>751</td>\n",
              "      <td>lake</td>\n",
              "      <td>sal</td>\n",
              "      <td>0.10</td>\n",
              "    </tr>\n",
              "    <tr>\n",
              "      <th>13</th>\n",
              "      <td>752</td>\n",
              "      <td>DR-3</td>\n",
              "      <td>NaN</td>\n",
              "      <td>752</td>\n",
              "      <td>lake</td>\n",
              "      <td>rad</td>\n",
              "      <td>2.19</td>\n",
              "    </tr>\n",
              "    <tr>\n",
              "      <th>14</th>\n",
              "      <td>752</td>\n",
              "      <td>DR-3</td>\n",
              "      <td>NaN</td>\n",
              "      <td>752</td>\n",
              "      <td>lake</td>\n",
              "      <td>sal</td>\n",
              "      <td>0.09</td>\n",
              "    </tr>\n",
              "    <tr>\n",
              "      <th>15</th>\n",
              "      <td>752</td>\n",
              "      <td>DR-3</td>\n",
              "      <td>NaN</td>\n",
              "      <td>752</td>\n",
              "      <td>lake</td>\n",
              "      <td>temp</td>\n",
              "      <td>-16.00</td>\n",
              "    </tr>\n",
              "    <tr>\n",
              "      <th>16</th>\n",
              "      <td>752</td>\n",
              "      <td>DR-3</td>\n",
              "      <td>NaN</td>\n",
              "      <td>752</td>\n",
              "      <td>roe</td>\n",
              "      <td>sal</td>\n",
              "      <td>41.60</td>\n",
              "    </tr>\n",
              "    <tr>\n",
              "      <th>17</th>\n",
              "      <td>837</td>\n",
              "      <td>MSK-4</td>\n",
              "      <td>1932-01-14</td>\n",
              "      <td>837</td>\n",
              "      <td>lake</td>\n",
              "      <td>rad</td>\n",
              "      <td>1.46</td>\n",
              "    </tr>\n",
              "    <tr>\n",
              "      <th>18</th>\n",
              "      <td>837</td>\n",
              "      <td>MSK-4</td>\n",
              "      <td>1932-01-14</td>\n",
              "      <td>837</td>\n",
              "      <td>lake</td>\n",
              "      <td>sal</td>\n",
              "      <td>0.21</td>\n",
              "    </tr>\n",
              "    <tr>\n",
              "      <th>19</th>\n",
              "      <td>837</td>\n",
              "      <td>MSK-4</td>\n",
              "      <td>1932-01-14</td>\n",
              "      <td>837</td>\n",
              "      <td>roe</td>\n",
              "      <td>sal</td>\n",
              "      <td>22.50</td>\n",
              "    </tr>\n",
              "    <tr>\n",
              "      <th>20</th>\n",
              "      <td>844</td>\n",
              "      <td>DR-1</td>\n",
              "      <td>1932-03-22</td>\n",
              "      <td>844</td>\n",
              "      <td>roe</td>\n",
              "      <td>rad</td>\n",
              "      <td>11.25</td>\n",
              "    </tr>\n",
              "  </tbody>\n",
              "</table>\n",
              "</div>"
            ],
            "text/plain": [
              "    ident   site       dated  taken person quant  reading\n",
              "0     619   DR-1  1927-02-08    619   dyer   rad     9.82\n",
              "1     619   DR-1  1927-02-08    619   dyer   sal     0.13\n",
              "2     622   DR-1  1927-02-10    622   dyer   rad     7.80\n",
              "3     622   DR-1  1927-02-10    622   dyer   sal     0.09\n",
              "4     734   DR-3  1939-01-07    734     pb   rad     8.41\n",
              "5     734   DR-3  1939-01-07    734   lake   sal     0.05\n",
              "6     734   DR-3  1939-01-07    734     pb  temp   -21.50\n",
              "7     735   DR-3  1930-01-12    735     pb   rad     7.22\n",
              "8     735   DR-3  1930-01-12    735    NaN   sal     0.06\n",
              "9     735   DR-3  1930-01-12    735    NaN  temp   -26.00\n",
              "10    751   DR-3  1930-02-26    751     pb   rad     4.35\n",
              "11    751   DR-3  1930-02-26    751     pb  temp   -18.50\n",
              "12    751   DR-3  1930-02-26    751   lake   sal     0.10\n",
              "13    752   DR-3         NaN    752   lake   rad     2.19\n",
              "14    752   DR-3         NaN    752   lake   sal     0.09\n",
              "15    752   DR-3         NaN    752   lake  temp   -16.00\n",
              "16    752   DR-3         NaN    752    roe   sal    41.60\n",
              "17    837  MSK-4  1932-01-14    837   lake   rad     1.46\n",
              "18    837  MSK-4  1932-01-14    837   lake   sal     0.21\n",
              "19    837  MSK-4  1932-01-14    837    roe   sal    22.50\n",
              "20    844   DR-1  1932-03-22    844    roe   rad    11.25"
            ]
          },
          "metadata": {
            "tags": []
          },
          "execution_count": 9
        }
      ]
    },
    {
      "cell_type": "markdown",
      "metadata": {
        "id": "hhq3zxqyCHDt"
      },
      "source": [
        "-> 누락값이 많이 생겨났음을 확인할 수 있다."
      ]
    },
    {
      "cell_type": "markdown",
      "metadata": {
        "id": "c8a7pO6NCRwC"
      },
      "source": [
        "#### (2) 데이터를 입력할 때 누락값이 생기는 경우"
      ]
    },
    {
      "cell_type": "markdown",
      "metadata": {
        "id": "vx7bFv6aCYyO"
      },
      "source": [
        "누락값은 데이터를 잘못 입력하여 생길 수도 있다. 다음은 시리즈를 생성할 때 데이터프레임에 없는 열과 행 데이터를 입력하여 누락값이 생긴 것이다.\n",
        "\n",
        "scientists 데이터프레임을 확인하면 missing 이라는 열과 함께 행 데이터에 누락값이 추가된 것을 확인할 수 있다. "
      ]
    },
    {
      "cell_type": "code",
      "metadata": {
        "colab": {
          "base_uri": "https://localhost:8080/"
        },
        "id": "VzZ1UfzY-mHk",
        "outputId": "e172bca2-3ef1-48db-8ea9-5d1732f80f62"
      },
      "source": [
        "# 시리즈에서 누락값 입력\n",
        "num_legs = pd.Series({'goat':4, 'amoeba': nan})\n",
        "print(num_legs)\n",
        "print(type(num_legs))"
      ],
      "execution_count": 10,
      "outputs": [
        {
          "output_type": "stream",
          "text": [
            "goat      4.0\n",
            "amoeba    NaN\n",
            "dtype: float64\n",
            "<class 'pandas.core.series.Series'>\n"
          ],
          "name": "stdout"
        }
      ]
    },
    {
      "cell_type": "code",
      "metadata": {
        "colab": {
          "base_uri": "https://localhost:8080/"
        },
        "id": "0qtl-7CRFIye",
        "outputId": "0132948d-0a54-4f06-cf59-9526c0a8c9f6"
      },
      "source": [
        "# 데이터프레임에서 누락값 입력\n",
        "scientists = pd.DataFrame({\n",
        "    'Name' : ['Rosaline Franklin', 'William Gosset'],\n",
        "    'Occupation' : ['Chemist', 'Statistician'],\n",
        "    'Born' : ['1920-07-25', '1876-06-13'],\n",
        "    'Died' : ['1958-04-16', '1937-10-16'],\n",
        "    'missing' : [NaN, nan]\n",
        "})\n",
        "\n",
        "print(scientists)\n",
        "print(type(scientists))"
      ],
      "execution_count": 14,
      "outputs": [
        {
          "output_type": "stream",
          "text": [
            "                Name    Occupation        Born        Died  missing\n",
            "0  Rosaline Franklin       Chemist  1920-07-25  1958-04-16      NaN\n",
            "1     William Gosset  Statistician  1876-06-13  1937-10-16      NaN\n",
            "<class 'pandas.core.frame.DataFrame'>\n"
          ],
          "name": "stdout"
        }
      ]
    },
    {
      "cell_type": "markdown",
      "metadata": {
        "id": "khEF7SKYF-1c"
      },
      "source": [
        "#### (3) 범위를 지정하여 데이터를 추출할 때 누락값이 생기는 경우"
      ]
    },
    {
      "cell_type": "markdown",
      "metadata": {
        "id": "VhTLkbATGEY7"
      },
      "source": [
        "데이터프레임에 존재하지 않는 데이터를 추출하면 누락값이 생긴다. "
      ]
    },
    {
      "cell_type": "code",
      "metadata": {
        "id": "1vRkCSZRFPMl"
      },
      "source": [
        "# 데이터 불러오기\n",
        "gapminder = pd.read_csv('/content/drive/MyDrive/pandas/doit_pandas-master/data/gapminder.tsv', sep='\\t')"
      ],
      "execution_count": 15,
      "outputs": []
    },
    {
      "cell_type": "code",
      "metadata": {
        "colab": {
          "base_uri": "https://localhost:8080/"
        },
        "id": "8qKwP10tGOo0",
        "outputId": "5f78d57d-5559-4f1d-ea64-50918054d7d0"
      },
      "source": [
        "# 연도별로 그룹화 후, lifeExp 열의 평균 구하기\n",
        "life_exp = gapminder.groupby(['year'])['lifeExp'].mean()\n",
        "life_exp"
      ],
      "execution_count": 16,
      "outputs": [
        {
          "output_type": "execute_result",
          "data": {
            "text/plain": [
              "year\n",
              "1952    49.057620\n",
              "1957    51.507401\n",
              "1962    53.609249\n",
              "1967    55.678290\n",
              "1972    57.647386\n",
              "1977    59.570157\n",
              "1982    61.533197\n",
              "1987    63.212613\n",
              "1992    64.160338\n",
              "1997    65.014676\n",
              "2002    65.694923\n",
              "2007    67.007423\n",
              "Name: lifeExp, dtype: float64"
            ]
          },
          "metadata": {
            "tags": []
          },
          "execution_count": 16
        }
      ]
    },
    {
      "cell_type": "markdown",
      "metadata": {
        "id": "ExnwrKP0I3yI"
      },
      "source": [
        "다음은 range 메서드를 이용하여 life_exp 열에서 2000~2009년의 데이터를 추출한 것이다.\n",
        "\n",
        "그런데 이렇게 데이터를 추출하면 처음부터 life_exp 열에 없었던 연도가 포함되기 때문에 누락값이 많이 발생한다."
      ]
    },
    {
      "cell_type": "code",
      "metadata": {
        "id": "t2_mdTh1GX5M"
      },
      "source": [
        "## print(life_exp.loc[range(2000, 2010), ])\n",
        "\n",
        "## -> 파이썬 문법이 변경되어 현재 해당 명령 실행시 에러가 출력된다."
      ],
      "execution_count": 19,
      "outputs": []
    },
    {
      "cell_type": "markdown",
      "metadata": {
        "id": "lVksjyDgIfdQ"
      },
      "source": [
        "앞서 발생한 문제를 해결하기 위해서는 '불린 추출'을 이용하여 데이터를 추출하면 된다."
      ]
    },
    {
      "cell_type": "code",
      "metadata": {
        "colab": {
          "base_uri": "https://localhost:8080/"
        },
        "id": "mvvJrm4uGt6g",
        "outputId": "eabc8b8c-64f7-4300-ad55-934e53804824"
      },
      "source": [
        "# 불린 추출 이용하여 데이터 추출하기\n",
        "year_2000 = life_exp[life_exp.index > 2000]\n",
        "year_2000"
      ],
      "execution_count": 20,
      "outputs": [
        {
          "output_type": "execute_result",
          "data": {
            "text/plain": [
              "year\n",
              "2002    65.694923\n",
              "2007    67.007423\n",
              "Name: lifeExp, dtype: float64"
            ]
          },
          "metadata": {
            "tags": []
          },
          "execution_count": 20
        }
      ]
    },
    {
      "cell_type": "markdown",
      "metadata": {
        "id": "fI9zmmTLPOXd"
      },
      "source": [
        "### 6.1.3. 누락값의 개수"
      ]
    },
    {
      "cell_type": "markdown",
      "metadata": {
        "id": "DK8qPvjfRuaW"
      },
      "source": [
        "#### (1) count 메서드 이용"
      ]
    },
    {
      "cell_type": "code",
      "metadata": {
        "id": "Fee4UTn0PQC7"
      },
      "source": [
        "# 데이터 불러오기\n",
        "ebola = pd.read_csv('/content/drive/MyDrive/pandas/doit_pandas-master/data/country_timeseries.csv')"
      ],
      "execution_count": 21,
      "outputs": []
    },
    {
      "cell_type": "code",
      "metadata": {
        "colab": {
          "base_uri": "https://localhost:8080/"
        },
        "id": "5oYtcPGvIsmt",
        "outputId": "54e9ca15-1158-415c-b870-04de5c2c45ec"
      },
      "source": [
        "# 누락값이 아닌 데이터의 개수 세기 -> count 메서드 이용\n",
        "ebola.count()"
      ],
      "execution_count": 22,
      "outputs": [
        {
          "output_type": "execute_result",
          "data": {
            "text/plain": [
              "Date                   122\n",
              "Day                    122\n",
              "Cases_Guinea            93\n",
              "Cases_Liberia           83\n",
              "Cases_SierraLeone       87\n",
              "Cases_Nigeria           38\n",
              "Cases_Senegal           25\n",
              "Cases_UnitedStates      18\n",
              "Cases_Spain             16\n",
              "Cases_Mali              12\n",
              "Deaths_Guinea           92\n",
              "Deaths_Liberia          81\n",
              "Deaths_SierraLeone      87\n",
              "Deaths_Nigeria          38\n",
              "Deaths_Senegal          22\n",
              "Deaths_UnitedStates     18\n",
              "Deaths_Spain            16\n",
              "Deaths_Mali             12\n",
              "dtype: int64"
            ]
          },
          "metadata": {
            "tags": []
          },
          "execution_count": 22
        }
      ]
    },
    {
      "cell_type": "markdown",
      "metadata": {
        "id": "-H7t2n_2P3zA"
      },
      "source": [
        "사실 위의 결과만 잘 활용해도 누락값의 개수를 쉽게 구할 수 있다.\n",
        "\n",
        "shape[0]에 전체 행의 데이터 개수가 저장되어 있다는 점을 이용하여 shape[0]에서 누락값이 아닌 값의 개수를 빼면 누락값의 개수를 구할 수 있다."
      ]
    },
    {
      "cell_type": "code",
      "metadata": {
        "colab": {
          "base_uri": "https://localhost:8080/"
        },
        "id": "AulXM-YgPk_h",
        "outputId": "8288f0aa-0223-42a4-fc86-aaf8eb9e9f13"
      },
      "source": [
        "# shape[0] 이용하여 누락값 개수 구하기\n",
        "num_rows = ebola.shape[0]\n",
        "num_missing = num_rows - ebola.count()\n",
        "num_missing"
      ],
      "execution_count": 24,
      "outputs": [
        {
          "output_type": "execute_result",
          "data": {
            "text/plain": [
              "Date                     0\n",
              "Day                      0\n",
              "Cases_Guinea            29\n",
              "Cases_Liberia           39\n",
              "Cases_SierraLeone       35\n",
              "Cases_Nigeria           84\n",
              "Cases_Senegal           97\n",
              "Cases_UnitedStates     104\n",
              "Cases_Spain            106\n",
              "Cases_Mali             110\n",
              "Deaths_Guinea           30\n",
              "Deaths_Liberia          41\n",
              "Deaths_SierraLeone      35\n",
              "Deaths_Nigeria          84\n",
              "Deaths_Senegal         100\n",
              "Deaths_UnitedStates    104\n",
              "Deaths_Spain           106\n",
              "Deaths_Mali            110\n",
              "dtype: int64"
            ]
          },
          "metadata": {
            "tags": []
          },
          "execution_count": 24
        }
      ]
    },
    {
      "cell_type": "markdown",
      "metadata": {
        "id": "ddEyHjD3RzSu"
      },
      "source": [
        "#### (2) count_nonzero, isnull 메서드 이용"
      ]
    },
    {
      "cell_type": "markdown",
      "metadata": {
        "id": "4slL-_ILQbTW"
      },
      "source": [
        "count 메서드를 사용해도 되지만 **count_nonzero, isnull 메서드를 조합해도 누락값의 개수를 구할 수 있다.**\n",
        "\n",
        "(참고! count_nonzero 메서드는 배열에서 0이 아닌 값의 개수를 세는 메서드이다.)\n"
      ]
    },
    {
      "cell_type": "code",
      "metadata": {
        "colab": {
          "base_uri": "https://localhost:8080/"
        },
        "id": "5riE44PLPk9I",
        "outputId": "ab0f21b7-5325-45f4-f022-87c4c453f124"
      },
      "source": [
        "# 누락값의 개수 구하기 -> count_nonzero, isnull 메서드 이용\n",
        "import numpy as np\n",
        "print(np.count_nonzero(ebola.isnull()))\n",
        "print(\"-\"*50)\n",
        "print(np.count_nonzero(ebola['Cases_Guinea'].isnull()))"
      ],
      "execution_count": 25,
      "outputs": [
        {
          "output_type": "stream",
          "text": [
            "1214\n",
            "--------------------------------------------------\n",
            "29\n"
          ],
          "name": "stdout"
        }
      ]
    },
    {
      "cell_type": "markdown",
      "metadata": {
        "id": "5fPjEErxSBSH"
      },
      "source": [
        "#### (3) value_counts 메서드 이용"
      ]
    },
    {
      "cell_type": "markdown",
      "metadata": {
        "id": "WUosZWBFRbgC"
      },
      "source": [
        "시리즈에 포함된 **value_counts 메서드는 지정한 열의 빈도를 구하는 메서드**이다.\n",
        "\n",
        "value_counts 메서드를 사용해 Cases_Guinea 열의 누락값 개수를 구하려면 다음과 같이 입력한다."
      ]
    },
    {
      "cell_type": "code",
      "metadata": {
        "colab": {
          "base_uri": "https://localhost:8080/"
        },
        "id": "WdI2sb2SPk5Y",
        "outputId": "74fbb3b1-8c99-4ad1-c69d-44a8e4f3de73"
      },
      "source": [
        "# 누락값의 개수 구하기 -> value_counts 메서드 이용\n",
        "print(ebola.Cases_Guinea.value_counts(dropna=False).head())   ## dropna() : 결측치(누락데이터) 제거\n",
        "                                                        ## 여기서는 dropna=False 옵션을 줬으므로 누락데이터(NaN)의 개수도 함께 카운트해줌."
      ],
      "execution_count": 27,
      "outputs": [
        {
          "output_type": "stream",
          "text": [
            "NaN      29\n",
            "86.0      3\n",
            "495.0     2\n",
            "112.0     2\n",
            "390.0     2\n",
            "Name: Cases_Guinea, dtype: int64\n"
          ],
          "name": "stdout"
        }
      ]
    },
    {
      "cell_type": "markdown",
      "metadata": {
        "id": "lIoHSnoETuqd"
      },
      "source": [
        "### 6.1.4. 누락값 처리하기"
      ]
    },
    {
      "cell_type": "markdown",
      "metadata": {
        "id": "Dt-OaZjFT3my"
      },
      "source": [
        "누락값은 누락값을 임의의 값으로 변경하거나 데이터프레임에 이미 있는 값으로 대신 채우는 방법 등으로 처리할 수 있다. "
      ]
    },
    {
      "cell_type": "markdown",
      "metadata": {
        "id": "gDQRIQz9UA3t"
      },
      "source": [
        "#### (1) 누락값 변경하기"
      ]
    },
    {
      "cell_type": "markdown",
      "metadata": {
        "id": "CJnDfbD1UEB6"
      },
      "source": [
        "데이터프레임에 포함된 fillna 메서드에 0을 대입하면 누락값을 0으로 변경한다.\n",
        "\n",
        "fillna 메서드는 처리해야 하는 데이터프레임의 크기가 매우 크고 메모리를 효율적으로 사용해야하는 경우에 자주 사용하는 메서드이다."
      ]
    },
    {
      "cell_type": "markdown",
      "metadata": {
        "id": "Smu8wtqBUxK4"
      },
      "source": [
        "\n",
        "---\n",
        "\n",
        "*   loc - index로 행 데이터 추출\n",
        "*   iloc - integer로 행 데이터 추출\n",
        "\n",
        "\n",
        "\n"
      ]
    },
    {
      "cell_type": "code",
      "metadata": {
        "colab": {
          "base_uri": "https://localhost:8080/",
          "height": 359
        },
        "id": "P56DhBNnPky5",
        "outputId": "3aeae9b7-ad18-42e3-88d2-4b03b173dd51"
      },
      "source": [
        "# 누락값을 0으로 변경하기 -> .fillna(0)\n",
        "ebola.fillna(0).iloc[:10, :5]"
      ],
      "execution_count": 28,
      "outputs": [
        {
          "output_type": "execute_result",
          "data": {
            "text/html": [
              "<div>\n",
              "<style scoped>\n",
              "    .dataframe tbody tr th:only-of-type {\n",
              "        vertical-align: middle;\n",
              "    }\n",
              "\n",
              "    .dataframe tbody tr th {\n",
              "        vertical-align: top;\n",
              "    }\n",
              "\n",
              "    .dataframe thead th {\n",
              "        text-align: right;\n",
              "    }\n",
              "</style>\n",
              "<table border=\"1\" class=\"dataframe\">\n",
              "  <thead>\n",
              "    <tr style=\"text-align: right;\">\n",
              "      <th></th>\n",
              "      <th>Date</th>\n",
              "      <th>Day</th>\n",
              "      <th>Cases_Guinea</th>\n",
              "      <th>Cases_Liberia</th>\n",
              "      <th>Cases_SierraLeone</th>\n",
              "    </tr>\n",
              "  </thead>\n",
              "  <tbody>\n",
              "    <tr>\n",
              "      <th>0</th>\n",
              "      <td>1/5/2015</td>\n",
              "      <td>289</td>\n",
              "      <td>2776.0</td>\n",
              "      <td>0.0</td>\n",
              "      <td>10030.0</td>\n",
              "    </tr>\n",
              "    <tr>\n",
              "      <th>1</th>\n",
              "      <td>1/4/2015</td>\n",
              "      <td>288</td>\n",
              "      <td>2775.0</td>\n",
              "      <td>0.0</td>\n",
              "      <td>9780.0</td>\n",
              "    </tr>\n",
              "    <tr>\n",
              "      <th>2</th>\n",
              "      <td>1/3/2015</td>\n",
              "      <td>287</td>\n",
              "      <td>2769.0</td>\n",
              "      <td>8166.0</td>\n",
              "      <td>9722.0</td>\n",
              "    </tr>\n",
              "    <tr>\n",
              "      <th>3</th>\n",
              "      <td>1/2/2015</td>\n",
              "      <td>286</td>\n",
              "      <td>0.0</td>\n",
              "      <td>8157.0</td>\n",
              "      <td>0.0</td>\n",
              "    </tr>\n",
              "    <tr>\n",
              "      <th>4</th>\n",
              "      <td>12/31/2014</td>\n",
              "      <td>284</td>\n",
              "      <td>2730.0</td>\n",
              "      <td>8115.0</td>\n",
              "      <td>9633.0</td>\n",
              "    </tr>\n",
              "    <tr>\n",
              "      <th>5</th>\n",
              "      <td>12/28/2014</td>\n",
              "      <td>281</td>\n",
              "      <td>2706.0</td>\n",
              "      <td>8018.0</td>\n",
              "      <td>9446.0</td>\n",
              "    </tr>\n",
              "    <tr>\n",
              "      <th>6</th>\n",
              "      <td>12/27/2014</td>\n",
              "      <td>280</td>\n",
              "      <td>2695.0</td>\n",
              "      <td>0.0</td>\n",
              "      <td>9409.0</td>\n",
              "    </tr>\n",
              "    <tr>\n",
              "      <th>7</th>\n",
              "      <td>12/24/2014</td>\n",
              "      <td>277</td>\n",
              "      <td>2630.0</td>\n",
              "      <td>7977.0</td>\n",
              "      <td>9203.0</td>\n",
              "    </tr>\n",
              "    <tr>\n",
              "      <th>8</th>\n",
              "      <td>12/21/2014</td>\n",
              "      <td>273</td>\n",
              "      <td>2597.0</td>\n",
              "      <td>0.0</td>\n",
              "      <td>9004.0</td>\n",
              "    </tr>\n",
              "    <tr>\n",
              "      <th>9</th>\n",
              "      <td>12/20/2014</td>\n",
              "      <td>272</td>\n",
              "      <td>2571.0</td>\n",
              "      <td>7862.0</td>\n",
              "      <td>8939.0</td>\n",
              "    </tr>\n",
              "  </tbody>\n",
              "</table>\n",
              "</div>"
            ],
            "text/plain": [
              "         Date  Day  Cases_Guinea  Cases_Liberia  Cases_SierraLeone\n",
              "0    1/5/2015  289        2776.0            0.0            10030.0\n",
              "1    1/4/2015  288        2775.0            0.0             9780.0\n",
              "2    1/3/2015  287        2769.0         8166.0             9722.0\n",
              "3    1/2/2015  286           0.0         8157.0                0.0\n",
              "4  12/31/2014  284        2730.0         8115.0             9633.0\n",
              "5  12/28/2014  281        2706.0         8018.0             9446.0\n",
              "6  12/27/2014  280        2695.0            0.0             9409.0\n",
              "7  12/24/2014  277        2630.0         7977.0             9203.0\n",
              "8  12/21/2014  273        2597.0            0.0             9004.0\n",
              "9  12/20/2014  272        2571.0         7862.0             8939.0"
            ]
          },
          "metadata": {
            "tags": []
          },
          "execution_count": 28
        }
      ]
    },
    {
      "cell_type": "markdown",
      "metadata": {
        "id": "jIJN_LUDc2Gb"
      },
      "source": [
        "**fillna 메서드의 method 인자값을 ffill로 지정하면 누락값이 나타나기 전의 값으로 누락값이 변경된다.**\n",
        "\n",
        "예를 들어, 6행의 누락값은 누락값이 나타나기 전의 값인 5행의 값을 사용하여 누락값을 처리한다.\n",
        "\n",
        "하지만 0,1행은 처음부터 누락값이기 대문에 누락값이 그대로 남아 있다. "
      ]
    },
    {
      "cell_type": "code",
      "metadata": {
        "colab": {
          "base_uri": "https://localhost:8080/",
          "height": 359
        },
        "id": "orqmNmoDPkwG",
        "outputId": "e72b5356-3294-4697-f6fd-2689500bb1b3"
      },
      "source": [
        "# 이전 값으로 누락값을 변경하기 -> .fillna(method='ffill')\n",
        "ebola.fillna(method='ffill').iloc[:10, :5]"
      ],
      "execution_count": 30,
      "outputs": [
        {
          "output_type": "execute_result",
          "data": {
            "text/html": [
              "<div>\n",
              "<style scoped>\n",
              "    .dataframe tbody tr th:only-of-type {\n",
              "        vertical-align: middle;\n",
              "    }\n",
              "\n",
              "    .dataframe tbody tr th {\n",
              "        vertical-align: top;\n",
              "    }\n",
              "\n",
              "    .dataframe thead th {\n",
              "        text-align: right;\n",
              "    }\n",
              "</style>\n",
              "<table border=\"1\" class=\"dataframe\">\n",
              "  <thead>\n",
              "    <tr style=\"text-align: right;\">\n",
              "      <th></th>\n",
              "      <th>Date</th>\n",
              "      <th>Day</th>\n",
              "      <th>Cases_Guinea</th>\n",
              "      <th>Cases_Liberia</th>\n",
              "      <th>Cases_SierraLeone</th>\n",
              "    </tr>\n",
              "  </thead>\n",
              "  <tbody>\n",
              "    <tr>\n",
              "      <th>0</th>\n",
              "      <td>1/5/2015</td>\n",
              "      <td>289</td>\n",
              "      <td>2776.0</td>\n",
              "      <td>NaN</td>\n",
              "      <td>10030.0</td>\n",
              "    </tr>\n",
              "    <tr>\n",
              "      <th>1</th>\n",
              "      <td>1/4/2015</td>\n",
              "      <td>288</td>\n",
              "      <td>2775.0</td>\n",
              "      <td>NaN</td>\n",
              "      <td>9780.0</td>\n",
              "    </tr>\n",
              "    <tr>\n",
              "      <th>2</th>\n",
              "      <td>1/3/2015</td>\n",
              "      <td>287</td>\n",
              "      <td>2769.0</td>\n",
              "      <td>8166.0</td>\n",
              "      <td>9722.0</td>\n",
              "    </tr>\n",
              "    <tr>\n",
              "      <th>3</th>\n",
              "      <td>1/2/2015</td>\n",
              "      <td>286</td>\n",
              "      <td>2769.0</td>\n",
              "      <td>8157.0</td>\n",
              "      <td>9722.0</td>\n",
              "    </tr>\n",
              "    <tr>\n",
              "      <th>4</th>\n",
              "      <td>12/31/2014</td>\n",
              "      <td>284</td>\n",
              "      <td>2730.0</td>\n",
              "      <td>8115.0</td>\n",
              "      <td>9633.0</td>\n",
              "    </tr>\n",
              "    <tr>\n",
              "      <th>5</th>\n",
              "      <td>12/28/2014</td>\n",
              "      <td>281</td>\n",
              "      <td>2706.0</td>\n",
              "      <td>8018.0</td>\n",
              "      <td>9446.0</td>\n",
              "    </tr>\n",
              "    <tr>\n",
              "      <th>6</th>\n",
              "      <td>12/27/2014</td>\n",
              "      <td>280</td>\n",
              "      <td>2695.0</td>\n",
              "      <td>8018.0</td>\n",
              "      <td>9409.0</td>\n",
              "    </tr>\n",
              "    <tr>\n",
              "      <th>7</th>\n",
              "      <td>12/24/2014</td>\n",
              "      <td>277</td>\n",
              "      <td>2630.0</td>\n",
              "      <td>7977.0</td>\n",
              "      <td>9203.0</td>\n",
              "    </tr>\n",
              "    <tr>\n",
              "      <th>8</th>\n",
              "      <td>12/21/2014</td>\n",
              "      <td>273</td>\n",
              "      <td>2597.0</td>\n",
              "      <td>7977.0</td>\n",
              "      <td>9004.0</td>\n",
              "    </tr>\n",
              "    <tr>\n",
              "      <th>9</th>\n",
              "      <td>12/20/2014</td>\n",
              "      <td>272</td>\n",
              "      <td>2571.0</td>\n",
              "      <td>7862.0</td>\n",
              "      <td>8939.0</td>\n",
              "    </tr>\n",
              "  </tbody>\n",
              "</table>\n",
              "</div>"
            ],
            "text/plain": [
              "         Date  Day  Cases_Guinea  Cases_Liberia  Cases_SierraLeone\n",
              "0    1/5/2015  289        2776.0            NaN            10030.0\n",
              "1    1/4/2015  288        2775.0            NaN             9780.0\n",
              "2    1/3/2015  287        2769.0         8166.0             9722.0\n",
              "3    1/2/2015  286        2769.0         8157.0             9722.0\n",
              "4  12/31/2014  284        2730.0         8115.0             9633.0\n",
              "5  12/28/2014  281        2706.0         8018.0             9446.0\n",
              "6  12/27/2014  280        2695.0         8018.0             9409.0\n",
              "7  12/24/2014  277        2630.0         7977.0             9203.0\n",
              "8  12/21/2014  273        2597.0         7977.0             9004.0\n",
              "9  12/20/2014  272        2571.0         7862.0             8939.0"
            ]
          },
          "metadata": {
            "tags": []
          },
          "execution_count": 30
        }
      ]
    },
    {
      "cell_type": "markdown",
      "metadata": {
        "id": "WHwdANjbdaYG"
      },
      "source": [
        "**method 인자값을 bfill로 지정하면** 누락값이 나타난 **이후 값으로 앞쪽의 누락값이 모두 변경된다.**\n",
        "\n",
        "즉, 위의 과정과 반대 방향으로 누락값을 처리한다고 생각하면 된다.\n",
        "\n",
        "하지만 이 방법도 마지막 값이 누락값인 경우네는 처리하지 못한다는 단점이 있다."
      ]
    },
    {
      "cell_type": "code",
      "metadata": {
        "colab": {
          "base_uri": "https://localhost:8080/",
          "height": 359
        },
        "id": "NXJrxyCMPktt",
        "outputId": "099525a5-c29a-4c84-df3e-86cc16a8b1d6"
      },
      "source": [
        "# 이후 값으로 누락값을 변경하기 -> .fillna(method='bfill')\n",
        "ebola.fillna(method='bfill').iloc[:10, :5]"
      ],
      "execution_count": 29,
      "outputs": [
        {
          "output_type": "execute_result",
          "data": {
            "text/html": [
              "<div>\n",
              "<style scoped>\n",
              "    .dataframe tbody tr th:only-of-type {\n",
              "        vertical-align: middle;\n",
              "    }\n",
              "\n",
              "    .dataframe tbody tr th {\n",
              "        vertical-align: top;\n",
              "    }\n",
              "\n",
              "    .dataframe thead th {\n",
              "        text-align: right;\n",
              "    }\n",
              "</style>\n",
              "<table border=\"1\" class=\"dataframe\">\n",
              "  <thead>\n",
              "    <tr style=\"text-align: right;\">\n",
              "      <th></th>\n",
              "      <th>Date</th>\n",
              "      <th>Day</th>\n",
              "      <th>Cases_Guinea</th>\n",
              "      <th>Cases_Liberia</th>\n",
              "      <th>Cases_SierraLeone</th>\n",
              "    </tr>\n",
              "  </thead>\n",
              "  <tbody>\n",
              "    <tr>\n",
              "      <th>0</th>\n",
              "      <td>1/5/2015</td>\n",
              "      <td>289</td>\n",
              "      <td>2776.0</td>\n",
              "      <td>8166.0</td>\n",
              "      <td>10030.0</td>\n",
              "    </tr>\n",
              "    <tr>\n",
              "      <th>1</th>\n",
              "      <td>1/4/2015</td>\n",
              "      <td>288</td>\n",
              "      <td>2775.0</td>\n",
              "      <td>8166.0</td>\n",
              "      <td>9780.0</td>\n",
              "    </tr>\n",
              "    <tr>\n",
              "      <th>2</th>\n",
              "      <td>1/3/2015</td>\n",
              "      <td>287</td>\n",
              "      <td>2769.0</td>\n",
              "      <td>8166.0</td>\n",
              "      <td>9722.0</td>\n",
              "    </tr>\n",
              "    <tr>\n",
              "      <th>3</th>\n",
              "      <td>1/2/2015</td>\n",
              "      <td>286</td>\n",
              "      <td>2730.0</td>\n",
              "      <td>8157.0</td>\n",
              "      <td>9633.0</td>\n",
              "    </tr>\n",
              "    <tr>\n",
              "      <th>4</th>\n",
              "      <td>12/31/2014</td>\n",
              "      <td>284</td>\n",
              "      <td>2730.0</td>\n",
              "      <td>8115.0</td>\n",
              "      <td>9633.0</td>\n",
              "    </tr>\n",
              "    <tr>\n",
              "      <th>5</th>\n",
              "      <td>12/28/2014</td>\n",
              "      <td>281</td>\n",
              "      <td>2706.0</td>\n",
              "      <td>8018.0</td>\n",
              "      <td>9446.0</td>\n",
              "    </tr>\n",
              "    <tr>\n",
              "      <th>6</th>\n",
              "      <td>12/27/2014</td>\n",
              "      <td>280</td>\n",
              "      <td>2695.0</td>\n",
              "      <td>7977.0</td>\n",
              "      <td>9409.0</td>\n",
              "    </tr>\n",
              "    <tr>\n",
              "      <th>7</th>\n",
              "      <td>12/24/2014</td>\n",
              "      <td>277</td>\n",
              "      <td>2630.0</td>\n",
              "      <td>7977.0</td>\n",
              "      <td>9203.0</td>\n",
              "    </tr>\n",
              "    <tr>\n",
              "      <th>8</th>\n",
              "      <td>12/21/2014</td>\n",
              "      <td>273</td>\n",
              "      <td>2597.0</td>\n",
              "      <td>7862.0</td>\n",
              "      <td>9004.0</td>\n",
              "    </tr>\n",
              "    <tr>\n",
              "      <th>9</th>\n",
              "      <td>12/20/2014</td>\n",
              "      <td>272</td>\n",
              "      <td>2571.0</td>\n",
              "      <td>7862.0</td>\n",
              "      <td>8939.0</td>\n",
              "    </tr>\n",
              "  </tbody>\n",
              "</table>\n",
              "</div>"
            ],
            "text/plain": [
              "         Date  Day  Cases_Guinea  Cases_Liberia  Cases_SierraLeone\n",
              "0    1/5/2015  289        2776.0         8166.0            10030.0\n",
              "1    1/4/2015  288        2775.0         8166.0             9780.0\n",
              "2    1/3/2015  287        2769.0         8166.0             9722.0\n",
              "3    1/2/2015  286        2730.0         8157.0             9633.0\n",
              "4  12/31/2014  284        2730.0         8115.0             9633.0\n",
              "5  12/28/2014  281        2706.0         8018.0             9446.0\n",
              "6  12/27/2014  280        2695.0         7977.0             9409.0\n",
              "7  12/24/2014  277        2630.0         7977.0             9203.0\n",
              "8  12/21/2014  273        2597.0         7862.0             9004.0\n",
              "9  12/20/2014  272        2571.0         7862.0             8939.0"
            ]
          },
          "metadata": {
            "tags": []
          },
          "execution_count": 29
        }
      ]
    },
    {
      "cell_type": "markdown",
      "metadata": {
        "id": "FDkGRf9ydx35"
      },
      "source": [
        "위의 두번째, 세번째 과정에서는 데이터프레임의 값을 그대로 사용하여 누락값을 처리했다.\n",
        "\n",
        "\n",
        "---\n",
        "\n",
        "\n",
        "이번에는 **interpolate 메서드를 이용하여 누락값 양쪽에 있는 값으로 중간값을 구한 다음 누락값을 처리**해보자.\n",
        "\n",
        "-> 이렇게 하면 데이터프레임이 일정한 간격을 유지하고 있는 것처럼 수정할 수 있다."
      ]
    },
    {
      "cell_type": "code",
      "metadata": {
        "colab": {
          "base_uri": "https://localhost:8080/",
          "height": 359
        },
        "id": "lqJ9NqQuPkp7",
        "outputId": "a678b6ab-fa8f-4e01-af0b-292ce58647c2"
      },
      "source": [
        "# 이후 값으로 누락값을 변경하기 -> .interpolate()\n",
        "ebola.interpolate().iloc[:10, :5]"
      ],
      "execution_count": 31,
      "outputs": [
        {
          "output_type": "execute_result",
          "data": {
            "text/html": [
              "<div>\n",
              "<style scoped>\n",
              "    .dataframe tbody tr th:only-of-type {\n",
              "        vertical-align: middle;\n",
              "    }\n",
              "\n",
              "    .dataframe tbody tr th {\n",
              "        vertical-align: top;\n",
              "    }\n",
              "\n",
              "    .dataframe thead th {\n",
              "        text-align: right;\n",
              "    }\n",
              "</style>\n",
              "<table border=\"1\" class=\"dataframe\">\n",
              "  <thead>\n",
              "    <tr style=\"text-align: right;\">\n",
              "      <th></th>\n",
              "      <th>Date</th>\n",
              "      <th>Day</th>\n",
              "      <th>Cases_Guinea</th>\n",
              "      <th>Cases_Liberia</th>\n",
              "      <th>Cases_SierraLeone</th>\n",
              "    </tr>\n",
              "  </thead>\n",
              "  <tbody>\n",
              "    <tr>\n",
              "      <th>0</th>\n",
              "      <td>1/5/2015</td>\n",
              "      <td>289</td>\n",
              "      <td>2776.0</td>\n",
              "      <td>NaN</td>\n",
              "      <td>10030.0</td>\n",
              "    </tr>\n",
              "    <tr>\n",
              "      <th>1</th>\n",
              "      <td>1/4/2015</td>\n",
              "      <td>288</td>\n",
              "      <td>2775.0</td>\n",
              "      <td>NaN</td>\n",
              "      <td>9780.0</td>\n",
              "    </tr>\n",
              "    <tr>\n",
              "      <th>2</th>\n",
              "      <td>1/3/2015</td>\n",
              "      <td>287</td>\n",
              "      <td>2769.0</td>\n",
              "      <td>8166.0</td>\n",
              "      <td>9722.0</td>\n",
              "    </tr>\n",
              "    <tr>\n",
              "      <th>3</th>\n",
              "      <td>1/2/2015</td>\n",
              "      <td>286</td>\n",
              "      <td>2749.5</td>\n",
              "      <td>8157.0</td>\n",
              "      <td>9677.5</td>\n",
              "    </tr>\n",
              "    <tr>\n",
              "      <th>4</th>\n",
              "      <td>12/31/2014</td>\n",
              "      <td>284</td>\n",
              "      <td>2730.0</td>\n",
              "      <td>8115.0</td>\n",
              "      <td>9633.0</td>\n",
              "    </tr>\n",
              "    <tr>\n",
              "      <th>5</th>\n",
              "      <td>12/28/2014</td>\n",
              "      <td>281</td>\n",
              "      <td>2706.0</td>\n",
              "      <td>8018.0</td>\n",
              "      <td>9446.0</td>\n",
              "    </tr>\n",
              "    <tr>\n",
              "      <th>6</th>\n",
              "      <td>12/27/2014</td>\n",
              "      <td>280</td>\n",
              "      <td>2695.0</td>\n",
              "      <td>7997.5</td>\n",
              "      <td>9409.0</td>\n",
              "    </tr>\n",
              "    <tr>\n",
              "      <th>7</th>\n",
              "      <td>12/24/2014</td>\n",
              "      <td>277</td>\n",
              "      <td>2630.0</td>\n",
              "      <td>7977.0</td>\n",
              "      <td>9203.0</td>\n",
              "    </tr>\n",
              "    <tr>\n",
              "      <th>8</th>\n",
              "      <td>12/21/2014</td>\n",
              "      <td>273</td>\n",
              "      <td>2597.0</td>\n",
              "      <td>7919.5</td>\n",
              "      <td>9004.0</td>\n",
              "    </tr>\n",
              "    <tr>\n",
              "      <th>9</th>\n",
              "      <td>12/20/2014</td>\n",
              "      <td>272</td>\n",
              "      <td>2571.0</td>\n",
              "      <td>7862.0</td>\n",
              "      <td>8939.0</td>\n",
              "    </tr>\n",
              "  </tbody>\n",
              "</table>\n",
              "</div>"
            ],
            "text/plain": [
              "         Date  Day  Cases_Guinea  Cases_Liberia  Cases_SierraLeone\n",
              "0    1/5/2015  289        2776.0            NaN            10030.0\n",
              "1    1/4/2015  288        2775.0            NaN             9780.0\n",
              "2    1/3/2015  287        2769.0         8166.0             9722.0\n",
              "3    1/2/2015  286        2749.5         8157.0             9677.5\n",
              "4  12/31/2014  284        2730.0         8115.0             9633.0\n",
              "5  12/28/2014  281        2706.0         8018.0             9446.0\n",
              "6  12/27/2014  280        2695.0         7997.5             9409.0\n",
              "7  12/24/2014  277        2630.0         7977.0             9203.0\n",
              "8  12/21/2014  273        2597.0         7919.5             9004.0\n",
              "9  12/20/2014  272        2571.0         7862.0             8939.0"
            ]
          },
          "metadata": {
            "tags": []
          },
          "execution_count": 31
        }
      ]
    },
    {
      "cell_type": "markdown",
      "metadata": {
        "id": "qgoYJG4TeIxL"
      },
      "source": [
        "#### (2) 누락값 삭제하기"
      ]
    },
    {
      "cell_type": "markdown",
      "metadata": {
        "id": "XcEl1Jp5fI-D"
      },
      "source": [
        "누락값이 필요 없을 경우에는 누락값을 삭제해도 된다.\n",
        "\n",
        "하지만 누락값을 무작정 삭제하면 데이터가 너무 편향되거나 데이터의 개수가 너무 적어질 수도 있다.\n",
        "\n",
        "그래서 누락값을 삭제할 때는 분석하는 사람이 잘 판단하는 것이 중요하다."
      ]
    },
    {
      "cell_type": "code",
      "metadata": {
        "colab": {
          "base_uri": "https://localhost:8080/"
        },
        "id": "fdYLVHp2Pknq",
        "outputId": "0392f9c7-5aa2-49bd-c59a-24b48f655ed9"
      },
      "source": [
        "# 누락값 삭제 전 데이터 구조 확인하기\n",
        "ebola.shape"
      ],
      "execution_count": 32,
      "outputs": [
        {
          "output_type": "execute_result",
          "data": {
            "text/plain": [
              "(122, 18)"
            ]
          },
          "metadata": {
            "tags": []
          },
          "execution_count": 32
        }
      ]
    },
    {
      "cell_type": "markdown",
      "metadata": {
        "id": "eHrNEozdfeEd"
      },
      "source": [
        "**누락값을 삭제하기 위해 dropna 메서드를 사용**할 것이다. 누락값이 포함된 행들이 모두 삭제되기 때문에 많은 데이터가 삭제된다."
      ]
    },
    {
      "cell_type": "code",
      "metadata": {
        "colab": {
          "base_uri": "https://localhost:8080/"
        },
        "id": "6ZqbNCrMeLT_",
        "outputId": "4567fb94-7e05-4860-c9cb-afd941350adc"
      },
      "source": [
        "# 누락값 삭제 후 데이터 구조 확인하기\n",
        "ebola_dropna = ebola.dropna()\n",
        "ebola_dropna.shape"
      ],
      "execution_count": 33,
      "outputs": [
        {
          "output_type": "execute_result",
          "data": {
            "text/plain": [
              "(1, 18)"
            ]
          },
          "metadata": {
            "tags": []
          },
          "execution_count": 33
        }
      ]
    },
    {
      "cell_type": "markdown",
      "metadata": {
        "id": "0cbWuXbBfwl6"
      },
      "source": [
        "-> 데이터의 행이 122에서 1로 변경되었음을 확인할 수 있다."
      ]
    },
    {
      "cell_type": "code",
      "metadata": {
        "colab": {
          "base_uri": "https://localhost:8080/",
          "height": 100
        },
        "id": "SCdKUvdsPkl5",
        "outputId": "1bd9bfbe-05b8-478c-afc1-0cd7cbd09c77"
      },
      "source": [
        "# 데이터 확인\n",
        "ebola_dropna"
      ],
      "execution_count": 34,
      "outputs": [
        {
          "output_type": "execute_result",
          "data": {
            "text/html": [
              "<div>\n",
              "<style scoped>\n",
              "    .dataframe tbody tr th:only-of-type {\n",
              "        vertical-align: middle;\n",
              "    }\n",
              "\n",
              "    .dataframe tbody tr th {\n",
              "        vertical-align: top;\n",
              "    }\n",
              "\n",
              "    .dataframe thead th {\n",
              "        text-align: right;\n",
              "    }\n",
              "</style>\n",
              "<table border=\"1\" class=\"dataframe\">\n",
              "  <thead>\n",
              "    <tr style=\"text-align: right;\">\n",
              "      <th></th>\n",
              "      <th>Date</th>\n",
              "      <th>Day</th>\n",
              "      <th>Cases_Guinea</th>\n",
              "      <th>Cases_Liberia</th>\n",
              "      <th>Cases_SierraLeone</th>\n",
              "      <th>Cases_Nigeria</th>\n",
              "      <th>Cases_Senegal</th>\n",
              "      <th>Cases_UnitedStates</th>\n",
              "      <th>Cases_Spain</th>\n",
              "      <th>Cases_Mali</th>\n",
              "      <th>Deaths_Guinea</th>\n",
              "      <th>Deaths_Liberia</th>\n",
              "      <th>Deaths_SierraLeone</th>\n",
              "      <th>Deaths_Nigeria</th>\n",
              "      <th>Deaths_Senegal</th>\n",
              "      <th>Deaths_UnitedStates</th>\n",
              "      <th>Deaths_Spain</th>\n",
              "      <th>Deaths_Mali</th>\n",
              "    </tr>\n",
              "  </thead>\n",
              "  <tbody>\n",
              "    <tr>\n",
              "      <th>19</th>\n",
              "      <td>11/18/2014</td>\n",
              "      <td>241</td>\n",
              "      <td>2047.0</td>\n",
              "      <td>7082.0</td>\n",
              "      <td>6190.0</td>\n",
              "      <td>20.0</td>\n",
              "      <td>1.0</td>\n",
              "      <td>4.0</td>\n",
              "      <td>1.0</td>\n",
              "      <td>6.0</td>\n",
              "      <td>1214.0</td>\n",
              "      <td>2963.0</td>\n",
              "      <td>1267.0</td>\n",
              "      <td>8.0</td>\n",
              "      <td>0.0</td>\n",
              "      <td>1.0</td>\n",
              "      <td>0.0</td>\n",
              "      <td>6.0</td>\n",
              "    </tr>\n",
              "  </tbody>\n",
              "</table>\n",
              "</div>"
            ],
            "text/plain": [
              "          Date  Day  ...  Deaths_Spain  Deaths_Mali\n",
              "19  11/18/2014  241  ...           0.0          6.0\n",
              "\n",
              "[1 rows x 18 columns]"
            ]
          },
          "metadata": {
            "tags": []
          },
          "execution_count": 34
        }
      ]
    },
    {
      "cell_type": "markdown",
      "metadata": {
        "id": "s2dO83cegDzB"
      },
      "source": [
        "### 6.1.5. 누락값이 포함된 데이터 계산하기"
      ]
    },
    {
      "cell_type": "markdown",
      "metadata": {
        "id": "v_F9EDPZgIkx"
      },
      "source": [
        "만약 누락값이 포함된 데이터를 계산하려면 어떻게 해야 할까? 다음은 여러 지역에서 발생한 ebola 발병 수를 구하는 실습이다. \n",
        "\n",
        "ebola 데이터프레임에는 누락값이 많다.\n",
        "\n",
        "---\n",
        "\n",
        "Guinea, Liberia, SierraLeone 열에는 누락값들이 존재한다.\n",
        "\n",
        "만약 누락값이 존재하는 Guinea, Liberia, SierraLeone 열을 가지고 ebola 발병 수의 합을 계산하면 어떻게 될까? \n",
        "\n",
        "일단 Cases_Guinea, Cases_Liberia, Cases_SierraLeone 열을 더하여 Cases_multiple 열을 만들어보자!\n",
        "\n"
      ]
    },
    {
      "cell_type": "code",
      "metadata": {
        "id": "GOR4EKjDPkjO"
      },
      "source": [
        "# 모든 열을 합한 새로운 열 생성\n",
        "ebola['Cases_multiple'] = ebola['Cases_Guinea'] + ebola['Cases_Liberia'] + ebola['Cases_SierraLeone']"
      ],
      "execution_count": 35,
      "outputs": []
    },
    {
      "cell_type": "markdown",
      "metadata": {
        "id": "ryMCUYvshqa0"
      },
      "source": [
        "위의 과정에서 계산한 Cases_multiple 열을 포함하여 ebola_subset이라는 데이터프레임을 새로 만들어서 어떤 값이 존재하는지 확인해보자. \n",
        "\n",
        "Cases_Guinea, Cases_Liberia, Cases_SierraLeone에서 **누락값이 하나라도 있는 행은 계산 결과**(Cases_multiple)가 **NaN이 되었음을 알 수 있다.** \n",
        "\n",
        "**즉, 계산 결과 누락값이 더 많이 생겼다.** \n"
      ]
    },
    {
      "cell_type": "code",
      "metadata": {
        "colab": {
          "base_uri": "https://localhost:8080/",
          "height": 359
        },
        "id": "RY0omHJcPdNJ",
        "outputId": "d6ff95c0-8c00-4389-fec8-37985fd8fc58"
      },
      "source": [
        "# 데이터 확인\n",
        "ebola_subset = ebola.loc[:, ['Cases_Guinea', 'Cases_Liberia', 'Cases_SierraLeone', 'Cases_multiple']]\n",
        "ebola_subset.head(n=10)"
      ],
      "execution_count": 38,
      "outputs": [
        {
          "output_type": "execute_result",
          "data": {
            "text/html": [
              "<div>\n",
              "<style scoped>\n",
              "    .dataframe tbody tr th:only-of-type {\n",
              "        vertical-align: middle;\n",
              "    }\n",
              "\n",
              "    .dataframe tbody tr th {\n",
              "        vertical-align: top;\n",
              "    }\n",
              "\n",
              "    .dataframe thead th {\n",
              "        text-align: right;\n",
              "    }\n",
              "</style>\n",
              "<table border=\"1\" class=\"dataframe\">\n",
              "  <thead>\n",
              "    <tr style=\"text-align: right;\">\n",
              "      <th></th>\n",
              "      <th>Cases_Guinea</th>\n",
              "      <th>Cases_Liberia</th>\n",
              "      <th>Cases_SierraLeone</th>\n",
              "      <th>Cases_multiple</th>\n",
              "    </tr>\n",
              "  </thead>\n",
              "  <tbody>\n",
              "    <tr>\n",
              "      <th>0</th>\n",
              "      <td>2776.0</td>\n",
              "      <td>NaN</td>\n",
              "      <td>10030.0</td>\n",
              "      <td>NaN</td>\n",
              "    </tr>\n",
              "    <tr>\n",
              "      <th>1</th>\n",
              "      <td>2775.0</td>\n",
              "      <td>NaN</td>\n",
              "      <td>9780.0</td>\n",
              "      <td>NaN</td>\n",
              "    </tr>\n",
              "    <tr>\n",
              "      <th>2</th>\n",
              "      <td>2769.0</td>\n",
              "      <td>8166.0</td>\n",
              "      <td>9722.0</td>\n",
              "      <td>20657.0</td>\n",
              "    </tr>\n",
              "    <tr>\n",
              "      <th>3</th>\n",
              "      <td>NaN</td>\n",
              "      <td>8157.0</td>\n",
              "      <td>NaN</td>\n",
              "      <td>NaN</td>\n",
              "    </tr>\n",
              "    <tr>\n",
              "      <th>4</th>\n",
              "      <td>2730.0</td>\n",
              "      <td>8115.0</td>\n",
              "      <td>9633.0</td>\n",
              "      <td>20478.0</td>\n",
              "    </tr>\n",
              "    <tr>\n",
              "      <th>5</th>\n",
              "      <td>2706.0</td>\n",
              "      <td>8018.0</td>\n",
              "      <td>9446.0</td>\n",
              "      <td>20170.0</td>\n",
              "    </tr>\n",
              "    <tr>\n",
              "      <th>6</th>\n",
              "      <td>2695.0</td>\n",
              "      <td>NaN</td>\n",
              "      <td>9409.0</td>\n",
              "      <td>NaN</td>\n",
              "    </tr>\n",
              "    <tr>\n",
              "      <th>7</th>\n",
              "      <td>2630.0</td>\n",
              "      <td>7977.0</td>\n",
              "      <td>9203.0</td>\n",
              "      <td>19810.0</td>\n",
              "    </tr>\n",
              "    <tr>\n",
              "      <th>8</th>\n",
              "      <td>2597.0</td>\n",
              "      <td>NaN</td>\n",
              "      <td>9004.0</td>\n",
              "      <td>NaN</td>\n",
              "    </tr>\n",
              "    <tr>\n",
              "      <th>9</th>\n",
              "      <td>2571.0</td>\n",
              "      <td>7862.0</td>\n",
              "      <td>8939.0</td>\n",
              "      <td>19372.0</td>\n",
              "    </tr>\n",
              "  </tbody>\n",
              "</table>\n",
              "</div>"
            ],
            "text/plain": [
              "   Cases_Guinea  Cases_Liberia  Cases_SierraLeone  Cases_multiple\n",
              "0        2776.0            NaN            10030.0             NaN\n",
              "1        2775.0            NaN             9780.0             NaN\n",
              "2        2769.0         8166.0             9722.0         20657.0\n",
              "3           NaN         8157.0                NaN             NaN\n",
              "4        2730.0         8115.0             9633.0         20478.0\n",
              "5        2706.0         8018.0             9446.0         20170.0\n",
              "6        2695.0            NaN             9409.0             NaN\n",
              "7        2630.0         7977.0             9203.0         19810.0\n",
              "8        2597.0            NaN             9004.0             NaN\n",
              "9        2571.0         7862.0             8939.0         19372.0"
            ]
          },
          "metadata": {
            "tags": []
          },
          "execution_count": 38
        }
      ]
    },
    {
      "cell_type": "markdown",
      "metadata": {
        "id": "E6k2Bee2idvN"
      },
      "source": [
        "Cases_multiple 열을 **sum 메서드**를 사용해 더하면 세 지역의 ebola 발병 수의 **합을 구할 수 있다.**\n",
        "\n",
        "이때 **sum 메서드를 그냥 사용하면 누락값을 포함해 계산한다. 따라서 결과값도 누락값이 된다.**\n",
        "\n",
        "따라서 **누락값을 무시한 채 계산하기 위해서는 skipna 인자값을 True로 설정해야한다.**"
      ]
    },
    {
      "cell_type": "code",
      "metadata": {
        "colab": {
          "base_uri": "https://localhost:8080/"
        },
        "id": "Tsp5AGXuhRb0",
        "outputId": "ef83985c-d5d5-419c-b38f-18bcf9792f0b"
      },
      "source": [
        "print(ebola.Cases_Guinea.sum(skipna = True))\n",
        "print(\"-\"*50)\n",
        "print(ebola.Cases_Guinea.sum(skipna = False))"
      ],
      "execution_count": 39,
      "outputs": [
        {
          "output_type": "stream",
          "text": [
            "84729.0\n",
            "--------------------------------------------------\n",
            "nan\n"
          ],
          "name": "stdout"
        }
      ]
    },
    {
      "cell_type": "markdown",
      "metadata": {
        "id": "kYeVg8fTjSB-"
      },
      "source": [
        "이번 6장에서는 누락값을 처리하는 방법에 대해 살펴보았다. 데이터 분석 분야에서 누락값을 처리하는 능력은 매우 중요하다. \n",
        "\n",
        "누락값은 언제 어디서든 생길 수 있기 때문에 처리방법을 반드시 알아두어야 한다!"
      ]
    }
  ]
}